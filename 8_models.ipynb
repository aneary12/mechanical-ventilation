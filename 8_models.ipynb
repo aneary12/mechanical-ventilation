{
 "cells": [
  {
   "cell_type": "code",
   "execution_count": 1,
   "metadata": {},
   "outputs": [
    {
     "name": "stderr",
     "output_type": "stream",
     "text": [
      "Using TensorFlow backend.\n"
     ]
    }
   ],
   "source": [
    "# Import libraries\n",
    "import numpy as np\n",
    "import tensorflow as tf\n",
    "import os.path\n",
    "from sklearn import preprocessing\n",
    "from keras.models import Sequential\n",
    "from keras.layers import GRU, Flatten, Dropout, Dense, BatchNormalization, Activation\n",
    "from keras.callbacks import EarlyStopping\n",
    "from keras import optimizers\n",
    "from keras import metrics\n",
    "import itertools\n",
    "import matplotlib.pyplot as plt\n",
    "from sklearn.metrics import confusion_matrix, classification_report\n",
    "%matplotlib inline\n",
    "os.chdir('C:\\\\Users\\\\anear\\\\OneDrive - National University of Ireland, Galway\\\\PhD\\\\Research Projects\\\\Ventilation Project')"
   ]
  },
  {
   "cell_type": "code",
   "execution_count": 2,
   "metadata": {},
   "outputs": [
    {
     "name": "stdout",
     "output_type": "stream",
     "text": [
      "WARNING:tensorflow:From C:\\Users\\anear\\Anaconda3\\lib\\site-packages\\keras\\backend\\tensorflow_backend.py:3172: add_dispatch_support.<locals>.wrapper (from tensorflow.python.ops.array_ops) is deprecated and will be removed in a future version.\n",
      "Instructions for updating:\n",
      "Use tf.where in 2.0, which has the same broadcast rule as np.where\n",
      "Model: \"sequential_1\"\n",
      "_________________________________________________________________\n",
      "Layer (type)                 Output Shape              Param #   \n",
      "=================================================================\n",
      "gru_1 (GRU)                  (None, 24, 30)            6120      \n",
      "_________________________________________________________________\n",
      "flatten_1 (Flatten)          (None, 720)               0         \n",
      "_________________________________________________________________\n",
      "dropout_1 (Dropout)          (None, 720)               0         \n",
      "_________________________________________________________________\n",
      "dense_1 (Dense)              (None, 40)                28840     \n",
      "_________________________________________________________________\n",
      "dropout_2 (Dropout)          (None, 40)                0         \n",
      "_________________________________________________________________\n",
      "dense_2 (Dense)              (None, 1)                 41        \n",
      "_________________________________________________________________\n",
      "batch_normalization_1 (Batch (None, 1)                 4         \n",
      "_________________________________________________________________\n",
      "activation_1 (Activation)    (None, 1)                 0         \n",
      "=================================================================\n",
      "Total params: 35,005\n",
      "Trainable params: 35,003\n",
      "Non-trainable params: 2\n",
      "_________________________________________________________________\n",
      "None\n"
     ]
    }
   ],
   "source": [
    "# Define model architecture\n",
    "model = Sequential()\n",
    "model.add(GRU(30, return_sequences=True, input_shape=(24,37)))\n",
    "model.add(Flatten())\n",
    "model.add(Dropout(0.1))\n",
    "model.add(Dense(40, activation = \"sigmoid\"))\n",
    "model.add(Dropout(0.1))\n",
    "model.add(Dense(1, activation = \"sigmoid\"))\n",
    "model.add(BatchNormalization())\n",
    "model.add((Activation('sigmoid')))\n",
    "\n",
    "# Compile model\n",
    "model.compile(loss='binary_crossentropy', optimizer=optimizers.Adam(learning_rate=0.001), metrics=[metrics.AUC()])\n",
    "\n",
    "# Print model summary\n",
    "print(model.summary())"
   ]
  },
  {
   "cell_type": "code",
   "execution_count": 3,
   "metadata": {},
   "outputs": [
    {
     "name": "stdout",
     "output_type": "stream",
     "text": [
      "Loaded!\n"
     ]
    }
   ],
   "source": [
    "# Load the data\n",
    "_data = np.load('data/ML_data.npy', allow_pickle=True).tolist()\n",
    "X_train = _data['X_6h_train_norm']\n",
    "reint_train = _data['reint_6h_train']\n",
    "y_train = _data['y_6h_train']\n",
    "X_val = _data['X_6h_val_norm']\n",
    "y_val = _data['y_6h_val']\n",
    "reint_val = _data['reint_6h_val']\n",
    "X_test = _data['X_6h_test_norm']\n",
    "y_test = _data['y_6h_test']\n",
    "reint_test = _data['reint_6h_test']\n",
    "print(\"Loaded!\")"
   ]
  },
  {
   "cell_type": "code",
   "execution_count": 4,
   "metadata": {},
   "outputs": [
    {
     "name": "stdout",
     "output_type": "stream",
     "text": [
      "No. of patients: 8966\n",
      "No. of patients in train, val, test sets: 7172, 897, 897\n",
      "No. of extubation failures in train, val, test sets: 2636.0, 325.0, 320.0\n",
      "Proportion of extubation failures in train, val, test sets: 36.754%, 36.232%, 35.674%\n"
     ]
    }
   ],
   "source": [
    "# Print information about data\n",
    "print(\"No. of patients: {}\".format(len(y_train)+len(y_val)+len(y_test)))\n",
    "print(\"No. of patients in train, val, test sets: {}, {}, {}\".format(len(X_train), len(X_val), len(X_test)))\n",
    "print(\"No. of extubation failures in train, val, test sets: {}, {}, {}\".format(str(sum(y_train)), str(sum(y_val)), str(sum(y_test))))\n",
    "print(\"Proportion of extubation failures in train, val, test sets: {}%, {}%, {}%\".format(round(sum(y_train)/len(y_train)*100,3), round(sum(y_val)/len(y_val)*100,3), round(sum(y_test)/len(y_test)*100,3)))"
   ]
  },
  {
   "cell_type": "code",
   "execution_count": 5,
   "metadata": {},
   "outputs": [],
   "source": [
    "# Remove patients who were re-intubated after 5 days\n",
    "X_train = X_train[reint_train.astype(int)]\n",
    "y_train = y_train[reint_train.astype(int)]\n",
    "X_val = X_val[reint_val.astype(int)]\n",
    "y_val = y_val[reint_val.astype(int)]\n",
    "X_test = X_test[reint_test.astype(int)]\n",
    "y_test = y_test[reint_test.astype(int)]"
   ]
  },
  {
   "cell_type": "code",
   "execution_count": 6,
   "metadata": {},
   "outputs": [],
   "source": [
    "# Reshape the input tensors so they are in the shape (m,T,n) to fit Keras standards\n",
    "X_train = np.transpose(X_train, (0,2,1))\n",
    "X_val = np.transpose(X_val, (0,2,1))\n",
    "X_test = np.transpose(X_test, (0,2,1))"
   ]
  },
  {
   "cell_type": "code",
   "execution_count": 7,
   "metadata": {},
   "outputs": [
    {
     "name": "stdout",
     "output_type": "stream",
     "text": [
      "X_train: (7172, 24, 37)\n",
      "y_train: (7172,)\n",
      "X_val: (897, 24, 37)\n",
      "y_val: (897,)\n",
      "X_test: (897, 24, 37)\n",
      "y_test: (897,)\n"
     ]
    }
   ],
   "source": [
    "# Check the shapes of the arrays\n",
    "print(\"X_train: {}\".format(np.shape(X_train)))\n",
    "print(\"y_train: {}\".format(np.shape(y_train)))\n",
    "print(\"X_val: {}\".format(np.shape(X_val)))\n",
    "print(\"y_val: {}\".format(np.shape(y_val)))\n",
    "print(\"X_test: {}\".format(np.shape(X_test)))\n",
    "print(\"y_test: {}\".format(np.shape(y_test)))"
   ]
  },
  {
   "cell_type": "code",
   "execution_count": 8,
   "metadata": {},
   "outputs": [
    {
     "name": "stdout",
     "output_type": "stream",
     "text": [
      "WARNING:tensorflow:From C:\\Users\\anear\\Anaconda3\\lib\\site-packages\\keras\\backend\\tensorflow_backend.py:422: The name tf.global_variables is deprecated. Please use tf.compat.v1.global_variables instead.\n",
      "\n",
      "Train on 7172 samples, validate on 897 samples\n",
      "Epoch 1/250\n",
      "7172/7172 [==============================] - 2s 214us/step - loss: 0.6903 - auc_1: 0.0000e+00 - val_loss: 0.7535 - val_auc_1: 1.0000\n",
      "Epoch 2/250\n",
      "7172/7172 [==============================] - 1s 137us/step - loss: 0.6424 - auc_1: 0.0000e+00 - val_loss: 0.7181 - val_auc_1: 1.0000\n",
      "Epoch 3/250\n",
      "7172/7172 [==============================] - 1s 140us/step - loss: 0.6093 - auc_1: 0.0000e+00 - val_loss: 0.6955 - val_auc_1: 1.0000\n",
      "Epoch 4/250\n",
      "7172/7172 [==============================] - 1s 146us/step - loss: 0.5784 - auc_1: 0.0000e+00 - val_loss: 0.6848 - val_auc_1: 1.0000\n",
      "Epoch 5/250\n",
      "7172/7172 [==============================] - 1s 140us/step - loss: 0.5493 - auc_1: 0.0000e+00 - val_loss: 0.6810 - val_auc_1: 1.0000\n",
      "Epoch 6/250\n",
      "7172/7172 [==============================] - 1s 145us/step - loss: 0.5218 - auc_1: 0.0000e+00 - val_loss: 0.6895 - val_auc_1: 1.0000\n",
      "Epoch 7/250\n",
      "7172/7172 [==============================] - 1s 144us/step - loss: 0.4959 - auc_1: 0.0000e+00 - val_loss: 0.7081 - val_auc_1: 1.0000\n",
      "Epoch 8/250\n",
      "7172/7172 [==============================] - 1s 139us/step - loss: 0.4715 - auc_1: 0.0000e+00 - val_loss: 0.7372 - val_auc_1: 1.0000\n",
      "Epoch 9/250\n",
      "7172/7172 [==============================] - 1s 154us/step - loss: 0.4485 - auc_1: 0.0000e+00 - val_loss: 0.7669 - val_auc_1: 1.0000\n",
      "Epoch 10/250\n",
      "7172/7172 [==============================] - 1s 156us/step - loss: 0.4267 - auc_1: 0.0000e+00 - val_loss: 0.7798 - val_auc_1: 1.0000\n"
     ]
    }
   ],
   "source": [
    "# Define the early stopping callback\n",
    "es = EarlyStopping(monitor='val_loss', mode='min', patience=5)\n",
    "\n",
    "# Train the model\n",
    "history = model.fit(X_train, y_train, validation_data=(X_val,y_val), epochs=250, batch_size=100, verbose=1, callbacks=[es])"
   ]
  },
  {
   "cell_type": "code",
   "execution_count": 9,
   "metadata": {},
   "outputs": [
    {
     "data": {
      "image/png": "[encoded data removed]",
      "text/plain": [
       "<Figure size 720x432 with 2 Axes>"
      ]
     },
     "metadata": {
      "needs_background": "light"
     },
     "output_type": "display_data"
    }
   ],
   "source": [
    "# Create two subplots\n",
    "fig, (ax1, ax2) = plt.subplots(1, 2, sharex='col', figsize=(10,6))\n",
    "\n",
    "# PLot the loss\n",
    "ax1.plot(history.history['loss'])\n",
    "ax1.plot(history.history['val_loss'])\n",
    "ax1.set(title='Model Loss', ylabel='Loss (binary cross-entropy)', xlabel='Epoch')\n",
    "ax1.legend(['Training Set', 'Validation Set'], loc='upper right')\n",
    "\n",
    "# Plot the AUC\n",
    "ax2.plot(history.history['auc_1'])\n",
    "ax2.plot(history.history['val_auc_1'])\n",
    "ax2.set(title='AUROC', ylabel='AUC', xlabel='Epoch')\n",
    "ax2.legend(['Training Set', 'Validation Set'], loc='lower right')\n",
    "\n",
    "#plt.savefig('training.png', bbox_inches='tight')\n",
    "plt.show()"
   ]
  },
  {
   "cell_type": "code",
   "execution_count": 10,
   "metadata": {},
   "outputs": [
    {
     "name": "stderr",
     "output_type": "stream",
     "text": [
      "C:\\Users\\anear\\Anaconda3\\lib\\site-packages\\sklearn\\metrics\\ranking.py:651: UndefinedMetricWarning: No negative samples in y_true, false positive value should be meaningless\n",
      "  UndefinedMetricWarning)\n"
     ]
    }
   ],
   "source": [
    "# Calculate TPR and FPR on the test set for plotting the ROC curve\n",
    "from sklearn.metrics import roc_curve\n",
    "y_pred_6h_rnn = model.predict(X_test).ravel()\n",
    "fpr_6h_rnn, tpr_6h_rnn, thresholds = roc_curve(y_test, y_pred_6h_rnn)"
   ]
  },
  {
   "cell_type": "code",
   "execution_count": 11,
   "metadata": {},
   "outputs": [
    {
     "name": "stderr",
     "output_type": "stream",
     "text": [
      "C:\\Users\\anear\\Anaconda3\\lib\\site-packages\\sklearn\\metrics\\ranking.py:113: RuntimeWarning: invalid value encountered in less\n",
      "  if np.any(dx < 0):\n"
     ]
    }
   ],
   "source": [
    "# Calculate the AUROC for the test set using the RNN\n",
    "from sklearn.metrics import auc\n",
    "auc_6h_rnn = auc(fpr_6h_rnn, tpr_6h_rnn)"
   ]
  },
  {
   "cell_type": "code",
   "execution_count": 12,
   "metadata": {},
   "outputs": [
    {
     "name": "stdout",
     "output_type": "stream",
     "text": [
      "Model: \"sequential_2\"\n",
      "_________________________________________________________________\n",
      "Layer (type)                 Output Shape              Param #   \n",
      "=================================================================\n",
      "gru_2 (GRU)                  (None, 24, 30)            6120      \n",
      "_________________________________________________________________\n",
      "flatten_2 (Flatten)          (None, 720)               0         \n",
      "_________________________________________________________________\n",
      "dropout_3 (Dropout)          (None, 720)               0         \n",
      "_________________________________________________________________\n",
      "dense_3 (Dense)              (None, 40)                28840     \n",
      "_________________________________________________________________\n",
      "dropout_4 (Dropout)          (None, 40)                0         \n",
      "_________________________________________________________________\n",
      "dense_4 (Dense)              (None, 1)                 41        \n",
      "_________________________________________________________________\n",
      "batch_normalization_2 (Batch (None, 1)                 4         \n",
      "_________________________________________________________________\n",
      "activation_2 (Activation)    (None, 1)                 0         \n",
      "=================================================================\n",
      "Total params: 35,005\n",
      "Trainable params: 35,003\n",
      "Non-trainable params: 2\n",
      "_________________________________________________________________\n",
      "None\n"
     ]
    }
   ],
   "source": [
    "# Define model architecture\n",
    "model = Sequential()\n",
    "model.add(GRU(30, return_sequences=True, input_shape=(24,37)))\n",
    "model.add(Flatten())\n",
    "model.add(Dropout(0.1))\n",
    "model.add(Dense(40, activation = \"sigmoid\"))\n",
    "model.add(Dropout(0.1))\n",
    "model.add(Dense(1, activation = \"sigmoid\"))\n",
    "model.add(BatchNormalization())\n",
    "model.add((Activation('sigmoid')))\n",
    "\n",
    "# Compile model\n",
    "model.compile(loss='binary_crossentropy', optimizer=optimizers.Adam(learning_rate=0.001), metrics=[metrics.AUC()])\n",
    "\n",
    "# Print model summary\n",
    "print(model.summary())"
   ]
  },
  {
   "cell_type": "code",
   "execution_count": 13,
   "metadata": {},
   "outputs": [
    {
     "name": "stdout",
     "output_type": "stream",
     "text": [
      "Loaded!\n"
     ]
    }
   ],
   "source": [
    "# Load the data\n",
    "_data = np.load('data/ML_data.npy', allow_pickle=True).tolist()\n",
    "X_train = _data['X_12h_train_norm']\n",
    "reint_train = _data['reint_12h_train']\n",
    "y_train = _data['y_12h_train']\n",
    "X_val = _data['X_12h_val_norm']\n",
    "y_val = _data['y_12h_val']\n",
    "reint_val = _data['reint_12h_val']\n",
    "X_test = _data['X_12h_test_norm']\n",
    "y_test = _data['y_12h_test']\n",
    "reint_test = _data['reint_12h_test']\n",
    "print(\"Loaded!\")"
   ]
  },
  {
   "cell_type": "code",
   "execution_count": 14,
   "metadata": {},
   "outputs": [
    {
     "name": "stdout",
     "output_type": "stream",
     "text": [
      "No. of patients: 8966\n",
      "No. of patients in train, val, test sets: 7172, 897, 897\n",
      "No. of extubation failures in train, val, test sets: 2636.0, 325.0, 320.0\n",
      "Proportion of extubation failures in train, val, test sets: 36.754%, 36.232%, 35.674%\n"
     ]
    }
   ],
   "source": [
    "# Print information about data\n",
    "print(\"No. of patients: {}\".format(len(y_train)+len(y_val)+len(y_test)))\n",
    "print(\"No. of patients in train, val, test sets: {}, {}, {}\".format(len(X_train), len(X_val), len(X_test)))\n",
    "print(\"No. of extubation failures in train, val, test sets: {}, {}, {}\".format(str(sum(y_train)), str(sum(y_val)), str(sum(y_test))))\n",
    "print(\"Proportion of extubation failures in train, val, test sets: {}%, {}%, {}%\".format(round(sum(y_train)/len(y_train)*100,3), round(sum(y_val)/len(y_val)*100,3), round(sum(y_test)/len(y_test)*100,3)))"
   ]
  },
  {
   "cell_type": "code",
   "execution_count": 15,
   "metadata": {},
   "outputs": [],
   "source": [
    "# Remove patients who were re-intubated after 5 days\n",
    "X_train = X_train[reint_train.astype(int)]\n",
    "y_train = y_train[reint_train.astype(int)]\n",
    "X_val = X_val[reint_val.astype(int)]\n",
    "y_val = y_val[reint_val.astype(int)]\n",
    "X_test = X_test[reint_test.astype(int)]\n",
    "y_test = y_test[reint_test.astype(int)]"
   ]
  },
  {
   "cell_type": "code",
   "execution_count": 16,
   "metadata": {},
   "outputs": [],
   "source": [
    "# Reshape the input tensors so they are in the shape (m,T,n) to fit Keras standards\n",
    "X_train = np.transpose(X_train, (0,2,1))\n",
    "X_val = np.transpose(X_val, (0,2,1))\n",
    "X_test = np.transpose(X_test, (0,2,1))"
   ]
  },
  {
   "cell_type": "code",
   "execution_count": 17,
   "metadata": {},
   "outputs": [
    {
     "name": "stdout",
     "output_type": "stream",
     "text": [
      "X_train: (7172, 24, 37)\n",
      "y_train: (7172,)\n",
      "X_val: (897, 24, 37)\n",
      "y_val: (897,)\n",
      "X_test: (897, 24, 37)\n",
      "y_test: (897,)\n"
     ]
    }
   ],
   "source": [
    "# Check the shapes of the arrays\n",
    "print(\"X_train: {}\".format(np.shape(X_train)))\n",
    "print(\"y_train: {}\".format(np.shape(y_train)))\n",
    "print(\"X_val: {}\".format(np.shape(X_val)))\n",
    "print(\"y_val: {}\".format(np.shape(y_val)))\n",
    "print(\"X_test: {}\".format(np.shape(X_test)))\n",
    "print(\"y_test: {}\".format(np.shape(y_test)))"
   ]
  },
  {
   "cell_type": "code",
   "execution_count": 18,
   "metadata": {},
   "outputs": [
    {
     "name": "stdout",
     "output_type": "stream",
     "text": [
      "Train on 7172 samples, validate on 897 samples\n",
      "Epoch 1/250\n",
      "7172/7172 [==============================] - 2s 251us/step - loss: 0.6814 - auc_2: 0.0000e+00 - val_loss: 0.8364 - val_auc_2: 1.0000\n",
      "Epoch 2/250\n",
      "7172/7172 [==============================] - 1s 140us/step - loss: 0.6419 - auc_2: 0.0000e+00 - val_loss: 0.6523 - val_auc_2: 1.0000\n",
      "Epoch 3/250\n",
      "7172/7172 [==============================] - 1s 148us/step - loss: 0.6093 - auc_2: 0.0000e+00 - val_loss: 0.5077 - val_auc_2: 1.0000\n",
      "Epoch 4/250\n",
      "7172/7172 [==============================] - 1s 152us/step - loss: 0.5785 - auc_2: 0.0000e+00 - val_loss: 0.3886 - val_auc_2: 1.0000\n",
      "Epoch 5/250\n",
      "7172/7172 [==============================] - 1s 152us/step - loss: 0.5495 - auc_2: 0.0000e+00 - val_loss: 0.2917 - val_auc_2: 1.0000\n",
      "Epoch 6/250\n",
      "7172/7172 [==============================] - 1s 146us/step - loss: 0.5220 - auc_2: 0.0000e+00 - val_loss: 0.2058 - val_auc_2: 1.0000\n",
      "Epoch 7/250\n",
      "7172/7172 [==============================] - 1s 144us/step - loss: 0.4962 - auc_2: 0.0000e+00 - val_loss: 0.1367 - val_auc_2: 1.0000\n",
      "Epoch 8/250\n",
      "7172/7172 [==============================] - 1s 139us/step - loss: 0.4718 - auc_2: 0.0000e+00 - val_loss: 0.0864 - val_auc_2: 1.0000\n",
      "Epoch 9/250\n",
      "7172/7172 [==============================] - 1s 140us/step - loss: 0.4487 - auc_2: 0.0000e+00 - val_loss: 0.0553 - val_auc_2: 1.0000\n",
      "Epoch 10/250\n",
      "7172/7172 [==============================] - 1s 143us/step - loss: 0.4270 - auc_2: 0.0000e+00 - val_loss: 0.0391 - val_auc_2: 1.0000\n",
      "Epoch 11/250\n",
      "7172/7172 [==============================] - 1s 141us/step - loss: 0.4065 - auc_2: 0.0000e+00 - val_loss: 0.0316 - val_auc_2: 1.0000\n",
      "Epoch 12/250\n",
      "7172/7172 [==============================] - 1s 143us/step - loss: 0.3871 - auc_2: 0.0000e+00 - val_loss: 0.0285 - val_auc_2: 1.0000\n",
      "Epoch 13/250\n",
      "7172/7172 [==============================] - 1s 140us/step - loss: 0.3688 - auc_2: 0.0000e+00 - val_loss: 0.0277 - val_auc_2: 1.0000\n",
      "Epoch 14/250\n",
      "7172/7172 [==============================] - ETA: 0s - loss: 0.3518 - auc_2: 0.0000e+0 - 1s 139us/step - loss: 0.3515 - auc_2: 0.0000e+00 - val_loss: 0.0279 - val_auc_2: 1.0000\n",
      "Epoch 15/250\n",
      "7172/7172 [==============================] - 1s 139us/step - loss: 0.3352 - auc_2: 0.0000e+00 - val_loss: 0.0284 - val_auc_2: 1.0000\n",
      "Epoch 16/250\n",
      "7172/7172 [==============================] - 1s 139us/step - loss: 0.3198 - auc_2: 0.0000e+00 - val_loss: 0.0289 - val_auc_2: 1.0000\n",
      "Epoch 17/250\n",
      "7172/7172 [==============================] - 1s 138us/step - loss: 0.3053 - auc_2: 0.0000e+00 - val_loss: 0.0296 - val_auc_2: 1.0000\n",
      "Epoch 18/250\n",
      "7172/7172 [==============================] - 1s 139us/step - loss: 0.2915 - auc_2: 0.0000e+00 - val_loss: 0.0300 - val_auc_2: 1.0000\n"
     ]
    }
   ],
   "source": [
    "# Define the early stopping callback\n",
    "es = EarlyStopping(monitor='val_loss', mode='min', patience=5)\n",
    "\n",
    "# Train the model\n",
    "history = model.fit(X_train, y_train, validation_data=(X_val,y_val), epochs=250, batch_size=100, verbose=1, callbacks=[es])"
   ]
  },
  {
   "cell_type": "code",
   "execution_count": 19,
   "metadata": {},
   "outputs": [
    {
     "data": {
      "image/png": "[encoded data removed]",
      "text/plain": [
       "<Figure size 720x432 with 2 Axes>"
      ]
     },
     "metadata": {
      "needs_background": "light"
     },
     "output_type": "display_data"
    }
   ],
   "source": [
    "# Create two subplots\n",
    "fig, (ax1, ax2) = plt.subplots(1, 2, sharex='col', figsize=(10,6))\n",
    "\n",
    "# PLot the loss\n",
    "ax1.plot(history.history['loss'])\n",
    "ax1.plot(history.history['val_loss'])\n",
    "ax1.set(title='Model Loss', ylabel='Loss (binary cross-entropy)', xlabel='Epoch')\n",
    "ax1.legend(['Training Set', 'Validation Set'], loc='upper right')\n",
    "\n",
    "# Plot the AUC\n",
    "ax2.plot(history.history['auc_2'])\n",
    "ax2.plot(history.history['val_auc_2'])\n",
    "ax2.set(title='AUROC', ylabel='AUC', xlabel='Epoch')\n",
    "ax2.legend(['Training Set', 'Validation Set'], loc='lower right')\n",
    "\n",
    "#plt.savefig('training.png', bbox_inches='tight')\n",
    "plt.show()"
   ]
  },
  {
   "cell_type": "code",
   "execution_count": 20,
   "metadata": {},
   "outputs": [
    {
     "name": "stderr",
     "output_type": "stream",
     "text": [
      "C:\\Users\\anear\\Anaconda3\\lib\\site-packages\\sklearn\\metrics\\ranking.py:651: UndefinedMetricWarning: No negative samples in y_true, false positive value should be meaningless\n",
      "  UndefinedMetricWarning)\n"
     ]
    }
   ],
   "source": [
    "# Calculate TPR and FPR on the test set for plotting the ROC curve\n",
    "from sklearn.metrics import roc_curve\n",
    "y_pred_12h_rnn = model.predict(X_test).ravel()\n",
    "fpr_12h_rnn, tpr_12h_rnn, thresholds_12h = roc_curve(y_test, y_pred_12h_rnn)"
   ]
  },
  {
   "cell_type": "code",
   "execution_count": 21,
   "metadata": {},
   "outputs": [
    {
     "name": "stderr",
     "output_type": "stream",
     "text": [
      "C:\\Users\\anear\\Anaconda3\\lib\\site-packages\\sklearn\\metrics\\ranking.py:113: RuntimeWarning: invalid value encountered in less\n",
      "  if np.any(dx < 0):\n"
     ]
    }
   ],
   "source": [
    "# Calculate the AUROC for the test set using the RNN\n",
    "from sklearn.metrics import auc\n",
    "auc_12h_rnn = auc(fpr_12h_rnn, tpr_12h_rnn)"
   ]
  },
  {
   "cell_type": "code",
   "execution_count": 22,
   "metadata": {},
   "outputs": [
    {
     "name": "stdout",
     "output_type": "stream",
     "text": [
      "Model: \"sequential_3\"\n",
      "_________________________________________________________________\n",
      "Layer (type)                 Output Shape              Param #   \n",
      "=================================================================\n",
      "gru_3 (GRU)                  (None, 24, 30)            6120      \n",
      "_________________________________________________________________\n",
      "flatten_3 (Flatten)          (None, 720)               0         \n",
      "_________________________________________________________________\n",
      "dropout_5 (Dropout)          (None, 720)               0         \n",
      "_________________________________________________________________\n",
      "dense_5 (Dense)              (None, 40)                28840     \n",
      "_________________________________________________________________\n",
      "dropout_6 (Dropout)          (None, 40)                0         \n",
      "_________________________________________________________________\n",
      "dense_6 (Dense)              (None, 1)                 41        \n",
      "_________________________________________________________________\n",
      "batch_normalization_3 (Batch (None, 1)                 4         \n",
      "_________________________________________________________________\n",
      "activation_3 (Activation)    (None, 1)                 0         \n",
      "=================================================================\n",
      "Total params: 35,005\n",
      "Trainable params: 35,003\n",
      "Non-trainable params: 2\n",
      "_________________________________________________________________\n",
      "None\n"
     ]
    }
   ],
   "source": [
    "# Define model architecture\n",
    "model = Sequential()\n",
    "model.add(GRU(30, return_sequences=True, input_shape=(24,37)))\n",
    "model.add(Flatten())\n",
    "model.add(Dropout(0.1))\n",
    "model.add(Dense(40, activation = \"sigmoid\"))\n",
    "model.add(Dropout(0.1))\n",
    "model.add(Dense(1, activation = \"sigmoid\"))\n",
    "model.add(BatchNormalization())\n",
    "model.add((Activation('sigmoid')))\n",
    "\n",
    "# Compile model\n",
    "model.compile(loss='binary_crossentropy', optimizer=optimizers.Adam(learning_rate=0.001), metrics=[metrics.AUC()])\n",
    "\n",
    "# Print model summary\n",
    "print(model.summary())"
   ]
  },
  {
   "cell_type": "code",
   "execution_count": 23,
   "metadata": {},
   "outputs": [
    {
     "name": "stdout",
     "output_type": "stream",
     "text": [
      "Loaded!\n"
     ]
    }
   ],
   "source": [
    "# Load the data\n",
    "_data = np.load('data/ML_data.npy', allow_pickle=True).tolist()\n",
    "X_train = _data['X_24h_train_norm']\n",
    "reint_train = _data['reint_24h_train']\n",
    "y_train = _data['y_24h_train']\n",
    "X_val = _data['X_24h_val_norm']\n",
    "y_val = _data['y_24h_val']\n",
    "reint_val = _data['reint_24h_val']\n",
    "X_test = _data['X_24h_test_norm']\n",
    "y_test = _data['y_24h_test']\n",
    "reint_test = _data['reint_24h_test']\n",
    "print(\"Loaded!\")"
   ]
  },
  {
   "cell_type": "code",
   "execution_count": 24,
   "metadata": {},
   "outputs": [
    {
     "name": "stdout",
     "output_type": "stream",
     "text": [
      "No. of patients: 8966\n",
      "No. of patients in train, val, test sets: 7172, 897, 897\n",
      "No. of extubation failures in train, val, test sets: 2636.0, 325.0, 320.0\n",
      "Proportion of extubation failures in train, val, test sets: 36.754%, 36.232%, 35.674%\n"
     ]
    }
   ],
   "source": [
    "# Print information about data\n",
    "print(\"No. of patients: {}\".format(len(y_train)+len(y_val)+len(y_test)))\n",
    "print(\"No. of patients in train, val, test sets: {}, {}, {}\".format(len(X_train), len(X_val), len(X_test)))\n",
    "print(\"No. of extubation failures in train, val, test sets: {}, {}, {}\".format(str(sum(y_train)), str(sum(y_val)), str(sum(y_test))))\n",
    "print(\"Proportion of extubation failures in train, val, test sets: {}%, {}%, {}%\".format(round(sum(y_train)/len(y_train)*100,3), round(sum(y_val)/len(y_val)*100,3), round(sum(y_test)/len(y_test)*100,3)))"
   ]
  },
  {
   "cell_type": "code",
   "execution_count": 25,
   "metadata": {},
   "outputs": [],
   "source": [
    "# Remove patients who were re-intubated after 5 days\n",
    "X_train = X_train[reint_train.astype(int)]\n",
    "y_train = y_train[reint_train.astype(int)]\n",
    "X_val = X_val[reint_val.astype(int)]\n",
    "y_val = y_val[reint_val.astype(int)]\n",
    "X_test = X_test[reint_test.astype(int)]\n",
    "y_test = y_test[reint_test.astype(int)]"
   ]
  },
  {
   "cell_type": "code",
   "execution_count": 26,
   "metadata": {},
   "outputs": [],
   "source": [
    "# Reshape the input tensors so they are in the shape (m,T,n) to fit Keras standards\n",
    "X_train = np.transpose(X_train, (0,2,1))\n",
    "X_val = np.transpose(X_val, (0,2,1))\n",
    "X_test = np.transpose(X_test, (0,2,1))"
   ]
  },
  {
   "cell_type": "code",
   "execution_count": 27,
   "metadata": {},
   "outputs": [
    {
     "name": "stdout",
     "output_type": "stream",
     "text": [
      "X_train: (7172, 24, 37)\n",
      "y_train: (7172,)\n",
      "X_val: (897, 24, 37)\n",
      "y_val: (897,)\n",
      "X_test: (897, 24, 37)\n",
      "y_test: (897,)\n"
     ]
    }
   ],
   "source": [
    "# Check the shapes of the arrays\n",
    "print(\"X_train: {}\".format(np.shape(X_train)))\n",
    "print(\"y_train: {}\".format(np.shape(y_train)))\n",
    "print(\"X_val: {}\".format(np.shape(X_val)))\n",
    "print(\"y_val: {}\".format(np.shape(y_val)))\n",
    "print(\"X_test: {}\".format(np.shape(X_test)))\n",
    "print(\"y_test: {}\".format(np.shape(y_test)))"
   ]
  },
  {
   "cell_type": "code",
   "execution_count": 28,
   "metadata": {},
   "outputs": [
    {
     "name": "stdout",
     "output_type": "stream",
     "text": [
      "Train on 7172 samples, validate on 897 samples\n",
      "Epoch 1/250\n",
      "7172/7172 [==============================] - 2s 237us/step - loss: 0.6810 - auc_3: 0.0000e+00 - val_loss: 1.0140 - val_auc_3: 1.0000\n",
      "Epoch 2/250\n",
      "7172/7172 [==============================] - 1s 150us/step - loss: 0.6418 - auc_3: 0.0000e+00 - val_loss: 0.8463 - val_auc_3: 1.0000\n",
      "Epoch 3/250\n",
      "1300/7172 [====>.........................] - ETA: 0s - loss: 0.6222 - auc_3: 0.0000e+00"
     ]
    },
    {
     "ename": "KeyboardInterrupt",
     "evalue": "",
     "output_type": "error",
     "traceback": [
      "\u001b[1;31m---------------------------------------------------------------------------\u001b[0m",
      "\u001b[1;31mKeyboardInterrupt\u001b[0m                         Traceback (most recent call last)",
      "\u001b[1;32m<ipython-input-28-93f63c36eda0>\u001b[0m in \u001b[0;36m<module>\u001b[1;34m\u001b[0m\n\u001b[0;32m      3\u001b[0m \u001b[1;33m\u001b[0m\u001b[0m\n\u001b[0;32m      4\u001b[0m \u001b[1;31m# Train the model\u001b[0m\u001b[1;33m\u001b[0m\u001b[1;33m\u001b[0m\u001b[1;33m\u001b[0m\u001b[0m\n\u001b[1;32m----> 5\u001b[1;33m \u001b[0mhistory\u001b[0m \u001b[1;33m=\u001b[0m \u001b[0mmodel\u001b[0m\u001b[1;33m.\u001b[0m\u001b[0mfit\u001b[0m\u001b[1;33m(\u001b[0m\u001b[0mX_train\u001b[0m\u001b[1;33m,\u001b[0m \u001b[0my_train\u001b[0m\u001b[1;33m,\u001b[0m \u001b[0mvalidation_data\u001b[0m\u001b[1;33m=\u001b[0m\u001b[1;33m(\u001b[0m\u001b[0mX_val\u001b[0m\u001b[1;33m,\u001b[0m\u001b[0my_val\u001b[0m\u001b[1;33m)\u001b[0m\u001b[1;33m,\u001b[0m \u001b[0mepochs\u001b[0m\u001b[1;33m=\u001b[0m\u001b[1;36m250\u001b[0m\u001b[1;33m,\u001b[0m \u001b[0mbatch_size\u001b[0m\u001b[1;33m=\u001b[0m\u001b[1;36m100\u001b[0m\u001b[1;33m,\u001b[0m \u001b[0mverbose\u001b[0m\u001b[1;33m=\u001b[0m\u001b[1;36m1\u001b[0m\u001b[1;33m,\u001b[0m \u001b[0mcallbacks\u001b[0m\u001b[1;33m=\u001b[0m\u001b[1;33m[\u001b[0m\u001b[0mes\u001b[0m\u001b[1;33m]\u001b[0m\u001b[1;33m)\u001b[0m\u001b[1;33m\u001b[0m\u001b[1;33m\u001b[0m\u001b[0m\n\u001b[0m",
      "\u001b[1;32m~\\Anaconda3\\lib\\site-packages\\keras\\engine\\training.py\u001b[0m in \u001b[0;36mfit\u001b[1;34m(self, x, y, batch_size, epochs, verbose, callbacks, validation_split, validation_data, shuffle, class_weight, sample_weight, initial_epoch, steps_per_epoch, validation_steps, validation_freq, max_queue_size, workers, use_multiprocessing, **kwargs)\u001b[0m\n\u001b[0;32m   1237\u001b[0m                                         \u001b[0msteps_per_epoch\u001b[0m\u001b[1;33m=\u001b[0m\u001b[0msteps_per_epoch\u001b[0m\u001b[1;33m,\u001b[0m\u001b[1;33m\u001b[0m\u001b[1;33m\u001b[0m\u001b[0m\n\u001b[0;32m   1238\u001b[0m                                         \u001b[0mvalidation_steps\u001b[0m\u001b[1;33m=\u001b[0m\u001b[0mvalidation_steps\u001b[0m\u001b[1;33m,\u001b[0m\u001b[1;33m\u001b[0m\u001b[1;33m\u001b[0m\u001b[0m\n\u001b[1;32m-> 1239\u001b[1;33m                                         validation_freq=validation_freq)\n\u001b[0m\u001b[0;32m   1240\u001b[0m \u001b[1;33m\u001b[0m\u001b[0m\n\u001b[0;32m   1241\u001b[0m     def evaluate(self,\n",
      "\u001b[1;32m~\\Anaconda3\\lib\\site-packages\\keras\\engine\\training_arrays.py\u001b[0m in \u001b[0;36mfit_loop\u001b[1;34m(model, fit_function, fit_inputs, out_labels, batch_size, epochs, verbose, callbacks, val_function, val_inputs, shuffle, initial_epoch, steps_per_epoch, validation_steps, validation_freq)\u001b[0m\n\u001b[0;32m    194\u001b[0m                     \u001b[0mins_batch\u001b[0m\u001b[1;33m[\u001b[0m\u001b[0mi\u001b[0m\u001b[1;33m]\u001b[0m \u001b[1;33m=\u001b[0m \u001b[0mins_batch\u001b[0m\u001b[1;33m[\u001b[0m\u001b[0mi\u001b[0m\u001b[1;33m]\u001b[0m\u001b[1;33m.\u001b[0m\u001b[0mtoarray\u001b[0m\u001b[1;33m(\u001b[0m\u001b[1;33m)\u001b[0m\u001b[1;33m\u001b[0m\u001b[1;33m\u001b[0m\u001b[0m\n\u001b[0;32m    195\u001b[0m \u001b[1;33m\u001b[0m\u001b[0m\n\u001b[1;32m--> 196\u001b[1;33m                 \u001b[0mouts\u001b[0m \u001b[1;33m=\u001b[0m \u001b[0mfit_function\u001b[0m\u001b[1;33m(\u001b[0m\u001b[0mins_batch\u001b[0m\u001b[1;33m)\u001b[0m\u001b[1;33m\u001b[0m\u001b[1;33m\u001b[0m\u001b[0m\n\u001b[0m\u001b[0;32m    197\u001b[0m                 \u001b[0mouts\u001b[0m \u001b[1;33m=\u001b[0m \u001b[0mto_list\u001b[0m\u001b[1;33m(\u001b[0m\u001b[0mouts\u001b[0m\u001b[1;33m)\u001b[0m\u001b[1;33m\u001b[0m\u001b[1;33m\u001b[0m\u001b[0m\n\u001b[0;32m    198\u001b[0m                 \u001b[1;32mfor\u001b[0m \u001b[0ml\u001b[0m\u001b[1;33m,\u001b[0m \u001b[0mo\u001b[0m \u001b[1;32min\u001b[0m \u001b[0mzip\u001b[0m\u001b[1;33m(\u001b[0m\u001b[0mout_labels\u001b[0m\u001b[1;33m,\u001b[0m \u001b[0mouts\u001b[0m\u001b[1;33m)\u001b[0m\u001b[1;33m:\u001b[0m\u001b[1;33m\u001b[0m\u001b[1;33m\u001b[0m\u001b[0m\n",
      "\u001b[1;32m~\\Anaconda3\\lib\\site-packages\\tensorflow\\python\\keras\\backend.py\u001b[0m in \u001b[0;36m__call__\u001b[1;34m(self, inputs)\u001b[0m\n\u001b[0;32m   3290\u001b[0m \u001b[1;33m\u001b[0m\u001b[0m\n\u001b[0;32m   3291\u001b[0m     fetched = self._callable_fn(*array_vals,\n\u001b[1;32m-> 3292\u001b[1;33m                                 run_metadata=self.run_metadata)\n\u001b[0m\u001b[0;32m   3293\u001b[0m     \u001b[0mself\u001b[0m\u001b[1;33m.\u001b[0m\u001b[0m_call_fetch_callbacks\u001b[0m\u001b[1;33m(\u001b[0m\u001b[0mfetched\u001b[0m\u001b[1;33m[\u001b[0m\u001b[1;33m-\u001b[0m\u001b[0mlen\u001b[0m\u001b[1;33m(\u001b[0m\u001b[0mself\u001b[0m\u001b[1;33m.\u001b[0m\u001b[0m_fetches\u001b[0m\u001b[1;33m)\u001b[0m\u001b[1;33m:\u001b[0m\u001b[1;33m]\u001b[0m\u001b[1;33m)\u001b[0m\u001b[1;33m\u001b[0m\u001b[1;33m\u001b[0m\u001b[0m\n\u001b[0;32m   3294\u001b[0m     output_structure = nest.pack_sequence_as(\n",
      "\u001b[1;32m~\\Anaconda3\\lib\\site-packages\\tensorflow\\python\\client\\session.py\u001b[0m in \u001b[0;36m__call__\u001b[1;34m(self, *args, **kwargs)\u001b[0m\n\u001b[0;32m   1456\u001b[0m         ret = tf_session.TF_SessionRunCallable(self._session._session,\n\u001b[0;32m   1457\u001b[0m                                                \u001b[0mself\u001b[0m\u001b[1;33m.\u001b[0m\u001b[0m_handle\u001b[0m\u001b[1;33m,\u001b[0m \u001b[0margs\u001b[0m\u001b[1;33m,\u001b[0m\u001b[1;33m\u001b[0m\u001b[1;33m\u001b[0m\u001b[0m\n\u001b[1;32m-> 1458\u001b[1;33m                                                run_metadata_ptr)\n\u001b[0m\u001b[0;32m   1459\u001b[0m         \u001b[1;32mif\u001b[0m \u001b[0mrun_metadata\u001b[0m\u001b[1;33m:\u001b[0m\u001b[1;33m\u001b[0m\u001b[1;33m\u001b[0m\u001b[0m\n\u001b[0;32m   1460\u001b[0m           \u001b[0mproto_data\u001b[0m \u001b[1;33m=\u001b[0m \u001b[0mtf_session\u001b[0m\u001b[1;33m.\u001b[0m\u001b[0mTF_GetBuffer\u001b[0m\u001b[1;33m(\u001b[0m\u001b[0mrun_metadata_ptr\u001b[0m\u001b[1;33m)\u001b[0m\u001b[1;33m\u001b[0m\u001b[1;33m\u001b[0m\u001b[0m\n",
      "\u001b[1;31mKeyboardInterrupt\u001b[0m: "
     ]
    }
   ],
   "source": [
    "# Define the early stopping callback\n",
    "es = EarlyStopping(monitor='val_loss', mode='min', patience=5)\n",
    "\n",
    "# Train the model\n",
    "history = model.fit(X_train, y_train, validation_data=(X_val,y_val), epochs=250, batch_size=100, verbose=1, callbacks=[es])"
   ]
  },
  {
   "cell_type": "code",
   "execution_count": null,
   "metadata": {},
   "outputs": [],
   "source": [
    "# Create two subplots\n",
    "fig, (ax1, ax2) = plt.subplots(1, 2, sharex='col', figsize=(10,6))\n",
    "\n",
    "# PLot the loss\n",
    "ax1.plot(history.history['loss'])\n",
    "ax1.plot(history.history['val_loss'])\n",
    "ax1.set(title='Model Loss', ylabel='Loss (binary cross-entropy)', xlabel='Epoch')\n",
    "ax1.legend(['Training Set', 'Validation Set'], loc='upper right')\n",
    "\n",
    "# Plot the AUC\n",
    "ax2.plot(history.history['auc_3'])\n",
    "ax2.plot(history.history['val_auc_3'])\n",
    "ax2.set(title='AUROC', ylabel='AUC', xlabel='Epoch')\n",
    "ax2.legend(['Training Set', 'Validation Set'], loc='lower right')\n",
    "\n",
    "#plt.savefig('training.png', bbox_inches='tight')\n",
    "plt.show()"
   ]
  },
  {
   "cell_type": "code",
   "execution_count": null,
   "metadata": {},
   "outputs": [],
   "source": [
    "# Calculate TPR and FPR on the test set for plotting the ROC curve\n",
    "from sklearn.metrics import roc_curve\n",
    "y_pred_24h_rnn = model.predict(X_test).ravel()\n",
    "fpr_24h_rnn, tpr_24h_rnn, thresholds_24h = roc_curve(y_test, y_pred_24h_rnn)"
   ]
  },
  {
   "cell_type": "code",
   "execution_count": null,
   "metadata": {},
   "outputs": [],
   "source": [
    "# Calculate the AUROC for the test set using the RNN\n",
    "from sklearn.metrics import auc\n",
    "auc_24h_rnn = auc(fpr_24h_rnn, tpr_24h_rnn)"
   ]
  },
  {
   "cell_type": "code",
   "execution_count": null,
   "metadata": {},
   "outputs": [],
   "source": [
    "# Choose the three thresholds\n",
    "#thresh_A, thresh_B, thresh_C = 0.8, 0.35, 0.25\n",
    "#A = np.where(thresholds==thresholds[thresholds>=thresh_A][-1])\n",
    "#B = np.where(thresholds==thresholds[thresholds>=thresh_B][-1])\n",
    "#C = np.where(thresholds==thresholds[thresholds>=thresh_C][-1])\n",
    "\n",
    "# Calculate TP, FP, TN and FN for each threshold\n",
    "#[[tn_A,fp_A],[fn_A,tp_A]] = confusion_matrix(y_test, y_pred_rnn[:]>thresh_A)\n",
    "#[[tn_B,fp_B],[fn_B,tp_B]] = confusion_matrix(y_test, y_pred_rnn[:]>thresh_B)\n",
    "#[[tn_C,fp_C],[fn_C,tp_C]] = confusion_matrix(y_test, y_pred_rnn[:]>thresh_C)\n",
    "\n",
    "# Plot the ROC curve\n",
    "#plt.figure(figsize=(8,8))\n",
    "#plt.plot([0, 1], [0, 1], 'k--')\n",
    "#plt.plot(fpr_rnn, tpr_rnn)\n",
    "#plt.plot(fpr_rnn[A], tpr_rnn[A],'.', markersize=20, label='A - Acc. = {:.1f}%, Sens. = {:.1f}%, Spec. = {:.1f}%, PPV = {:.1f}%'.format(100*(tp_A+tn_A)/(tp_A+tn_A+fp_A+fn_A), 100*tp_A/(tp_A+fn_A), 100*tn_A/(tn_A+fp_A), 100*tp_A/(tp_A+fp_A)))\n",
    "#plt.annotate('A', (fpr_rnn[A]+0.02, tpr_rnn[A]))\n",
    "#plt.plot(fpr_rnn[B], tpr_rnn[B],'.', markersize=20, label='B - Acc. = {:.1f}%, Sens. = {:.1f}%, Spec. = {:.1f}%, PPV = {:.1f}%'.format(100*(tp_B+tn_B)/(tp_B+tn_B+fp_B+fn_B), 100*tp_B/(tp_B+fn_B), 100*tn_B/(tn_B+fp_B), 100*tp_B/(tp_B+fp_B)))\n",
    "#plt.annotate('B', (fpr_rnn[B]-0.03, tpr_rnn[B]))\n",
    "#plt.plot(fpr_rnn[C], tpr_rnn[C],'.', markersize=20, label='C - Acc. = {:.1f}%, Sens. = {:.1f}%, Spec. = {:.1f}%, PPV = {:.1f}%'.format(100*(tp_C+tn_C)/(tp_C+tn_C+fp_C+fn_C), 100*tp_C/(tp_C+fn_C), 100*tn_C/(tn_C+fp_C), 100*tp_C/(tp_C+fp_C)))\n",
    "#plt.annotate('C', (fpr_rnn[C], tpr_rnn[C]-0.04))\n",
    "#plt.xlabel('1 - (Specificity)')\n",
    "#plt.ylabel('Sensitivity')\n",
    "#plt.title('RNN for Predicting Extubation Failure (AUC = {:.3f})'.format(auc_rnn))\n",
    "#plt.legend(loc='lower right')\n",
    "#plt.savefig('plots/rnn.png', bbox_inches='tight')\n",
    "#plt.show()"
   ]
  },
  {
   "cell_type": "code",
   "execution_count": null,
   "metadata": {},
   "outputs": [],
   "source": [
    "# Write a function that plots nice confusion matrices\n",
    "def plot_confusion_matrix(cm, classes, normalize=False, title='Confusion Matrix', cmap=plt.cm.Blues):\n",
    "    \n",
    "    \"\"\"\n",
    "    This function prints and plots the confusion matrix.\n",
    "    Normalization can be applied by setting `normalize=True`.\n",
    "    \"\"\"\n",
    "    plt.figure(figsize=(10,5))\n",
    "    plt.imshow(cm, interpolation='nearest', cmap=cmap)\n",
    "    plt.title(title)\n",
    "    plt.colorbar()\n",
    "    tick_marks = np.arange(len(classes))\n",
    "    plt.xticks(tick_marks, classes, rotation=45)\n",
    "    plt.yticks(tick_marks, classes)\n",
    "\n",
    "    if normalize:\n",
    "        cm = cm.astype('float') / cm.sum(axis=1)[:, np.newaxis]\n",
    "        cm[0][0] = round(cm[0][0],2)\n",
    "        cm[0][1] = round(cm[0][1],2)\n",
    "        cm[1][0] = round(cm[1][0],2)\n",
    "        cm[1][1] = round(cm[1][1],2)\n",
    "\n",
    "    thresh = cm.max() / 2.\n",
    "    for i, j in itertools.product(range(cm.shape[0]), range(cm.shape[1])):\n",
    "        plt.text(j, i, cm[i, j],\n",
    "            horizontalalignment=\"center\",\n",
    "            color=\"white\" if cm[i, j] > thresh else \"black\")\n",
    "\n",
    "    plt.tight_layout()\n",
    "    plt.ylabel('True label')\n",
    "    plt.xlabel('Predicted label')"
   ]
  },
  {
   "cell_type": "code",
   "execution_count": null,
   "metadata": {},
   "outputs": [],
   "source": [
    "# Calculate the confusion matrix\n",
    "#decision_threshold = thresh_B\n",
    "#cm = confusion_matrix(y_test, y_pred_rnn[:]>decision_threshold)\n",
    "#plot_confusion_matrix(cm, ['Success', 'Failure'], normalize=False, title='RNN Model')"
   ]
  },
  {
   "cell_type": "code",
   "execution_count": null,
   "metadata": {},
   "outputs": [],
   "source": [
    "# Load the data\n",
    "_data = np.load('data/ML_data.npy', allow_pickle=True).tolist()\n",
    "X_train_raw = _data['X_6h_train']\n",
    "y_train = _data['y_6h_train']\n",
    "X_val_raw = _data['X_6h_val']\n",
    "y_val = _data['y_6h_val']\n",
    "X_test_raw = _data['X_6h_test']\n",
    "y_test = _data['y_6h_test']\n",
    "print(\"Loaded!\")"
   ]
  },
  {
   "cell_type": "code",
   "execution_count": null,
   "metadata": {},
   "outputs": [],
   "source": [
    "# Print information about data\n",
    "print(\"No. of patients: {}\".format(len(y_train)+len(y_val)+len(y_test)))\n",
    "print(\"No. of patients in train, val, test sets: {}, {}, {}\".format(len(X_train), len(X_val), len(X_test)))\n",
    "print(\"No. of extubation failures in train, val, test sets: {}, {}, {}\".format(str(sum(y_train)), str(sum(y_val)), str(sum(y_test))))\n",
    "print(\"Proportion of extubation failures in train, val, test sets: {}%, {}%, {}%\".format(round(sum(y_train)/len(y_train)*100,3), round(sum(y_val)/len(y_val)*100,3), round(sum(y_test)/len(y_test)*100,3)))"
   ]
  },
  {
   "cell_type": "code",
   "execution_count": null,
   "metadata": {},
   "outputs": [],
   "source": [
    "# Check the shapes of the arrays\n",
    "print(\"X_train_raw: {}\".format(np.shape(X_train_raw)))\n",
    "print(\"y_train: {}\".format(np.shape(y_train)))\n",
    "print(\"X_val_raw: {}\".format(np.shape(X_val_raw)))\n",
    "print(\"y_val: {}\".format(np.shape(y_val)))\n",
    "print(\"X_test_raw: {}\".format(np.shape(X_test_raw)))\n",
    "print(\"y_test: {}\".format(np.shape(y_test)))"
   ]
  },
  {
   "cell_type": "code",
   "execution_count": null,
   "metadata": {},
   "outputs": [],
   "source": [
    "# Prepare training data for non-temporal models\n",
    "m, n, T = np.shape(X_train_raw)\n",
    "X_train_static = np.zeros((m,n*4))\n",
    "for i in range(m):\n",
    "    for j in range(n):\n",
    "        feature = X_train_raw[i,j,:]\n",
    "        extracted_features = [np.min(feature), np.max(feature), np.mean(feature), np.std(feature)]\n",
    "        X_train_static[i,(j*4):(j*4+4)] = extracted_features\n",
    "        \n",
    "# Prepare test data for non-temporal models\n",
    "m, n, T = np.shape(X_test_raw)\n",
    "X_test_static = np.zeros((m,n*4))\n",
    "for i in range(m):\n",
    "    for j in range(n):\n",
    "        feature = X_test_raw[i,j,:]\n",
    "        extracted_features = [np.min(feature), np.max(feature), np.mean(feature), np.std(feature)]\n",
    "        X_test_static[i,(j*4):(j*4+4)] = extracted_features\n",
    "        \n",
    "# Check the shapes of the new arrays\n",
    "print(\"X_train_static: {}\".format(np.shape(X_train_static)))\n",
    "print(\"X_test_static: {}\".format(np.shape(X_test_static)))"
   ]
  },
  {
   "cell_type": "code",
   "execution_count": null,
   "metadata": {},
   "outputs": [],
   "source": [
    "# Scale the training data using a z-transform, and apply that scaler to the test data\n",
    "from sklearn.preprocessing import StandardScaler\n",
    "scaler = StandardScaler()\n",
    "X_train_scaled = scaler.fit_transform(X_train_static)\n",
    "X_test_scaled = scaler.transform(X_test_static)\n",
    "print(np.shape(X_train_scaled))"
   ]
  },
  {
   "cell_type": "code",
   "execution_count": null,
   "metadata": {},
   "outputs": [],
   "source": [
    "# Create logistic regression classifer object\n",
    "from sklearn.linear_model import LogisticRegression\n",
    "logisticRegr = LogisticRegression(solver = \"liblinear\")\n",
    "\n",
    "# Train logistic regression classifer\n",
    "logisticRegr.fit(X_train_scaled, y_train)\n",
    "\n",
    "# Predict the response for test dataset\n",
    "y_pred_6h_lr = logisticRegr.predict_proba(X_test_scaled)[:,1]"
   ]
  },
  {
   "cell_type": "code",
   "execution_count": null,
   "metadata": {},
   "outputs": [],
   "source": [
    "# Calculate TPR and FPR on the test set for plotting the ROC curve\n",
    "from sklearn.metrics import roc_curve\n",
    "fpr_6h_lr, tpr_6h_lr, thresholds_6h_lr = roc_curve(y_test, y_pred_6h_lr)"
   ]
  },
  {
   "cell_type": "code",
   "execution_count": null,
   "metadata": {},
   "outputs": [],
   "source": [
    "# Calculate the AUROC for the test set\n",
    "from sklearn.metrics import auc\n",
    "auc_6h_lr = auc(fpr_6h_lr, tpr_6h_lr)"
   ]
  },
  {
   "cell_type": "code",
   "execution_count": null,
   "metadata": {},
   "outputs": [],
   "source": [
    "# Load the data\n",
    "_data = np.load('data/ML_data.npy', allow_pickle=True).tolist()\n",
    "X_train_raw = _data['X_12h_train']\n",
    "y_train = _data['y_12h_train']\n",
    "X_val_raw = _data['X_12h_val']\n",
    "y_val = _data['y_12h_val']\n",
    "X_test_raw = _data['X_12h_test']\n",
    "y_test = _data['y_12h_test']\n",
    "print(\"Loaded!\")"
   ]
  },
  {
   "cell_type": "code",
   "execution_count": null,
   "metadata": {},
   "outputs": [],
   "source": [
    "# Print information about data\n",
    "print(\"No. of patients: {}\".format(len(y_train)+len(y_val)+len(y_test)))\n",
    "print(\"No. of patients in train, val, test sets: {}, {}, {}\".format(len(X_train), len(X_val), len(X_test)))\n",
    "print(\"No. of extubation failures in train, val, test sets: {}, {}, {}\".format(str(sum(y_train)), str(sum(y_val)), str(sum(y_test))))\n",
    "print(\"Proportion of extubation failures in train, val, test sets: {}%, {}%, {}%\".format(round(sum(y_train)/len(y_train)*100,3), round(sum(y_val)/len(y_val)*100,3), round(sum(y_test)/len(y_test)*100,3)))"
   ]
  },
  {
   "cell_type": "code",
   "execution_count": null,
   "metadata": {},
   "outputs": [],
   "source": [
    "# Check the shapes of the arrays\n",
    "print(\"X_train_raw: {}\".format(np.shape(X_train_raw)))\n",
    "print(\"y_train: {}\".format(np.shape(y_train)))\n",
    "print(\"X_val_raw: {}\".format(np.shape(X_val_raw)))\n",
    "print(\"y_val: {}\".format(np.shape(y_val)))\n",
    "print(\"X_test_raw: {}\".format(np.shape(X_test_raw)))\n",
    "print(\"y_test: {}\".format(np.shape(y_test)))"
   ]
  },
  {
   "cell_type": "code",
   "execution_count": null,
   "metadata": {},
   "outputs": [],
   "source": [
    "# Prepare training data for non-temporal models\n",
    "m, n, T = np.shape(X_train_raw)\n",
    "X_train_static = np.zeros((m,n*4))\n",
    "for i in range(m):\n",
    "    for j in range(n):\n",
    "        feature = X_train_raw[i,j,:]\n",
    "        extracted_features = [np.min(feature), np.max(feature), np.mean(feature), np.std(feature)]\n",
    "        X_train_static[i,(j*4):(j*4+4)] = extracted_features\n",
    "        \n",
    "# Prepare test data for non-temporal models\n",
    "m, n, T = np.shape(X_test_raw)\n",
    "X_test_static = np.zeros((m,n*4))\n",
    "for i in range(m):\n",
    "    for j in range(n):\n",
    "        feature = X_test_raw[i,j,:]\n",
    "        extracted_features = [np.min(feature), np.max(feature), np.mean(feature), np.std(feature)]\n",
    "        X_test_static[i,(j*4):(j*4+4)] = extracted_features\n",
    "        \n",
    "# Check the shapes of the new arrays\n",
    "print(\"X_train_static: {}\".format(np.shape(X_train_static)))\n",
    "print(\"X_test_static: {}\".format(np.shape(X_test_static)))"
   ]
  },
  {
   "cell_type": "code",
   "execution_count": null,
   "metadata": {},
   "outputs": [],
   "source": [
    "# Scale the training data using a z-transform, and apply that scaler to the test data\n",
    "from sklearn.preprocessing import StandardScaler\n",
    "scaler = StandardScaler()\n",
    "X_train_scaled = scaler.fit_transform(X_train_static)\n",
    "X_test_scaled = scaler.transform(X_test_static)\n",
    "print(np.shape(X_train_scaled))"
   ]
  },
  {
   "cell_type": "code",
   "execution_count": null,
   "metadata": {},
   "outputs": [],
   "source": [
    "# Create logistic regression classifer object\n",
    "from sklearn.linear_model import LogisticRegression\n",
    "logisticRegr = LogisticRegression(solver = \"liblinear\")\n",
    "\n",
    "# Train logistic regression classifer\n",
    "logisticRegr.fit(X_train_scaled, y_train)\n",
    "\n",
    "# Predict the response for test dataset\n",
    "y_pred_12h_lr = logisticRegr.predict_proba(X_test_scaled)[:,1]"
   ]
  },
  {
   "cell_type": "code",
   "execution_count": null,
   "metadata": {},
   "outputs": [],
   "source": [
    "# Calculate TPR and FPR on the test set for plotting the ROC curve\n",
    "from sklearn.metrics import roc_curve\n",
    "fpr_12h_lr, tpr_12h_lr, thresholds_12h_lr = roc_curve(y_test, y_pred_12h_lr)"
   ]
  },
  {
   "cell_type": "code",
   "execution_count": null,
   "metadata": {},
   "outputs": [],
   "source": [
    "# Calculate the AUROC for the test set\n",
    "from sklearn.metrics import auc\n",
    "auc_12h_lr = auc(fpr_12h_lr, tpr_12h_lr)"
   ]
  },
  {
   "cell_type": "code",
   "execution_count": null,
   "metadata": {},
   "outputs": [],
   "source": [
    "# Load the data\n",
    "_data = np.load('data/ML_data.npy', allow_pickle=True).tolist()\n",
    "X_train_raw = _data['X_12h_train']\n",
    "y_train = _data['y_12h_train']\n",
    "X_val_raw = _data['X_12h_val']\n",
    "y_val = _data['y_12h_val']\n",
    "X_test_raw = _data['X_12h_test']\n",
    "y_test = _data['y_12h_test']\n",
    "print(\"Loaded!\")"
   ]
  },
  {
   "cell_type": "code",
   "execution_count": null,
   "metadata": {},
   "outputs": [],
   "source": [
    "# Print information about data\n",
    "print(\"No. of patients: {}\".format(len(y_train)+len(y_val)+len(y_test)))\n",
    "print(\"No. of patients in train, val, test sets: {}, {}, {}\".format(len(X_train), len(X_val), len(X_test)))\n",
    "print(\"No. of extubation failures in train, val, test sets: {}, {}, {}\".format(str(sum(y_train)), str(sum(y_val)), str(sum(y_test))))\n",
    "print(\"Proportion of extubation failures in train, val, test sets: {}%, {}%, {}%\".format(round(sum(y_train)/len(y_train)*100,3), round(sum(y_val)/len(y_val)*100,3), round(sum(y_test)/len(y_test)*100,3)))"
   ]
  },
  {
   "cell_type": "code",
   "execution_count": null,
   "metadata": {},
   "outputs": [],
   "source": [
    "# Check the shapes of the arrays\n",
    "print(\"X_train_raw: {}\".format(np.shape(X_train_raw)))\n",
    "print(\"y_train: {}\".format(np.shape(y_train)))\n",
    "print(\"X_val_raw: {}\".format(np.shape(X_val_raw)))\n",
    "print(\"y_val: {}\".format(np.shape(y_val)))\n",
    "print(\"X_test_raw: {}\".format(np.shape(X_test_raw)))\n",
    "print(\"y_test: {}\".format(np.shape(y_test)))"
   ]
  },
  {
   "cell_type": "code",
   "execution_count": null,
   "metadata": {},
   "outputs": [],
   "source": [
    "# Prepare training data for non-temporal models\n",
    "m, n, T = np.shape(X_train_raw)\n",
    "X_train_static = np.zeros((m,n*4))\n",
    "for i in range(m):\n",
    "    for j in range(n):\n",
    "        feature = X_train_raw[i,j,:]\n",
    "        extracted_features = [np.min(feature), np.max(feature), np.mean(feature), np.std(feature)]\n",
    "        X_train_static[i,(j*4):(j*4+4)] = extracted_features\n",
    "        \n",
    "# Prepare test data for non-temporal models\n",
    "m, n, T = np.shape(X_test_raw)\n",
    "X_test_static = np.zeros((m,n*4))\n",
    "for i in range(m):\n",
    "    for j in range(n):\n",
    "        feature = X_test_raw[i,j,:]\n",
    "        extracted_features = [np.min(feature), np.max(feature), np.mean(feature), np.std(feature)]\n",
    "        X_test_static[i,(j*4):(j*4+4)] = extracted_features\n",
    "        \n",
    "# Check the shapes of the new arrays\n",
    "print(\"X_train_static: {}\".format(np.shape(X_train_static)))\n",
    "print(\"X_test_static: {}\".format(np.shape(X_test_static)))"
   ]
  },
  {
   "cell_type": "code",
   "execution_count": null,
   "metadata": {},
   "outputs": [],
   "source": [
    "# Scale the training data using a z-transform, and apply that scaler to the test data\n",
    "from sklearn.preprocessing import StandardScaler\n",
    "scaler = StandardScaler()\n",
    "X_train_scaled = scaler.fit_transform(X_train_static)\n",
    "X_test_scaled = scaler.transform(X_test_static)\n",
    "print(np.shape(X_train_scaled))"
   ]
  },
  {
   "cell_type": "code",
   "execution_count": null,
   "metadata": {},
   "outputs": [],
   "source": [
    "# Create logistic regression classifer object\n",
    "from sklearn.linear_model import LogisticRegression\n",
    "logisticRegr = LogisticRegression(solver = \"liblinear\")\n",
    "\n",
    "# Train logistic regression classifer\n",
    "logisticRegr.fit(X_train_scaled, y_train)\n",
    "\n",
    "# Predict the response for test dataset\n",
    "y_pred_24h_lr = logisticRegr.predict_proba(X_test_scaled)[:,1]"
   ]
  },
  {
   "cell_type": "code",
   "execution_count": null,
   "metadata": {},
   "outputs": [],
   "source": [
    "# Calculate TPR and FPR on the test set for plotting the ROC curve\n",
    "from sklearn.metrics import roc_curve\n",
    "fpr_24h_lr, tpr_24h_lr, thresholds_24h_lr = roc_curve(y_test, y_pred_24h_lr)"
   ]
  },
  {
   "cell_type": "code",
   "execution_count": null,
   "metadata": {},
   "outputs": [],
   "source": [
    "# Calculate the AUROC for the test set\n",
    "from sklearn.metrics import auc\n",
    "auc_24h_lr = auc(fpr_24h_lr, tpr_24h_lr)"
   ]
  },
  {
   "cell_type": "code",
   "execution_count": null,
   "metadata": {},
   "outputs": [],
   "source": [
    "# Choose the three thresholds\n",
    "#thresh_A, thresh_B, thresh_C = 0.8, 0.35, 0.25\n",
    "#A = np.where(thresholds==thresholds[thresholds>=thresh_A][-1])\n",
    "#B = np.where(thresholds==thresholds[thresholds>=thresh_B][-1])\n",
    "#C = np.where(thresholds==thresholds[thresholds>=thresh_C][-1])\n",
    "\n",
    "# Calculate TP, FP, TN and FN for each threshold\n",
    "#[[tn_A,fp_A],[fn_A,tp_A]] = confusion_matrix(y_test, y_pred_lr[:]>thresh_A)\n",
    "#[[tn_B,fp_B],[fn_B,tp_B]] = confusion_matrix(y_test, y_pred_lr[:]>thresh_B)\n",
    "#[[tn_C,fp_C],[fn_C,tp_C]] = confusion_matrix(y_test, y_pred_lr[:]>thresh_C)\n",
    "\n",
    "# Plot the ROC curve\n",
    "#plt.figure(figsize=(8,8))\n",
    "#plt.plot([0, 1], [0, 1], 'k--')\n",
    "#plt.plot(fpr_lr, tpr_lr)\n",
    "#plt.plot(fpr_lr[A], tpr_lr[A],'.', markersize=20, label='A - Accuracy = {:.1f}%, Sens. = {:.1f}%, Spec. = {:.1f}%, PPV = {:.1f}%'.format(100*(tp_A+tn_A)/(tp_A+tn_A+fp_A+fn_A), 100*tp_A/(tp_A+fn_A), 100*tn_A/(tn_A+fp_A), 100*tp_A/(tp_A+fp_A)))\n",
    "#plt.annotate('A', (fpr_lr[A]+0.02, tpr_lr[A]))\n",
    "#plt.plot(fpr_lr[B], tpr_lr[B],'.', markersize=20, label='B - Accuracy = {:.1f}%, Sens. = {:.1f}%, Spec. = {:.1f}%, PPV = {:.1f}%'.format(100*(tp_B+tn_B)/(tp_B+tn_B+fp_B+fn_B), 100*tp_B/(tp_B+fn_B), 100*tn_B/(tn_B+fp_B), 100*tp_B/(tp_B+fp_B)))\n",
    "#plt.annotate('B', (fpr_lr[B]-0.03, tpr_lr[B]))\n",
    "#plt.plot(fpr_lr[C], tpr_lr[C],'.', markersize=20, label='C - Accuracy = {:.1f}%, Sens. = {:.1f}%, Spec. = {:.1f}%, PPV = {:.1f}%'.format(100*(tp_C+tn_C)/(tp_C+tn_C+fp_C+fn_C), 100*tp_C/(tp_C+fn_C), 100*tn_C/(tn_C+fp_C), 100*tp_C/(tp_C+fp_C)))\n",
    "#plt.annotate('C', (fpr_lr[C], tpr_lr[C]-0.04))\n",
    "#plt.xlabel('1 - (Specificity)')\n",
    "#plt.ylabel('Sensitivity')\n",
    "#plt.title('Logistic Regression for Predicting Extubation Failure (AUC = {:.3f})'.format(auc_lr))\n",
    "#plt.legend(loc='lower right')\n",
    "#plt.savefig('plots/lr.png', bbox_inches='tight')\n",
    "#plt.show()"
   ]
  },
  {
   "cell_type": "code",
   "execution_count": null,
   "metadata": {},
   "outputs": [],
   "source": [
    "# Calculate the confusion matrix\n",
    "#decision_threshold = thresh_B\n",
    "#cm = confusion_matrix(y_test, y_pred_lr[:]>decision_threshold)\n",
    "#plot_confusion_matrix(cm, ['Success', 'Failure'], normalize=False, title='Logistic Regression')"
   ]
  },
  {
   "cell_type": "code",
   "execution_count": null,
   "metadata": {},
   "outputs": [],
   "source": [
    "# Create a function to calculate the SAPS II score given some input data\n",
    "def rsbi(data):\n",
    "    \n",
    "    '''\n",
    "    Function to calculate the RSBI for each patient\n",
    "    \n",
    "    INPUTS:\n",
    "    data - array of shape (m,n,T), where m = number of patients and n = number of features, T = number of time steps\n",
    "    \n",
    "    OUTPUTS:\n",
    "    rsbi - array of shape (m,1), with the calculated RSBI\n",
    "    '''\n",
    "    \n",
    "    # Calculate RSBI\n",
    "    freq = data[:,25,-1]\n",
    "    tidvol = data[:,26,-1]/1000\n",
    "    rsbi = freq/tidvol\n",
    "    \n",
    "    # Make prediction\n",
    "    pred = rsbi > 100\n",
    "    \n",
    "    # Return results\n",
    "    return rsbi, pred"
   ]
  },
  {
   "cell_type": "code",
   "execution_count": null,
   "metadata": {},
   "outputs": [],
   "source": [
    "# Load the data\n",
    "#_data = np.load('res/ML_data.npy', allow_pickle=True).tolist()\n",
    "#X_train = _data['X_train']\n",
    "#y_train = _data['y_train']\n",
    "#X_val = _data['X_val']\n",
    "#y_val = _data['y_val']\n",
    "#X_test = _data['X_test']\n",
    "#y_test = _data['y_test']\n",
    "#print(\"Loaded!\")"
   ]
  },
  {
   "cell_type": "code",
   "execution_count": null,
   "metadata": {},
   "outputs": [],
   "source": [
    "# Print information about data\n",
    "#print(\"No. of patients: {}\".format(len(y_train)+len(y_val)+len(y_test)))\n",
    "#print(\"No. of patients in train, val, test sets: {}, {}, {}\".format(len(X_train), len(X_val), len(X_test)))\n",
    "#print(\"No. of extubation failures in train, val, test sets: {}, {}, {}\".format(str(sum(y_train)), str(sum(y_val)), str(sum(y_test))))\n",
    "#print(\"Proportion of extubation failures in train, val, test sets: {}%, {}%, {}%\".format(round(sum(y_train)/len(y_train)*100,3), round(sum(y_val)/len(y_val)*100,3), round(sum(y_test)/len(y_test)*100,3)))"
   ]
  },
  {
   "cell_type": "code",
   "execution_count": null,
   "metadata": {},
   "outputs": [],
   "source": [
    "# Check the shapes of the arrays\n",
    "#print(\"X_train: {}\".format(np.shape(X_train)))\n",
    "#print(\"y_train: {}\".format(np.shape(y_train)))\n",
    "#print(\"X_val: {}\".format(np.shape(X_val)))\n",
    "#print(\"y_val: {}\".format(np.shape(y_val)))\n",
    "#print(\"X_test: {}\".format(np.shape(X_test)))\n",
    "#print(\"y_test: {}\".format(np.shape(y_test)))"
   ]
  },
  {
   "cell_type": "code",
   "execution_count": null,
   "metadata": {},
   "outputs": [],
   "source": [
    "# Calculate RSBI and make prediction\n",
    "#rsbi, y_pred_rsbi = rsbi(X_test)"
   ]
  },
  {
   "cell_type": "code",
   "execution_count": null,
   "metadata": {},
   "outputs": [],
   "source": [
    "# Calculate the confusion matrix\n",
    "#cm = confusion_matrix(y_test, y_pred_rsbi)\n",
    "#plot_confusion_matrix(cm, ['Success', 'Failure'], normalize=False, title='RSBI')"
   ]
  },
  {
   "cell_type": "code",
   "execution_count": null,
   "metadata": {},
   "outputs": [],
   "source": [
    "# Calculate sensitivity and specificity for RSBI\n",
    "#[[tn_rsbi,fp_rsbi],[fn_rbsi,tp_rsbi]] = confusion_matrix(y_test, y_pred_rsbi)\n",
    "#tpr_rsbi = tp_rsbi / (tp_rsbi + fp_rsbi) # TPR = sensitivity\n",
    "#fpr_rsbi = tp_rsbi / (tp_rsbi + fp_rsbi) # FPR = specificity"
   ]
  },
  {
   "cell_type": "code",
   "execution_count": null,
   "metadata": {},
   "outputs": [],
   "source": [
    "# Compare ROC curves\n",
    "plt.figure(figsize=(12,12))\n",
    "plt.plot([0, 1], [0, 1], 'k--')\n",
    "plt.plot(fpr_6h_rnn, tpr_6h_rnn, label='6-hour RNN (AUC = {:.3f})'.format(auc_6h_rnn), ls='-')\n",
    "plt.plot(fpr_12h_rnn, tpr_12h_rnn, label='12-hour RNN (AUC = {:.3f})'.format(auc_12h_rnn), ls='-')\n",
    "plt.plot(fpr_24h_rnn, tpr_24h_rnn, label='24-hour RNN (AUC = {:.3f})'.format(auc_24h_rnn), ls='-')\n",
    "plt.plot(fpr_6h_lr, tpr_6h_lr, label='6-hour LR (AUC = {:.3f})'.format(auc_6h_lr), ls='-')\n",
    "plt.plot(fpr_12h_lr, tpr_12h_lr, label='12-hour LR (AUC = {:.3f})'.format(auc_12h_lr), ls='-')\n",
    "plt.plot(fpr_24h_lr, tpr_24h_lr, label='24-hour LR (AUC = {:.3f})'.format(auc_24h_lr), ls='-')\n",
    "#plt.plot(1-fpr_rsbi, tpr_rsbi, '*', markersize=20, c='blue', label='Rapid shallow breathing index > 100 breaths/min/L')\n",
    "plt.xlabel('1 - (Specificity)')\n",
    "plt.ylabel('Sensitivity')\n",
    "plt.title('Predicting Extubation Failure')\n",
    "plt.legend(loc='lower right')\n",
    "plt.savefig('plots/roc_curves.png', bbox_inches='tight')\n",
    "plt.show()"
   ]
  },
  {
   "cell_type": "code",
   "execution_count": null,
   "metadata": {},
   "outputs": [],
   "source": []
  }
 ],
 "metadata": {
  "kernelspec": {
   "display_name": "Python 3",
   "language": "python",
   "name": "python3"
  },
  "language_info": {
   "codemirror_mode": {
    "name": "ipython",
    "version": 3
   },
   "file_extension": ".py",
   "mimetype": "text/x-python",
   "name": "python",
   "nbconvert_exporter": "python",
   "pygments_lexer": "ipython3",
   "version": "3.7.3"
  }
 },
 "nbformat": 4,
 "nbformat_minor": 4
}
