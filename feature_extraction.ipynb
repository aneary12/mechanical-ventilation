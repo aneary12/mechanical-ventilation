{
 "cells": [
  {
   "cell_type": "code",
   "execution_count": 1,
   "metadata": {},
   "outputs": [],
   "source": [
    "# Import libraries\n",
    "import numpy as np\n",
    "import pandas as pd\n",
    "import psycopg2\n",
    "import getpass\n",
    "import time\n",
    "import os.path\n",
    "import matplotlib.pyplot as plt\n",
    "%matplotlib inline"
   ]
  },
  {
   "cell_type": "code",
   "execution_count": 2,
   "metadata": {},
   "outputs": [
    {
     "name": "stdin",
     "output_type": "stream",
     "text": [
      "Password: ··········\n"
     ]
    }
   ],
   "source": [
    "# Load the database connection details\n",
    "_data = np.load('data/db_details.npy', allow_pickle=True).tolist()\n",
    "db_details = _data['db_details']\n",
    "user = db_details['user']\n",
    "host = db_details['host']\n",
    "port = db_details['port']\n",
    "dbname = db_details['dbname']\n",
    "schema = db_details['schema']\n",
    "    \n",
    "# Connect to the database\n",
    "conn = psycopg2.connect(dbname=dbname, user=user, host=host, port=port, password=getpass.getpass(prompt='Password:'.format(user)))\n",
    "cur = conn.cursor()\n",
    "cur.execute('SET search_path TO {}'.format(schema))\n",
    "conn.commit()"
   ]
  },
  {
   "cell_type": "code",
   "execution_count": 3,
   "metadata": {},
   "outputs": [
    {
     "name": "stdout",
     "output_type": "stream",
     "text": [
      "Loaded!\n"
     ]
    }
   ],
   "source": [
    "# Load the patient data\n",
    "_data = np.load('data/patients.npy', allow_pickle=True).tolist()\n",
    "patients = _data['patients']\n",
    "print(\"Loaded!\")"
   ]
  },
  {
   "cell_type": "code",
   "execution_count": 4,
   "metadata": {},
   "outputs": [],
   "source": [
    "# Function to query the database for a specific feature\n",
    "def get_feature(feature_name):\n",
    "    \n",
    "    '''\n",
    "    Queries the MIMIC-III database for the specified feature.\n",
    "    SQL_queries is a dictionary with feature names as keys, and the corresponding SQL queries as values.\n",
    "    '''\n",
    "    \n",
    "    start = time.time()\n",
    "\n",
    "    # Load the query\n",
    "    query = open('queries/{}.sql'.format(feature_name), 'r')\n",
    "\n",
    "    # Store the result of the query as a pandas dataframe\n",
    "    result = pd.read_sql_query(query.read(), conn)\n",
    "    query.close()\n",
    "\n",
    "    end = time.time()\n",
    "    \n",
    "    # Print run time\n",
    "    print(\"The '{}' query took {:.2f} seconds\".format(feature_name, end-start))\n",
    "    \n",
    "    # Return the feature\n",
    "    return result"
   ]
  },
  {
   "cell_type": "code",
   "execution_count": 5,
   "metadata": {},
   "outputs": [],
   "source": [
    "# Function that removes missing values\n",
    "def remove_nan(feature):\n",
    "    \n",
    "    '''\n",
    "    Removes nan values from the feature set\n",
    "    feature is a pandas DataFrame representing some feature queried from the MIMIC-III database\n",
    "    '''\n",
    "    \n",
    "    # Remove rows where valuenum is not a number\n",
    "    result = feature.dropna(axis=0, subset=['valuenum'])\n",
    "    \n",
    "    # Calculate how many rows were removed\n",
    "    before, after = len(feature), len(result)\n",
    "    diff = before - after\n",
    "    \n",
    "    # Print how many rows were removed\n",
    "    print(\"{} rows were removed ({:.2f}% of all measurements)\".format(diff, 100*diff/before))\n",
    "    \n",
    "    # Return the cleaned feature dataframe\n",
    "    return result"
   ]
  },
  {
   "cell_type": "code",
   "execution_count": 6,
   "metadata": {},
   "outputs": [],
   "source": [
    "# Function that creates a list of numpy arrays with all measurements for each patient sorted by time\n",
    "def collect_all_measurements(feature, patients):\n",
    "    '''\n",
    "    Creates a list of numpy arrays, where each array has the value of measurements and the corresponding times they were taken for each patient.\n",
    "    feature is a pandas DataFrame representing some feature queried from the MIMIC-III database\n",
    "    patients is a pandas DataFrame that has been previously loaded, containing patient details for patients of interest\n",
    "    '''\n",
    "    \n",
    "    start = time.time()\n",
    "    \n",
    "    # Create an empty list in which to store the data\n",
    "    results = []\n",
    "    \n",
    "    # Extract subject ID, hospital admission time and hospital discharge time\n",
    "    m = len(patients) # number of patients\n",
    "    hadm_id = patients['hadm_id']\n",
    "    admittime = patients['admittime']\n",
    "    dischtime = patients['dischtime']\n",
    "    \n",
    "    # Iterate over every patient\n",
    "    for i in range(m):\n",
    "    \n",
    "        # Define subject ID\n",
    "        h_id = int(hadm_id[i])\n",
    "    \n",
    "        # Select data for this subject\n",
    "        measurements = feature[feature['hadm_id']==h_id]\n",
    "        \n",
    "        # Get hospital admission and discharge times for this subject\n",
    "        admit = admittime[i]\n",
    "        disch = dischtime[i]\n",
    "        \n",
    "        # Discard measurements before admission and after discharge\n",
    "        measurements = measurements[measurements['charttime'] > admit] # remove measurements before admission\n",
    "        measurements = measurements[measurements['charttime'] < disch] # remove measurements after discharge\n",
    "        \n",
    "        # Sort the measurements by time\n",
    "        measurements = measurements.sort_values(by=['charttime'])\n",
    "        \n",
    "        # Create a final array for this subject, with one column for datetimes and one column for measurements\n",
    "        res = np.vstack((np.array([x.to_pydatetime() for x in measurements['charttime']]), np.array(measurements['valuenum']))).T\n",
    "        \n",
    "        # Append this subjects' array to the results list (after casting to a numpy array)\n",
    "        results.append(res)\n",
    "        \n",
    "    end = time.time()\n",
    "    \n",
    "    # Print run time\n",
    "    print(\"It took {} minutes to collect all the measurements for each patient\".format(round((end-start)/60,2)))\n",
    "        \n",
    "    # Return the results\n",
    "    return results"
   ]
  },
  {
   "cell_type": "code",
   "execution_count": 7,
   "metadata": {},
   "outputs": [
    {
     "name": "stdout",
     "output_type": "stream",
     "text": [
      "The 'bicarb' query took 6.35 seconds\n",
      "209 rows were removed (0.03% of all measurements)\n",
      "It took 0.99 minutes to collect all the measurements for each patient\n",
      "\n",
      "The 'bilirubin' query took 2.57 seconds\n",
      "29 rows were removed (0.01% of all measurements)\n",
      "It took 0.87 minutes to collect all the measurements for each patient\n",
      "\n",
      "The 'bp' query took 26.56 seconds\n",
      "15168 rows were removed (0.25% of all measurements)\n",
      "It took 3.78 minutes to collect all the measurements for each patient\n",
      "\n",
      "The 'fio2' query took 23.48 seconds\n",
      "10996 rows were removed (0.51% of all measurements)\n",
      "It took 1.79 minutes to collect all the measurements for each patient\n",
      "\n",
      "The 'hr' query took 32.26 seconds\n",
      "1446 rows were removed (0.02% of all measurements)\n",
      "It took 4.72 minutes to collect all the measurements for each patient\n",
      "\n",
      "The 'pao2' query took 6.17 seconds\n",
      "108 rows were removed (0.02% of all measurements)\n",
      "It took 0.96 minutes to collect all the measurements for each patient\n",
      "\n",
      "The 'potassium' query took 8.90 seconds\n",
      "446 rows were removed (0.04% of all measurements)\n",
      "It took 1.12 minutes to collect all the measurements for each patient\n",
      "\n",
      "The 'resp' query took 27.30 seconds\n",
      "1730 rows were removed (0.03% of all measurements)\n",
      "It took 3.95 minutes to collect all the measurements for each patient\n",
      "\n",
      "The 'sodium' query took 6.46 seconds\n",
      "73 rows were removed (0.01% of all measurements)\n",
      "It took 1.0 minutes to collect all the measurements for each patient\n",
      "\n",
      "The 'spo2' query took 38.53 seconds\n",
      "3813 rows were removed (0.06% of all measurements)\n",
      "It took 3.51 minutes to collect all the measurements for each patient\n",
      "\n",
      "The 'temp' query took 8.75 seconds\n",
      "8804 rows were removed (0.50% of all measurements)\n",
      "It took 1.52 minutes to collect all the measurements for each patient\n",
      "\n",
      "The 'urea' query took 6.84 seconds\n",
      "45 rows were removed (0.01% of all measurements)\n",
      "It took 0.98 minutes to collect all the measurements for each patient\n",
      "\n",
      "The 'urine' query took 16.37 seconds\n",
      "15587 rows were removed (0.46% of all measurements)\n",
      "It took 2.13 minutes to collect all the measurements for each patient\n",
      "\n",
      "The 'wbc' query took 5.53 seconds\n",
      "408 rows were removed (0.05% of all measurements)\n",
      "It took 0.98 minutes to collect all the measurements for each patient\n",
      "\n"
     ]
    }
   ],
   "source": [
    "# Specify the features\n",
    "features = [\n",
    "    'bicarb',\n",
    "    'bilirubin',\n",
    "    'bp',\n",
    "    'fio2',\n",
    "    'hr',\n",
    "    'pao2',\n",
    "    'potassium',\n",
    "    'resp',\n",
    "    'sodium',\n",
    "    'spo2',\n",
    "    'temp',\n",
    "    'urea',\n",
    "    'urine',\n",
    "    'wbc'\n",
    "]\n",
    "\n",
    "# Iterate over every feature\n",
    "for i in features:\n",
    "    \n",
    "    # Define a pre-cursor variable name\n",
    "    precursor = '_' + i\n",
    "    \n",
    "    # Query the database for the feature\n",
    "    exec(precursor + \" = get_feature('{}')\".format(i))\n",
    "    \n",
    "    # Remove any missing values\n",
    "    exec(precursor + \" = remove_nan({})\".format(precursor))\n",
    "    \n",
    "    # Collect measurements for every patient, excluding measurements outside the relevant hospital stay\n",
    "    exec(i + \" = collect_all_measurements({}, patients)\".format(precursor))\n",
    "    \n",
    "    # Print a separator between features\n",
    "    print('')"
   ]
  },
  {
   "cell_type": "code",
   "execution_count": 8,
   "metadata": {},
   "outputs": [
    {
     "name": "stdout",
     "output_type": "stream",
     "text": [
      "It took 0.39 seconds to convert all temperatures to Celsius\n"
     ]
    }
   ],
   "source": [
    "# Convert Fahrenheit temperatures to Celsius (in temp)\n",
    "start = time.time()\n",
    "for i in range(len(temp)): # iterate over all patients\n",
    "    data = temp[i][:,1] # select the values only\n",
    "    for k in range(len(data)): # iterate over each value and convert if necessary\n",
    "        data[k] = (data[k]-32)*5/9 if data[k]>50 else data[k]\n",
    "end = time.time()\n",
    "\n",
    "# Print run time\n",
    "print(\"It took {} seconds to convert all temperatures to Celsius\".format(round((end-start),2)))"
   ]
  },
  {
   "cell_type": "code",
   "execution_count": 9,
   "metadata": {},
   "outputs": [
    {
     "name": "stdout",
     "output_type": "stream",
     "text": [
      "Saved!\n"
     ]
    }
   ],
   "source": [
    "# Save to raw_features.npy\n",
    "if not os.path.exists('./data'):\n",
    "    os.makedirs('./data')\n",
    "\n",
    "tosave = {\n",
    "    '_bicarb': _bicarb, 'bicarb': bicarb,\n",
    "    '_bilirubin': _bilirubin, 'bilirubin': bilirubin,\n",
    "    '_bp': _bp, 'bp': bp,\n",
    "    '_fio2': _fio2, 'fio2': fio2,\n",
    "    '_hr': _hr, 'hr': hr,\n",
    "    '_pao2': _pao2, 'pao2': pao2,\n",
    "    '_potassium': _potassium, 'potassium': potassium,\n",
    "    '_resp': _resp, 'resp': resp,\n",
    "    '_sodium': _sodium, 'sodium': sodium,\n",
    "    '_spo2': _spo2, 'spo2': spo2,\n",
    "    '_temp': _temp, 'temp': temp,\n",
    "    '_urea': _urea, 'urea': urea,\n",
    "    '_urine': _urine, 'urine': urine,\n",
    "    '_wbc': _wbc, 'wbc': wbc,\n",
    "}\n",
    "np.save('data/raw_features.npy',tosave)\n",
    "print(\"Saved!\")"
   ]
  }
 ],
 "metadata": {
  "kernelspec": {
   "display_name": "Python 3",
   "language": "python",
   "name": "python3"
  },
  "language_info": {
   "codemirror_mode": {
    "name": "ipython",
    "version": 3
   },
   "file_extension": ".py",
   "mimetype": "text/x-python",
   "name": "python",
   "nbconvert_exporter": "python",
   "pygments_lexer": "ipython3",
   "version": "3.7.3"
  }
 },
 "nbformat": 4,
 "nbformat_minor": 4
}
