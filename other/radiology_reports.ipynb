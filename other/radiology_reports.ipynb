{
 "cells": [
  {
   "cell_type": "code",
   "execution_count": 28,
   "metadata": {},
   "outputs": [],
   "source": [
    "# Import libraries\n",
    "import numpy as np\n",
    "import pandas as pd\n",
    "import psycopg2\n",
    "import getpass\n",
    "import time\n",
    "import os.path\n",
    "import matplotlib.pyplot as plt\n",
    "%matplotlib inline"
   ]
  },
  {
   "cell_type": "code",
   "execution_count": 29,
   "metadata": {},
   "outputs": [
    {
     "name": "stdout",
     "output_type": "stream",
     "text": [
      "Loaded the patient data!\n"
     ]
    }
   ],
   "source": [
    "# Load the patient data\n",
    "_data = np.load('data/patients.npy', allow_pickle=True).tolist()\n",
    "patients = _data['patients']\n",
    "print(\"Loaded the patient data!\")"
   ]
  },
  {
   "cell_type": "code",
   "execution_count": 30,
   "metadata": {},
   "outputs": [
    {
     "name": "stdin",
     "output_type": "stream",
     "text": [
      "Password: ··········\n"
     ]
    }
   ],
   "source": [
    "# Load the database connection details\n",
    "_data = np.load('data/db_details.npy', allow_pickle=True).tolist()\n",
    "db_details = _data['db_details']\n",
    "user = db_details['user']\n",
    "host = db_details['host']\n",
    "port = db_details['port']\n",
    "dbname = db_details['dbname']\n",
    "schema = db_details['schema']\n",
    "    \n",
    "# Connect to the database\n",
    "conn = psycopg2.connect(dbname=dbname, user=user, host=host, port=port, password=getpass.getpass(prompt='Password:'.format(user)))\n",
    "cur = conn.cursor()\n",
    "cur.execute('SET search_path TO {}'.format(schema))\n",
    "conn.commit()"
   ]
  },
  {
   "cell_type": "code",
   "execution_count": 31,
   "metadata": {},
   "outputs": [
    {
     "name": "stdout",
     "output_type": "stream",
     "text": [
      "The query took 15.7 seconds\n"
     ]
    }
   ],
   "source": [
    "# Query the database for radiology reports\n",
    "query = \\\n",
    "'''\n",
    "SELECT subject_id, hadm_id, chartdate, description, text\n",
    "FROM noteevents\n",
    "WHERE category = 'Radiology'\n",
    "'''\n",
    "\n",
    "start = time.time()\n",
    "\n",
    "# Store the result of the query as a pandas dataframe\n",
    "reports = pd.read_sql_query(query, conn)\n",
    "\n",
    "end = time.time()\n",
    "    \n",
    "# Print run time\n",
    "print(\"The query took {:.1f} seconds\".format(end-start))"
   ]
  },
  {
   "cell_type": "code",
   "execution_count": 32,
   "metadata": {},
   "outputs": [
    {
     "data": {
      "text/html": [
       "<div>\n",
       "<style scoped>\n",
       "    .dataframe tbody tr th:only-of-type {\n",
       "        vertical-align: middle;\n",
       "    }\n",
       "\n",
       "    .dataframe tbody tr th {\n",
       "        vertical-align: top;\n",
       "    }\n",
       "\n",
       "    .dataframe thead th {\n",
       "        text-align: right;\n",
       "    }\n",
       "</style>\n",
       "<table border=\"1\" class=\"dataframe\">\n",
       "  <thead>\n",
       "    <tr style=\"text-align: right;\">\n",
       "      <th></th>\n",
       "      <th>subject_id</th>\n",
       "      <th>hadm_id</th>\n",
       "      <th>chartdate</th>\n",
       "      <th>description</th>\n",
       "      <th>text</th>\n",
       "      <th>bilateral</th>\n",
       "      <th>infiltrates</th>\n",
       "      <th>intime</th>\n",
       "    </tr>\n",
       "  </thead>\n",
       "  <tbody>\n",
       "    <tr>\n",
       "      <th>0</th>\n",
       "      <td>93207</td>\n",
       "      <td>104110.0</td>\n",
       "      <td>2166-10-09</td>\n",
       "      <td>DISTINCT PROCEDURAL SERVICE</td>\n",
       "      <td>[**Last Name (LF) **],[**First Name3 (LF) **] ...</td>\n",
       "      <td>False</td>\n",
       "      <td>False</td>\n",
       "      <td>2166-10-09 23:07:18</td>\n",
       "    </tr>\n",
       "    <tr>\n",
       "      <th>1</th>\n",
       "      <td>93207</td>\n",
       "      <td>104110.0</td>\n",
       "      <td>2166-10-11</td>\n",
       "      <td>CT ABD &amp; PELVIS W/O CONTRAST</td>\n",
       "      <td>[**2166-10-11**] 10:33 AM\\n CT ABD &amp; PELVIS W/...</td>\n",
       "      <td>True</td>\n",
       "      <td>False</td>\n",
       "      <td>2166-10-09 23:07:18</td>\n",
       "    </tr>\n",
       "    <tr>\n",
       "      <th>2</th>\n",
       "      <td>93207</td>\n",
       "      <td>104110.0</td>\n",
       "      <td>2166-10-09</td>\n",
       "      <td>CTA HEAD W&amp;W/O C &amp; RECONS</td>\n",
       "      <td>[**2166-10-9**] 8:24 PM\\n CTA HEAD W&amp;W/O C &amp; R...</td>\n",
       "      <td>True</td>\n",
       "      <td>False</td>\n",
       "      <td>2166-10-09 23:07:18</td>\n",
       "    </tr>\n",
       "    <tr>\n",
       "      <th>3</th>\n",
       "      <td>93207</td>\n",
       "      <td>104110.0</td>\n",
       "      <td>2166-10-09</td>\n",
       "      <td>CHEST (PORTABLE AP)</td>\n",
       "      <td>[**2166-10-9**] 8:59 PM\\n CHEST (PORTABLE AP) ...</td>\n",
       "      <td>False</td>\n",
       "      <td>False</td>\n",
       "      <td>2166-10-09 23:07:18</td>\n",
       "    </tr>\n",
       "    <tr>\n",
       "      <th>4</th>\n",
       "      <td>93207</td>\n",
       "      <td>104110.0</td>\n",
       "      <td>2166-10-10</td>\n",
       "      <td>MR HEAD W/O CONTRAST</td>\n",
       "      <td>[**2166-10-10**] 2:39 PM\\n MR HEAD W/O CONTRAS...</td>\n",
       "      <td>False</td>\n",
       "      <td>False</td>\n",
       "      <td>2166-10-09 23:07:18</td>\n",
       "    </tr>\n",
       "  </tbody>\n",
       "</table>\n",
       "</div>"
      ],
      "text/plain": [
       "   subject_id   hadm_id  chartdate                   description  \\\n",
       "0       93207  104110.0 2166-10-09   DISTINCT PROCEDURAL SERVICE   \n",
       "1       93207  104110.0 2166-10-11  CT ABD & PELVIS W/O CONTRAST   \n",
       "2       93207  104110.0 2166-10-09     CTA HEAD W&W/O C & RECONS   \n",
       "3       93207  104110.0 2166-10-09           CHEST (PORTABLE AP)   \n",
       "4       93207  104110.0 2166-10-10          MR HEAD W/O CONTRAST   \n",
       "\n",
       "                                                text  bilateral  infiltrates  \\\n",
       "0  [**Last Name (LF) **],[**First Name3 (LF) **] ...      False        False   \n",
       "1  [**2166-10-11**] 10:33 AM\\n CT ABD & PELVIS W/...       True        False   \n",
       "2  [**2166-10-9**] 8:24 PM\\n CTA HEAD W&W/O C & R...       True        False   \n",
       "3  [**2166-10-9**] 8:59 PM\\n CHEST (PORTABLE AP) ...      False        False   \n",
       "4  [**2166-10-10**] 2:39 PM\\n MR HEAD W/O CONTRAS...      False        False   \n",
       "\n",
       "               intime  \n",
       "0 2166-10-09 23:07:18  \n",
       "1 2166-10-09 23:07:18  \n",
       "2 2166-10-09 23:07:18  \n",
       "3 2166-10-09 23:07:18  \n",
       "4 2166-10-09 23:07:18  "
      ]
     },
     "execution_count": 32,
     "metadata": {},
     "output_type": "execute_result"
    }
   ],
   "source": [
    "# Create columns representing the presence of different terms in the radiology reports\n",
    "reports['bilateral'] = reports['text'].str.lower().str.find('bilateral') >= 0\n",
    "reports['infiltrates'] = reports['text'].str.lower().str.find('infiltrates') >= 0\n",
    "\n",
    "# Select reports only for patients we are interested in\n",
    "reports = reports.loc[reports['hadm_id'].isin(patients['hadm_id'])]\n",
    "\n",
    "# Add a column for ICU admission time\n",
    "reports = reports.merge(patients[['hadm_id', 'intime']], on='hadm_id')\n",
    "\n",
    "# Remove reports taken more than 1 day before or 2 days after ICU admission\n",
    "diff = reports['chartdate'] - reports['intime']\n",
    "reports = reports[(diff > np.timedelta64(-1,'D')) & (diff <= np.timedelta64(3,'D'))]\n",
    "\n",
    "# Show some sample data\n",
    "reports.head()"
   ]
  },
  {
   "cell_type": "code",
   "execution_count": 33,
   "metadata": {},
   "outputs": [
    {
     "data": {
      "text/plain": [
       "27825"
      ]
     },
     "execution_count": 33,
     "metadata": {},
     "output_type": "execute_result"
    }
   ],
   "source": [
    "len(np.unique(reports['hadm_id']))"
   ]
  },
  {
   "cell_type": "code",
   "execution_count": 34,
   "metadata": {},
   "outputs": [
    {
     "data": {
      "text/html": [
       "<div>\n",
       "<style scoped>\n",
       "    .dataframe tbody tr th:only-of-type {\n",
       "        vertical-align: middle;\n",
       "    }\n",
       "\n",
       "    .dataframe tbody tr th {\n",
       "        vertical-align: top;\n",
       "    }\n",
       "\n",
       "    .dataframe thead th {\n",
       "        text-align: right;\n",
       "    }\n",
       "</style>\n",
       "<table border=\"1\" class=\"dataframe\">\n",
       "  <thead>\n",
       "    <tr style=\"text-align: right;\">\n",
       "      <th></th>\n",
       "      <th>subject_id</th>\n",
       "      <th>hadm_id</th>\n",
       "      <th>chartdate</th>\n",
       "      <th>description</th>\n",
       "      <th>text</th>\n",
       "      <th>bilateral</th>\n",
       "      <th>infiltrates</th>\n",
       "      <th>intime</th>\n",
       "    </tr>\n",
       "  </thead>\n",
       "  <tbody>\n",
       "    <tr>\n",
       "      <th>20758</th>\n",
       "      <td>3</td>\n",
       "      <td>145834.0</td>\n",
       "      <td>2101-10-20</td>\n",
       "      <td>CHEST (PORTABLE AP)</td>\n",
       "      <td>[**2101-10-20**] 10:23 PM\\n CHEST (PORTABLE AP...</td>\n",
       "      <td>True</td>\n",
       "      <td>True</td>\n",
       "      <td>2101-10-20 19:10:11</td>\n",
       "    </tr>\n",
       "    <tr>\n",
       "      <th>52619</th>\n",
       "      <td>96</td>\n",
       "      <td>170324.0</td>\n",
       "      <td>2156-04-02</td>\n",
       "      <td>CHEST (PORTABLE AP)</td>\n",
       "      <td>[**2156-4-2**] 5:17 PM\\n CHEST (PORTABLE AP)  ...</td>\n",
       "      <td>True</td>\n",
       "      <td>True</td>\n",
       "      <td>2156-03-31 16:11:34</td>\n",
       "    </tr>\n",
       "    <tr>\n",
       "      <th>52644</th>\n",
       "      <td>96</td>\n",
       "      <td>170324.0</td>\n",
       "      <td>2156-04-02</td>\n",
       "      <td>CHEST (PORTABLE AP)</td>\n",
       "      <td>[**2156-4-2**] 5:13 AM\\n CHEST (PORTABLE AP)  ...</td>\n",
       "      <td>True</td>\n",
       "      <td>True</td>\n",
       "      <td>2156-03-31 16:11:34</td>\n",
       "    </tr>\n",
       "    <tr>\n",
       "      <th>48505</th>\n",
       "      <td>209</td>\n",
       "      <td>135807.0</td>\n",
       "      <td>2119-09-25</td>\n",
       "      <td>CHEST (PORTABLE AP)</td>\n",
       "      <td>[**2119-9-25**] 2:57 PM\\n CHEST (PORTABLE AP) ...</td>\n",
       "      <td>True</td>\n",
       "      <td>True</td>\n",
       "      <td>2119-09-25 09:34:10</td>\n",
       "    </tr>\n",
       "    <tr>\n",
       "      <th>38218</th>\n",
       "      <td>214</td>\n",
       "      <td>197273.0</td>\n",
       "      <td>2188-10-07</td>\n",
       "      <td>CHEST (PORTABLE AP)</td>\n",
       "      <td>[**2188-10-7**] 10:34 PM\\n CHEST (PORTABLE AP)...</td>\n",
       "      <td>True</td>\n",
       "      <td>True</td>\n",
       "      <td>2188-10-06 23:56:53</td>\n",
       "    </tr>\n",
       "  </tbody>\n",
       "</table>\n",
       "</div>"
      ],
      "text/plain": [
       "       subject_id   hadm_id  chartdate          description  \\\n",
       "20758           3  145834.0 2101-10-20  CHEST (PORTABLE AP)   \n",
       "52619          96  170324.0 2156-04-02  CHEST (PORTABLE AP)   \n",
       "52644          96  170324.0 2156-04-02  CHEST (PORTABLE AP)   \n",
       "48505         209  135807.0 2119-09-25  CHEST (PORTABLE AP)   \n",
       "38218         214  197273.0 2188-10-07  CHEST (PORTABLE AP)   \n",
       "\n",
       "                                                    text  bilateral  \\\n",
       "20758  [**2101-10-20**] 10:23 PM\\n CHEST (PORTABLE AP...       True   \n",
       "52619  [**2156-4-2**] 5:17 PM\\n CHEST (PORTABLE AP)  ...       True   \n",
       "52644  [**2156-4-2**] 5:13 AM\\n CHEST (PORTABLE AP)  ...       True   \n",
       "48505  [**2119-9-25**] 2:57 PM\\n CHEST (PORTABLE AP) ...       True   \n",
       "38218  [**2188-10-7**] 10:34 PM\\n CHEST (PORTABLE AP)...       True   \n",
       "\n",
       "       infiltrates              intime  \n",
       "20758         True 2101-10-20 19:10:11  \n",
       "52619         True 2156-03-31 16:11:34  \n",
       "52644         True 2156-03-31 16:11:34  \n",
       "48505         True 2119-09-25 09:34:10  \n",
       "38218         True 2188-10-06 23:56:53  "
      ]
     },
     "execution_count": 34,
     "metadata": {},
     "output_type": "execute_result"
    }
   ],
   "source": [
    "# Select reports that mention both 'bilateral' AND 'infiltrates'\n",
    "bilateral_infiltrates = reports[reports[['bilateral', 'infiltrates']].all(axis=1)]\n",
    "\n",
    "# Sort patients by subject_id, then hadm_id, then chartdate\n",
    "bilateral_infiltrates = bilateral_infiltrates.sort_values(by=['subject_id', 'hadm_id', 'chartdate'])\n",
    "\n",
    "# Show some sample data\n",
    "bilateral_infiltrates.head()"
   ]
  },
  {
   "cell_type": "code",
   "execution_count": 36,
   "metadata": {},
   "outputs": [
    {
     "data": {
      "text/plain": [
       "1339"
      ]
     },
     "execution_count": 36,
     "metadata": {},
     "output_type": "execute_result"
    }
   ],
   "source": [
    "len(np.unique(bilateral_infiltrates['hadm_id']))"
   ]
  },
  {
   "cell_type": "code",
   "execution_count": 18,
   "metadata": {},
   "outputs": [
    {
     "name": "stdout",
     "output_type": "stream",
     "text": [
      "[**2119-9-25**] 2:57 PM\n",
      " CHEST (PORTABLE AP)                                             Clip # [**Clip Number (Radiology) 107240**]\n",
      " Reason: s/p CABG\n",
      " Admitting Diagnosis: UNSTABLE ANGINA\n",
      " ______________________________________________________________________________\n",
      " [**Hospital 4**] MEDICAL CONDITION:\n",
      "   65 year old man s/p CABG\n",
      " REASON FOR THIS EXAMINATION:\n",
      "  s/p CABG\n",
      " ______________________________________________________________________________\n",
      "                                 FINAL REPORT\n",
      " CHEST AP PORTABLE SINGLE VIEW:\n",
      "\n",
      " INDICATION:  Status post bypass surgery.\n",
      "\n",
      " FINDINGS:  AP single view of the chest obtained with patient in semi-erect\n",
      " position demonstrates ETT in place terminating in the trachea some 6 cm above\n",
      " the carina.  An NG tube has been passed and reaches safely below the diaphragm\n",
      " terminating in the area of the fundus.  A right jugular approach central\n",
      " venous line carries a Swan-Ganz catheter, tip of which reaches the main PA.\n",
      " One mediastinal tube and a left sided pleural chest tube terminating in the\n",
      " lower pleural sinus.  There is no evidence of pneumothorax.  Pulmonary\n",
      " vasculature is within normal limits and the lateral pleural sinuses are free.\n",
      " No evidence of acute parenchymal infiltrates are present.  In comparison with\n",
      " the next previous pre-operative examination of [**2119-9-23**], at that time bilateral\n",
      " pleural effusions and compression atelectasis in the lower lobes have\n",
      " disappeared.  There is no significant post operative mediastinal widening.\n",
      "\n",
      " IMPRESSION:  Satisfactory findings status post bypass surgery.\n",
      "\n",
      "\n"
     ]
    }
   ],
   "source": [
    "# Print a sample radiology report\n",
    "print(bilateral_infiltrates.loc[48505,'text'])"
   ]
  },
  {
   "cell_type": "code",
   "execution_count": 20,
   "metadata": {},
   "outputs": [
    {
     "data": {
      "text/html": [
       "<div>\n",
       "<style scoped>\n",
       "    .dataframe tbody tr th:only-of-type {\n",
       "        vertical-align: middle;\n",
       "    }\n",
       "\n",
       "    .dataframe tbody tr th {\n",
       "        vertical-align: top;\n",
       "    }\n",
       "\n",
       "    .dataframe thead th {\n",
       "        text-align: right;\n",
       "    }\n",
       "</style>\n",
       "<table border=\"1\" class=\"dataframe\">\n",
       "  <thead>\n",
       "    <tr style=\"text-align: right;\">\n",
       "      <th></th>\n",
       "      <th>subject_id</th>\n",
       "      <th>hadm_id</th>\n",
       "      <th>chartdate</th>\n",
       "      <th>description</th>\n",
       "      <th>text</th>\n",
       "      <th>bilateral</th>\n",
       "      <th>infiltrates</th>\n",
       "      <th>intime</th>\n",
       "    </tr>\n",
       "  </thead>\n",
       "  <tbody>\n",
       "    <tr>\n",
       "      <th>18305</th>\n",
       "      <td>818</td>\n",
       "      <td>154890.0</td>\n",
       "      <td>2157-08-10</td>\n",
       "      <td>CHEST (PORTABLE AP)</td>\n",
       "      <td>[**2157-8-10**] 6:45 PM\\n CHEST (PORTABLE AP) ...</td>\n",
       "      <td>True</td>\n",
       "      <td>True</td>\n",
       "      <td>2157-08-10 18:03:00</td>\n",
       "    </tr>\n",
       "    <tr>\n",
       "      <th>41831</th>\n",
       "      <td>6588</td>\n",
       "      <td>171653.0</td>\n",
       "      <td>2136-01-19</td>\n",
       "      <td>CHEST (PORTABLE AP)</td>\n",
       "      <td>[**2136-1-19**] 5:56 AM\\n CHEST (PORTABLE AP) ...</td>\n",
       "      <td>True</td>\n",
       "      <td>True</td>\n",
       "      <td>2136-01-16 20:04:04</td>\n",
       "    </tr>\n",
       "    <tr>\n",
       "      <th>55103</th>\n",
       "      <td>8346</td>\n",
       "      <td>173640.0</td>\n",
       "      <td>2114-03-21</td>\n",
       "      <td>CHEST (PORTABLE AP)</td>\n",
       "      <td>[**2114-3-21**] 5:44 AM\\n CHEST (PORTABLE AP) ...</td>\n",
       "      <td>True</td>\n",
       "      <td>True</td>\n",
       "      <td>2114-03-21 06:16:15</td>\n",
       "    </tr>\n",
       "    <tr>\n",
       "      <th>55101</th>\n",
       "      <td>8346</td>\n",
       "      <td>173640.0</td>\n",
       "      <td>2114-03-23</td>\n",
       "      <td>CHEST (PORTABLE AP)</td>\n",
       "      <td>[**2114-3-23**] 8:06 AM\\n CHEST (PORTABLE AP) ...</td>\n",
       "      <td>True</td>\n",
       "      <td>True</td>\n",
       "      <td>2114-03-21 06:16:15</td>\n",
       "    </tr>\n",
       "    <tr>\n",
       "      <th>4352</th>\n",
       "      <td>8879</td>\n",
       "      <td>107833.0</td>\n",
       "      <td>2164-07-28</td>\n",
       "      <td>CHEST (PORTABLE AP)</td>\n",
       "      <td>[**2164-7-28**] 2:09 PM\\n CHEST (PORTABLE AP) ...</td>\n",
       "      <td>True</td>\n",
       "      <td>True</td>\n",
       "      <td>2164-07-28 13:41:00</td>\n",
       "    </tr>\n",
       "  </tbody>\n",
       "</table>\n",
       "</div>"
      ],
      "text/plain": [
       "       subject_id   hadm_id  chartdate          description  \\\n",
       "18305         818  154890.0 2157-08-10  CHEST (PORTABLE AP)   \n",
       "41831        6588  171653.0 2136-01-19  CHEST (PORTABLE AP)   \n",
       "55103        8346  173640.0 2114-03-21  CHEST (PORTABLE AP)   \n",
       "55101        8346  173640.0 2114-03-23  CHEST (PORTABLE AP)   \n",
       "4352         8879  107833.0 2164-07-28  CHEST (PORTABLE AP)   \n",
       "\n",
       "                                                    text  bilateral  \\\n",
       "18305  [**2157-8-10**] 6:45 PM\\n CHEST (PORTABLE AP) ...       True   \n",
       "41831  [**2136-1-19**] 5:56 AM\\n CHEST (PORTABLE AP) ...       True   \n",
       "55103  [**2114-3-21**] 5:44 AM\\n CHEST (PORTABLE AP) ...       True   \n",
       "55101  [**2114-3-23**] 8:06 AM\\n CHEST (PORTABLE AP) ...       True   \n",
       "4352   [**2164-7-28**] 2:09 PM\\n CHEST (PORTABLE AP) ...       True   \n",
       "\n",
       "       infiltrates              intime  \n",
       "18305         True 2157-08-10 18:03:00  \n",
       "41831         True 2136-01-16 20:04:04  \n",
       "55103         True 2114-03-21 06:16:15  \n",
       "55101         True 2114-03-21 06:16:15  \n",
       "4352          True 2164-07-28 13:41:00  "
      ]
     },
     "execution_count": 20,
     "metadata": {},
     "output_type": "execute_result"
    }
   ],
   "source": [
    "# Show reports for confirmed ARDS\n",
    "ards_hadm_id = patients[patients['diagnosis'].str.lower().str.find('ards') >= 0]['hadm_id']\n",
    "confirmed_ards = bilateral_infiltrates.loc[bilateral_infiltrates['hadm_id'].isin(ards_hadm_id)]\n",
    "confirmed_ards.head()"
   ]
  },
  {
   "cell_type": "code",
   "execution_count": 22,
   "metadata": {},
   "outputs": [
    {
     "name": "stdout",
     "output_type": "stream",
     "text": [
      "[**2157-8-10**] 6:45 PM\n",
      " CHEST (PORTABLE AP)                                             Clip # [**Clip Number (Radiology) 36456**]\n",
      " Reason: transfer from [**Location (un) **] to [**Hospital Ward Name **] MICU with hx of A\n",
      " ______________________________________________________________________________\n",
      " [**Hospital 2**] MEDICAL CONDITION:\n",
      "  36 year old woman with ARDS\n",
      " REASON FOR THIS EXAMINATION:\n",
      "  transfer from [**Location (un) **] to [**Hospital Ward Name **] MICU with hx of ARDS\n",
      "  please check tubes, lines, and eval bilateral infiltrates\n",
      " ______________________________________________________________________________\n",
      "                                 FINAL REPORT\n",
      " PORTABLE AP SUPINE CHEST RADIOGRAPH\n",
      "\n",
      " INDICATION:   Evaluate tubes, lines.\n",
      "\n",
      " No comparison is available.\n",
      "\n",
      " There are bilateral diffuse opacities. The cardiac silhouette is at the upper\n",
      " limits of normal. The pulmonary vascularity is not well evaluated.  There is\n",
      " [**Hospital1 **]-apical pleural thickening, possibly representing pleural effusions. A right\n",
      " central venous line is in satisfactory position with its tip in the distal\n",
      " SVC.  A nasogastric tube is present  with its tip below the diaphragm. The\n",
      " endotracheal tube is present in satisfactory position with its tip 6 cm above\n",
      " the carina.\n",
      "\n",
      " IMPRESSION:\n",
      "\n",
      " 1) Diffuse opacities and small bilateral pleural effusions consistent with\n",
      " ARDS.\n",
      "\n",
      "\n"
     ]
    }
   ],
   "source": [
    "print(confirmed_ards.loc[18305,'text'])"
   ]
  },
  {
   "cell_type": "code",
   "execution_count": 21,
   "metadata": {},
   "outputs": [
    {
     "data": {
      "text/plain": [
       "23"
      ]
     },
     "execution_count": 21,
     "metadata": {},
     "output_type": "execute_result"
    }
   ],
   "source": [
    "len(confirmed_ards)"
   ]
  },
  {
   "cell_type": "code",
   "execution_count": null,
   "metadata": {},
   "outputs": [],
   "source": []
  }
 ],
 "metadata": {
  "kernelspec": {
   "display_name": "Python 3",
   "language": "python",
   "name": "python3"
  },
  "language_info": {
   "codemirror_mode": {
    "name": "ipython",
    "version": 3
   },
   "file_extension": ".py",
   "mimetype": "text/x-python",
   "name": "python",
   "nbconvert_exporter": "python",
   "pygments_lexer": "ipython3",
   "version": "3.7.3"
  }
 },
 "nbformat": 4,
 "nbformat_minor": 4
}
