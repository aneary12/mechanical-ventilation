{
 "cells": [
  {
   "cell_type": "markdown",
   "metadata": {},
   "source": [
    "# Patient Selection\n",
    "\n",
    "The purpose of this notebook is to generate a list of patient ICU stays that meet the following criteria:\n",
    "- patient is at least 16 years old.\n",
    "- ICU stay lasts at least 24 hours.\n",
    "- patient was mechanically ventilated at least once.\n",
    "\n",
    "Two pandas DataFrames are created and saved in **\"data/patients.npy\"**.\n",
    "\n",
    "The column names in ***patients*** are:\n",
    "- **subject_id** - patient identifier.\n",
    "- **hadm_id** - hospital admission identifier.\n",
    "- **icustay_id** - ICU admission identifier.\n",
    "- **gender, dob, age** - self-explanatory.\n",
    "- **admittime, dischtime** - time of hospital admission and discharge.\n",
    "- **intime, outtime** - time of ICU admission and discharge.\n",
    "- **los** - length of ICU stay in days.\n",
    "- **diagnosis** - free text diagnosis usually assigned by the admitting clinician.\n",
    "- **hospital_expire_flag** - whether the patient died during that hospital stay or not.\n",
    "- **ventnum** - the number of times they were placed on mechanical ventilation.\n",
    "\n",
    "The column names in ***mech_vent*** are:\n",
    "- **icustay_id** - ICU admission identifier.\n",
    "- **ventnum** - a counter for the number of instances of mechanical ventilation for that ICU stay (1 is the patient's first time on a ventilator, 2 is the second, etc.).\n",
    "- **starttime, endtime** - time at which the patient was intubated and extubated.\n",
    "- **duration_hours** - the duration of that instance of mechanical ventilation."
   ]
  },
  {
   "cell_type": "code",
   "execution_count": 1,
   "metadata": {},
   "outputs": [],
   "source": [
    "# Import libraries\n",
    "import numpy as np\n",
    "import pandas as pd\n",
    "import psycopg2\n",
    "import getpass\n",
    "import os.path\n",
    "import matplotlib.pyplot as plt\n",
    "%matplotlib inline"
   ]
  },
  {
   "cell_type": "code",
   "execution_count": 2,
   "metadata": {},
   "outputs": [
    {
     "name": "stdin",
     "output_type": "stream",
     "text": [
      "Password: ··········\n"
     ]
    }
   ],
   "source": [
    "# Load the database connection details\n",
    "_data = np.load('data/db_details.npy', allow_pickle=True).tolist()\n",
    "db_details = _data['db_details']\n",
    "user = db_details['user']\n",
    "host = db_details['host']\n",
    "port = db_details['port']\n",
    "dbname = db_details['dbname']\n",
    "schema = db_details['schema']\n",
    "    \n",
    "# Connect to the database\n",
    "conn = psycopg2.connect(dbname=dbname, user=user, host=host, port=port, password=getpass.getpass(prompt='Password:'.format(user)))\n",
    "cur = conn.cursor()\n",
    "cur.execute('SET search_path TO {}'.format(schema))\n",
    "conn.commit()"
   ]
  },
  {
   "cell_type": "code",
   "execution_count": 3,
   "metadata": {},
   "outputs": [],
   "source": [
    "# Load the appropriate query\n",
    "query = open('queries/icu_patients.sql', 'r')\n",
    "\n",
    "# Store the result of the query as a pandas dataframe\n",
    "icu = pd.read_sql_query(query.read(), conn)\n",
    "query.close()"
   ]
  },
  {
   "cell_type": "code",
   "execution_count": 4,
   "metadata": {},
   "outputs": [
    {
     "data": {
      "text/html": [
       "<div>\n",
       "<style scoped>\n",
       "    .dataframe tbody tr th:only-of-type {\n",
       "        vertical-align: middle;\n",
       "    }\n",
       "\n",
       "    .dataframe tbody tr th {\n",
       "        vertical-align: top;\n",
       "    }\n",
       "\n",
       "    .dataframe thead th {\n",
       "        text-align: right;\n",
       "    }\n",
       "</style>\n",
       "<table border=\"1\" class=\"dataframe\">\n",
       "  <thead>\n",
       "    <tr style=\"text-align: right;\">\n",
       "      <th></th>\n",
       "      <th>subject_id</th>\n",
       "      <th>hadm_id</th>\n",
       "      <th>icustay_id</th>\n",
       "      <th>gender</th>\n",
       "      <th>dob</th>\n",
       "      <th>age</th>\n",
       "      <th>admittime</th>\n",
       "      <th>dischtime</th>\n",
       "      <th>intime</th>\n",
       "      <th>outtime</th>\n",
       "      <th>los</th>\n",
       "      <th>diagnosis</th>\n",
       "      <th>hospital_expire_flag</th>\n",
       "    </tr>\n",
       "  </thead>\n",
       "  <tbody>\n",
       "    <tr>\n",
       "      <th>0</th>\n",
       "      <td>268</td>\n",
       "      <td>110404</td>\n",
       "      <td>280836</td>\n",
       "      <td>F</td>\n",
       "      <td>2132-02-21</td>\n",
       "      <td>65.98</td>\n",
       "      <td>2198-02-11 13:40:00</td>\n",
       "      <td>2198-02-18 03:55:00</td>\n",
       "      <td>2198-02-14 23:27:38</td>\n",
       "      <td>2198-02-18 05:26:11</td>\n",
       "      <td>3.2490</td>\n",
       "      <td>DYSPNEA</td>\n",
       "      <td>1</td>\n",
       "    </tr>\n",
       "    <tr>\n",
       "      <th>1</th>\n",
       "      <td>270</td>\n",
       "      <td>188028</td>\n",
       "      <td>220345</td>\n",
       "      <td>M</td>\n",
       "      <td>2048-05-26</td>\n",
       "      <td>80.08</td>\n",
       "      <td>2128-06-23 18:26:00</td>\n",
       "      <td>2128-06-27 12:31:00</td>\n",
       "      <td>2128-06-24 15:05:20</td>\n",
       "      <td>2128-06-27 12:32:29</td>\n",
       "      <td>2.8939</td>\n",
       "      <td>CAROTID STENOSIS\\CAROTID ANGIOGRAM AND STENT</td>\n",
       "      <td>0</td>\n",
       "    </tr>\n",
       "    <tr>\n",
       "      <th>2</th>\n",
       "      <td>271</td>\n",
       "      <td>173727</td>\n",
       "      <td>249196</td>\n",
       "      <td>F</td>\n",
       "      <td>2074-11-30</td>\n",
       "      <td>45.68</td>\n",
       "      <td>2120-08-07 18:56:00</td>\n",
       "      <td>2120-08-20 16:00:00</td>\n",
       "      <td>2120-08-07 23:12:42</td>\n",
       "      <td>2120-08-10 00:39:04</td>\n",
       "      <td>2.0600</td>\n",
       "      <td>GALLSTONE PANCREATITIS</td>\n",
       "      <td>0</td>\n",
       "    </tr>\n",
       "    <tr>\n",
       "      <th>3</th>\n",
       "      <td>273</td>\n",
       "      <td>158689</td>\n",
       "      <td>241507</td>\n",
       "      <td>M</td>\n",
       "      <td>2107-08-10</td>\n",
       "      <td>33.69</td>\n",
       "      <td>2141-04-19 06:11:00</td>\n",
       "      <td>2141-04-20 17:00:00</td>\n",
       "      <td>2141-04-19 06:12:05</td>\n",
       "      <td>2141-04-20 17:52:11</td>\n",
       "      <td>1.4862</td>\n",
       "      <td>POLYSUBSTANCE OVERDOSE</td>\n",
       "      <td>0</td>\n",
       "    </tr>\n",
       "    <tr>\n",
       "      <th>4</th>\n",
       "      <td>274</td>\n",
       "      <td>130546</td>\n",
       "      <td>254851</td>\n",
       "      <td>M</td>\n",
       "      <td>2048-05-18</td>\n",
       "      <td>66.11</td>\n",
       "      <td>2114-06-28 22:16:00</td>\n",
       "      <td>2114-07-12 15:30:00</td>\n",
       "      <td>2114-06-28 22:28:44</td>\n",
       "      <td>2114-07-07 18:01:16</td>\n",
       "      <td>8.8143</td>\n",
       "      <td>SUBARACHNOID HEMORRHAGE</td>\n",
       "      <td>0</td>\n",
       "    </tr>\n",
       "  </tbody>\n",
       "</table>\n",
       "</div>"
      ],
      "text/plain": [
       "   subject_id  hadm_id  icustay_id gender        dob    age  \\\n",
       "0         268   110404      280836      F 2132-02-21  65.98   \n",
       "1         270   188028      220345      M 2048-05-26  80.08   \n",
       "2         271   173727      249196      F 2074-11-30  45.68   \n",
       "3         273   158689      241507      M 2107-08-10  33.69   \n",
       "4         274   130546      254851      M 2048-05-18  66.11   \n",
       "\n",
       "            admittime           dischtime              intime  \\\n",
       "0 2198-02-11 13:40:00 2198-02-18 03:55:00 2198-02-14 23:27:38   \n",
       "1 2128-06-23 18:26:00 2128-06-27 12:31:00 2128-06-24 15:05:20   \n",
       "2 2120-08-07 18:56:00 2120-08-20 16:00:00 2120-08-07 23:12:42   \n",
       "3 2141-04-19 06:11:00 2141-04-20 17:00:00 2141-04-19 06:12:05   \n",
       "4 2114-06-28 22:16:00 2114-07-12 15:30:00 2114-06-28 22:28:44   \n",
       "\n",
       "              outtime     los                                     diagnosis  \\\n",
       "0 2198-02-18 05:26:11  3.2490                                       DYSPNEA   \n",
       "1 2128-06-27 12:32:29  2.8939  CAROTID STENOSIS\\CAROTID ANGIOGRAM AND STENT   \n",
       "2 2120-08-10 00:39:04  2.0600                        GALLSTONE PANCREATITIS   \n",
       "3 2141-04-20 17:52:11  1.4862                        POLYSUBSTANCE OVERDOSE   \n",
       "4 2114-07-07 18:01:16  8.8143                       SUBARACHNOID HEMORRHAGE   \n",
       "\n",
       "   hospital_expire_flag  \n",
       "0                     1  \n",
       "1                     0  \n",
       "2                     0  \n",
       "3                     0  \n",
       "4                     0  "
      ]
     },
     "execution_count": 4,
     "metadata": {},
     "output_type": "execute_result"
    }
   ],
   "source": [
    "# Show some sample data\n",
    "icu.head()"
   ]
  },
  {
   "cell_type": "code",
   "execution_count": 5,
   "metadata": {},
   "outputs": [
    {
     "name": "stdout",
     "output_type": "stream",
     "text": [
      "No. of patients: 46476\n",
      "No. of hospital admissions: 57786\n",
      "No. of ICU admissions: 61532\n"
     ]
    }
   ],
   "source": [
    "# Print some statistics about the patient population\n",
    "print('No. of patients: {}'.format(len(np.unique(icu['subject_id']))))\n",
    "print('No. of hospital admissions: {}'.format(len(np.unique(icu['hadm_id']))))\n",
    "print('No. of ICU admissions: {}'.format(len(np.unique(icu['icustay_id']))))"
   ]
  },
  {
   "cell_type": "code",
   "execution_count": 6,
   "metadata": {},
   "outputs": [
    {
     "name": "stdout",
     "output_type": "stream",
     "text": [
      "Removed 7879 patients under 16 years old (corresponding to 8001 hospital admissions and 8109 ICU stays)\n"
     ]
    }
   ],
   "source": [
    "# Remove any patients under 16 years old\n",
    "adult_icu = icu[icu['age']>=16]\n",
    "print('Removed {} patients under 16 years old (corresponding to {} hospital admissions and {} ICU stays)'.format(len(np.unique(icu['subject_id']))-len(np.unique(adult_icu['subject_id'])), len(np.unique(icu['hadm_id']))-len(np.unique(adult_icu['hadm_id'])), len(np.unique(icu['icustay_id']))-len(np.unique(adult_icu['icustay_id']))))"
   ]
  },
  {
   "cell_type": "code",
   "execution_count": 7,
   "metadata": {},
   "outputs": [
    {
     "name": "stdout",
     "output_type": "stream",
     "text": [
      "Removed 4972 patients with ICU stays lasting less than 24 hours (corresponding to 7222 hospital admissions and 8102 ICU stays)\n"
     ]
    }
   ],
   "source": [
    "# Remove any patients with ICU stays under 24 hours\n",
    "adult_24h_icu = adult_icu[adult_icu['los']>=1]\n",
    "print('Removed {} patients with ICU stays lasting less than 24 hours (corresponding to {} hospital admissions and {} ICU stays)'.format(len(np.unique(adult_icu['subject_id']))-len(np.unique(adult_24h_icu['subject_id'])), len(np.unique(adult_icu['hadm_id']))-len(np.unique(adult_24h_icu['hadm_id'])), len(np.unique(adult_icu['icustay_id']))-len(np.unique(adult_24h_icu['icustay_id']))))"
   ]
  },
  {
   "cell_type": "code",
   "execution_count": 8,
   "metadata": {},
   "outputs": [],
   "source": [
    "# Load the mechanical ventilation query\n",
    "query = open('queries/mechanical_ventilation.sql', 'r')\n",
    "\n",
    "# Store the result of the query as a pandas dataframe\n",
    "mech_vent = pd.read_sql_query(query.read(), conn)\n",
    "query.close()"
   ]
  },
  {
   "cell_type": "code",
   "execution_count": 9,
   "metadata": {},
   "outputs": [
    {
     "data": {
      "text/html": [
       "<div>\n",
       "<style scoped>\n",
       "    .dataframe tbody tr th:only-of-type {\n",
       "        vertical-align: middle;\n",
       "    }\n",
       "\n",
       "    .dataframe tbody tr th {\n",
       "        vertical-align: top;\n",
       "    }\n",
       "\n",
       "    .dataframe thead th {\n",
       "        text-align: right;\n",
       "    }\n",
       "</style>\n",
       "<table border=\"1\" class=\"dataframe\">\n",
       "  <thead>\n",
       "    <tr style=\"text-align: right;\">\n",
       "      <th></th>\n",
       "      <th>icustay_id</th>\n",
       "      <th>ventnum</th>\n",
       "      <th>starttime</th>\n",
       "      <th>endtime</th>\n",
       "      <th>duration_hours</th>\n",
       "    </tr>\n",
       "  </thead>\n",
       "  <tbody>\n",
       "    <tr>\n",
       "      <th>0</th>\n",
       "      <td>200003.0</td>\n",
       "      <td>1</td>\n",
       "      <td>2199-08-03 18:00:00</td>\n",
       "      <td>2199-08-07 13:00:00</td>\n",
       "      <td>91.000000</td>\n",
       "    </tr>\n",
       "    <tr>\n",
       "      <th>1</th>\n",
       "      <td>200006.0</td>\n",
       "      <td>1</td>\n",
       "      <td>2159-09-03 13:00:00</td>\n",
       "      <td>2159-09-04 03:50:00</td>\n",
       "      <td>14.833333</td>\n",
       "    </tr>\n",
       "    <tr>\n",
       "      <th>2</th>\n",
       "      <td>200009.0</td>\n",
       "      <td>1</td>\n",
       "      <td>2189-11-30 18:10:00</td>\n",
       "      <td>2189-12-01 10:00:00</td>\n",
       "      <td>15.833333</td>\n",
       "    </tr>\n",
       "    <tr>\n",
       "      <th>3</th>\n",
       "      <td>200011.0</td>\n",
       "      <td>1</td>\n",
       "      <td>2188-08-06 01:00:00</td>\n",
       "      <td>2188-08-06 04:00:00</td>\n",
       "      <td>3.000000</td>\n",
       "    </tr>\n",
       "    <tr>\n",
       "      <th>4</th>\n",
       "      <td>200014.0</td>\n",
       "      <td>1</td>\n",
       "      <td>2105-02-16 23:15:00</td>\n",
       "      <td>2105-02-17 18:00:00</td>\n",
       "      <td>18.750000</td>\n",
       "    </tr>\n",
       "  </tbody>\n",
       "</table>\n",
       "</div>"
      ],
      "text/plain": [
       "   icustay_id  ventnum           starttime             endtime  duration_hours\n",
       "0    200003.0        1 2199-08-03 18:00:00 2199-08-07 13:00:00       91.000000\n",
       "1    200006.0        1 2159-09-03 13:00:00 2159-09-04 03:50:00       14.833333\n",
       "2    200009.0        1 2189-11-30 18:10:00 2189-12-01 10:00:00       15.833333\n",
       "3    200011.0        1 2188-08-06 01:00:00 2188-08-06 04:00:00        3.000000\n",
       "4    200014.0        1 2105-02-16 23:15:00 2105-02-17 18:00:00       18.750000"
      ]
     },
     "execution_count": 9,
     "metadata": {},
     "output_type": "execute_result"
    }
   ],
   "source": [
    "# Show some sample data\n",
    "mech_vent.head()"
   ]
  },
  {
   "cell_type": "code",
   "execution_count": 10,
   "metadata": {},
   "outputs": [
    {
     "name": "stdout",
     "output_type": "stream",
     "text": [
      "Removed 34 rows with missing ICU stay IDs\n"
     ]
    }
   ],
   "source": [
    "# Remove missing ICU stay IDs\n",
    "num_missing = sum(mech_vent['icustay_id'].isna())\n",
    "mech_vent = mech_vent.dropna(subset=['icustay_id'])\n",
    "print(\"Removed {} rows with missing ICU stay IDs\".format(num_missing))"
   ]
  },
  {
   "cell_type": "code",
   "execution_count": 11,
   "metadata": {},
   "outputs": [
    {
     "name": "stdout",
     "output_type": "stream",
     "text": [
      "Removed 3494 ICU stays that don't meet the criteria above (corresponding to 4164 instances of mechanical ventilation)\n"
     ]
    }
   ],
   "source": [
    "# Select ventilation information only for patients who meet our criteria\n",
    "mech_vent_patients = mech_vent[mech_vent['icustay_id'].isin(adult_24h_icu['icustay_id'])]\n",
    "print(\"Removed {} ICU stays that don't meet the criteria above (corresponding to {} instances of mechanical ventilation)\".format(len(np.unique(mech_vent['icustay_id']))-len(np.unique(mech_vent_patients['icustay_id'])), len(mech_vent['icustay_id'])-len(mech_vent_patients['icustay_id'])))"
   ]
  },
  {
   "cell_type": "code",
   "execution_count": 12,
   "metadata": {},
   "outputs": [
    {
     "name": "stdout",
     "output_type": "stream",
     "text": [
      "Removed 22014 ICU stays where mechanical ventilation was not used\n"
     ]
    }
   ],
   "source": [
    "# Remove patients who were not mechanically ventilated\n",
    "adult_24h_icu_mv = adult_24h_icu[adult_24h_icu['icustay_id'].isin(mech_vent_patients['icustay_id'])]\n",
    "print('Removed {} ICU stays where mechanical ventilation was not used'.format(len(np.unique(adult_24h_icu['icustay_id']))-len(np.unique(adult_24h_icu_mv['icustay_id']))))"
   ]
  },
  {
   "cell_type": "code",
   "execution_count": 13,
   "metadata": {},
   "outputs": [],
   "source": [
    "# Add a column describing the number of times a patient was ventilated\n",
    "adult_24h_icu_mv = adult_24h_icu_mv.merge(mech_vent_patients.groupby(['icustay_id']).max()['ventnum'], on='icustay_id')"
   ]
  },
  {
   "cell_type": "code",
   "execution_count": 14,
   "metadata": {},
   "outputs": [
    {
     "data": {
      "text/html": [
       "<div>\n",
       "<style scoped>\n",
       "    .dataframe tbody tr th:only-of-type {\n",
       "        vertical-align: middle;\n",
       "    }\n",
       "\n",
       "    .dataframe tbody tr th {\n",
       "        vertical-align: top;\n",
       "    }\n",
       "\n",
       "    .dataframe thead th {\n",
       "        text-align: right;\n",
       "    }\n",
       "</style>\n",
       "<table border=\"1\" class=\"dataframe\">\n",
       "  <thead>\n",
       "    <tr style=\"text-align: right;\">\n",
       "      <th></th>\n",
       "      <th>subject_id</th>\n",
       "      <th>hadm_id</th>\n",
       "      <th>icustay_id</th>\n",
       "      <th>gender</th>\n",
       "      <th>dob</th>\n",
       "      <th>age</th>\n",
       "      <th>admittime</th>\n",
       "      <th>dischtime</th>\n",
       "      <th>intime</th>\n",
       "      <th>outtime</th>\n",
       "      <th>los</th>\n",
       "      <th>diagnosis</th>\n",
       "      <th>hospital_expire_flag</th>\n",
       "      <th>ventnum</th>\n",
       "    </tr>\n",
       "  </thead>\n",
       "  <tbody>\n",
       "    <tr>\n",
       "      <th>0</th>\n",
       "      <td>268</td>\n",
       "      <td>110404</td>\n",
       "      <td>280836</td>\n",
       "      <td>F</td>\n",
       "      <td>2132-02-21</td>\n",
       "      <td>65.98</td>\n",
       "      <td>2198-02-11 13:40:00</td>\n",
       "      <td>2198-02-18 03:55:00</td>\n",
       "      <td>2198-02-14 23:27:38</td>\n",
       "      <td>2198-02-18 05:26:11</td>\n",
       "      <td>3.2490</td>\n",
       "      <td>DYSPNEA</td>\n",
       "      <td>1</td>\n",
       "      <td>1</td>\n",
       "    </tr>\n",
       "    <tr>\n",
       "      <th>1</th>\n",
       "      <td>273</td>\n",
       "      <td>158689</td>\n",
       "      <td>241507</td>\n",
       "      <td>M</td>\n",
       "      <td>2107-08-10</td>\n",
       "      <td>33.69</td>\n",
       "      <td>2141-04-19 06:11:00</td>\n",
       "      <td>2141-04-20 17:00:00</td>\n",
       "      <td>2141-04-19 06:12:05</td>\n",
       "      <td>2141-04-20 17:52:11</td>\n",
       "      <td>1.4862</td>\n",
       "      <td>POLYSUBSTANCE OVERDOSE</td>\n",
       "      <td>0</td>\n",
       "      <td>1</td>\n",
       "    </tr>\n",
       "    <tr>\n",
       "      <th>2</th>\n",
       "      <td>275</td>\n",
       "      <td>129886</td>\n",
       "      <td>219649</td>\n",
       "      <td>M</td>\n",
       "      <td>2088-08-07</td>\n",
       "      <td>82.16</td>\n",
       "      <td>2170-10-06 03:09:00</td>\n",
       "      <td>2170-10-19 15:35:00</td>\n",
       "      <td>2170-10-07 11:28:53</td>\n",
       "      <td>2170-10-14 14:38:07</td>\n",
       "      <td>7.1314</td>\n",
       "      <td>UROSEPSIS-CHANGE IN MENTAL STATUS</td>\n",
       "      <td>1</td>\n",
       "      <td>1</td>\n",
       "    </tr>\n",
       "    <tr>\n",
       "      <th>3</th>\n",
       "      <td>281</td>\n",
       "      <td>111199</td>\n",
       "      <td>257572</td>\n",
       "      <td>F</td>\n",
       "      <td>2041-10-12</td>\n",
       "      <td>60.02</td>\n",
       "      <td>2101-10-18 04:42:00</td>\n",
       "      <td>2101-10-25 19:10:00</td>\n",
       "      <td>2101-10-18 04:45:22</td>\n",
       "      <td>2101-10-25 22:29:25</td>\n",
       "      <td>7.7389</td>\n",
       "      <td>PNEUMONIA,HYPONATREMIA</td>\n",
       "      <td>1</td>\n",
       "      <td>2</td>\n",
       "    </tr>\n",
       "    <tr>\n",
       "      <th>4</th>\n",
       "      <td>283</td>\n",
       "      <td>109185</td>\n",
       "      <td>231490</td>\n",
       "      <td>M</td>\n",
       "      <td>2090-09-05</td>\n",
       "      <td>75.93</td>\n",
       "      <td>2166-08-12 22:02:00</td>\n",
       "      <td>2166-09-12 14:41:00</td>\n",
       "      <td>2166-08-12 22:03:26</td>\n",
       "      <td>2166-09-12 14:41:42</td>\n",
       "      <td>30.6932</td>\n",
       "      <td>PNEUMONIA</td>\n",
       "      <td>0</td>\n",
       "      <td>2</td>\n",
       "    </tr>\n",
       "  </tbody>\n",
       "</table>\n",
       "</div>"
      ],
      "text/plain": [
       "   subject_id  hadm_id  icustay_id gender        dob    age  \\\n",
       "0         268   110404      280836      F 2132-02-21  65.98   \n",
       "1         273   158689      241507      M 2107-08-10  33.69   \n",
       "2         275   129886      219649      M 2088-08-07  82.16   \n",
       "3         281   111199      257572      F 2041-10-12  60.02   \n",
       "4         283   109185      231490      M 2090-09-05  75.93   \n",
       "\n",
       "            admittime           dischtime              intime  \\\n",
       "0 2198-02-11 13:40:00 2198-02-18 03:55:00 2198-02-14 23:27:38   \n",
       "1 2141-04-19 06:11:00 2141-04-20 17:00:00 2141-04-19 06:12:05   \n",
       "2 2170-10-06 03:09:00 2170-10-19 15:35:00 2170-10-07 11:28:53   \n",
       "3 2101-10-18 04:42:00 2101-10-25 19:10:00 2101-10-18 04:45:22   \n",
       "4 2166-08-12 22:02:00 2166-09-12 14:41:00 2166-08-12 22:03:26   \n",
       "\n",
       "              outtime      los                          diagnosis  \\\n",
       "0 2198-02-18 05:26:11   3.2490                            DYSPNEA   \n",
       "1 2141-04-20 17:52:11   1.4862             POLYSUBSTANCE OVERDOSE   \n",
       "2 2170-10-14 14:38:07   7.1314  UROSEPSIS-CHANGE IN MENTAL STATUS   \n",
       "3 2101-10-25 22:29:25   7.7389             PNEUMONIA,HYPONATREMIA   \n",
       "4 2166-09-12 14:41:42  30.6932                          PNEUMONIA   \n",
       "\n",
       "   hospital_expire_flag  ventnum  \n",
       "0                     1        1  \n",
       "1                     0        1  \n",
       "2                     1        1  \n",
       "3                     1        2  \n",
       "4                     0        2  "
      ]
     },
     "execution_count": 14,
     "metadata": {},
     "output_type": "execute_result"
    }
   ],
   "source": [
    "# Show some sample data for adult first ICU admission\n",
    "adult_24h_icu_mv.head()"
   ]
  },
  {
   "cell_type": "code",
   "execution_count": 15,
   "metadata": {},
   "outputs": [
    {
     "name": "stdout",
     "output_type": "stream",
     "text": [
      "No. of instances of mechanical ventilation: 34259\n",
      "No. of patients: 20011\n",
      "No. of hospital admissions: 22525\n",
      "No. of ICU admissions: 23307\n"
     ]
    }
   ],
   "source": [
    "# Print some statistics about the processed patient population\n",
    "print(\"No. of instances of mechanical ventilation: {}\".format(len(mech_vent_patients['icustay_id'])))\n",
    "print('No. of patients: {}'.format(len(np.unique(adult_24h_icu_mv['subject_id']))))\n",
    "print('No. of hospital admissions: {}'.format(len(np.unique(adult_24h_icu_mv['hadm_id']))))\n",
    "print('No. of ICU admissions: {}'.format(len(np.unique(adult_24h_icu_mv['icustay_id']))))"
   ]
  },
  {
   "cell_type": "code",
   "execution_count": 20,
   "metadata": {},
   "outputs": [
    {
     "data": {
      "image/png": "[encoded data removed]",
      "text/plain": [
       "<Figure size 1080x864 with 4 Axes>"
      ]
     },
     "metadata": {
      "needs_background": "light"
     },
     "output_type": "display_data"
    }
   ],
   "source": [
    "# Visualise mortality rate,length of ICU stay, age and gender\n",
    "fig, axs = plt.subplots(2, 2, figsize=(15,12))\n",
    "fig.suptitle('Patients >= 16 Years Old who Received Mechanical Ventilation ({} total patients)'.format(len(adult_24h_icu_mv)), weight='semibold', fontsize=14)\n",
    "\n",
    "# Plot the mortality\n",
    "axs[0,0].bar(x=['Survivals','Deaths'], height=[len(adult_24h_icu_mv[adult_24h_icu_mv['hospital_expire_flag']==0]),len(adult_24h_icu_mv[adult_24h_icu_mv['hospital_expire_flag']==1])], color=['g','r'])\n",
    "axs[0,0].set_title('Mortality = {:.1f}%'.format(100*len(adult_24h_icu_mv[adult_24h_icu_mv['hospital_expire_flag']==1])/len(adult_24h_icu_mv)), style='italic', weight='semibold')\n",
    "axs[0,0].set_ylabel('No. of ICU stays')\n",
    "\n",
    "# Plot the length of stay\n",
    "axs[0,1].hist(x=adult_24h_icu_mv['los'], bins=250, color='maroon')\n",
    "axs[0,1].set_title('Length of ICU Stay (stays >50 days excluded from plot)', style='italic', weight='semibold')\n",
    "axs[0,1].set_xlim([0,50])\n",
    "axs[0,1].set_xticks(range(0,51,5))\n",
    "axs[0,1].set_xlabel('No. of days')\n",
    "axs[0,1].set_ylabel('No. of ICU stays')\n",
    "\n",
    "# Plot the patient ages\n",
    "axs[1,0].hist(x=adult_24h_icu_mv['age'].astype('int64'), bins=75, color='gold')\n",
    "axs[1,0].set_title('Patient Ages', style='italic', weight='semibold')\n",
    "axs[1,0].set_xlim([0,100])\n",
    "axs[1,0].set_xlabel('Age in years')\n",
    "axs[1,0].set_ylabel('No. of ICU stays')\n",
    "\n",
    "# Plot the gender breakdown\n",
    "axs[1,1].bar(x=['Male','Female'], height=[sum(adult_24h_icu_mv['gender']=='M'),sum(adult_24h_icu_mv['gender']=='F')], color=['darkblue','crimson'])\n",
    "axs[1,1].set_title('Gender Breakdown ({:.1f}% male, {:.1f}% female)'.format(100*sum(adult_24h_icu_mv['gender']=='M')/len(adult_24h_icu_mv), 100*sum(adult_24h_icu_mv['gender']=='F')/len(adult_24h_icu_mv)), style='italic', weight='semibold')\n",
    "axs[1,1].set_ylabel('No. of ICU stays')\n",
    "\n",
    "# Save the plot\n",
    "plt.savefig('plots/patients.png');"
   ]
  },
  {
   "cell_type": "code",
   "execution_count": 21,
   "metadata": {},
   "outputs": [
    {
     "name": "stdout",
     "output_type": "stream",
     "text": [
      "Saved!\n"
     ]
    }
   ],
   "source": [
    "# Sort patients by subject_id, then hadm_id and icustay_id\n",
    "adult_24h_icu_mv.sort_values(by=['subject_id', 'hadm_id', 'icustay_id'])\n",
    "\n",
    "# Save to patients.npy\n",
    "if not os.path.exists('./data'):\n",
    "    os.makedirs('./data')\n",
    "\n",
    "tosave = {'patients': adult_24h_icu_mv, 'mech_vent': mech_vent_patients}\n",
    "np.save('data/patients.npy',tosave)\n",
    "print(\"Saved!\")"
   ]
  },
  {
   "cell_type": "code",
   "execution_count": null,
   "metadata": {},
   "outputs": [],
   "source": []
  }
 ],
 "metadata": {
  "kernelspec": {
   "display_name": "Python 3",
   "language": "python",
   "name": "python3"
  },
  "language_info": {
   "codemirror_mode": {
    "name": "ipython",
    "version": 3
   },
   "file_extension": ".py",
   "mimetype": "text/x-python",
   "name": "python",
   "nbconvert_exporter": "python",
   "pygments_lexer": "ipython3",
   "version": "3.7.3"
  }
 },
 "nbformat": 4,
 "nbformat_minor": 4
}
