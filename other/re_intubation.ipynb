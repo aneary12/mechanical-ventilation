{
 "cells": [
  {
   "cell_type": "code",
   "execution_count": 1,
   "metadata": {},
   "outputs": [],
   "source": [
    "# Import libraries\n",
    "import numpy as np\n",
    "import pandas as pd\n",
    "import psycopg2\n",
    "import getpass\n",
    "import os.path\n",
    "import matplotlib.pyplot as plt\n",
    "%matplotlib inline"
   ]
  },
  {
   "cell_type": "code",
   "execution_count": 2,
   "metadata": {},
   "outputs": [
    {
     "name": "stdin",
     "output_type": "stream",
     "text": [
      "Password: ··········\n"
     ]
    }
   ],
   "source": [
    "# Load the database connection details\n",
    "_data = np.load('data/db_details.npy', allow_pickle=True).tolist()\n",
    "db_details = _data['db_details']\n",
    "user = db_details['user']\n",
    "host = db_details['host']\n",
    "port = db_details['port']\n",
    "dbname = db_details['dbname']\n",
    "schema = db_details['schema']\n",
    "    \n",
    "# Connect to the database\n",
    "conn = psycopg2.connect(dbname=dbname, user=user, host=host, port=port, password=getpass.getpass(prompt='Password:'.format(user)))\n",
    "cur = conn.cursor()\n",
    "cur.execute('SET search_path TO {}'.format(schema))\n",
    "conn.commit()"
   ]
  },
  {
   "cell_type": "code",
   "execution_count": 3,
   "metadata": {},
   "outputs": [
    {
     "name": "stdout",
     "output_type": "stream",
     "text": [
      "Loaded!\n"
     ]
    }
   ],
   "source": [
    "# Load the patient data\n",
    "_data = np.load('data/patients.npy', allow_pickle=True).tolist()\n",
    "patients = _data['patients']\n",
    "mech_vent = _data['mech_vent']\n",
    "print(\"Loaded!\")"
   ]
  },
  {
   "cell_type": "code",
   "execution_count": 4,
   "metadata": {},
   "outputs": [
    {
     "data": {
      "text/html": [
       "<div>\n",
       "<style scoped>\n",
       "    .dataframe tbody tr th:only-of-type {\n",
       "        vertical-align: middle;\n",
       "    }\n",
       "\n",
       "    .dataframe tbody tr th {\n",
       "        vertical-align: top;\n",
       "    }\n",
       "\n",
       "    .dataframe thead th {\n",
       "        text-align: right;\n",
       "    }\n",
       "</style>\n",
       "<table border=\"1\" class=\"dataframe\">\n",
       "  <thead>\n",
       "    <tr style=\"text-align: right;\">\n",
       "      <th></th>\n",
       "      <th>icustay_id</th>\n",
       "      <th>ventnum</th>\n",
       "      <th>starttime</th>\n",
       "      <th>endtime</th>\n",
       "      <th>duration_hours</th>\n",
       "    </tr>\n",
       "  </thead>\n",
       "  <tbody>\n",
       "    <tr>\n",
       "      <th>17</th>\n",
       "      <td>200045.0</td>\n",
       "      <td>4</td>\n",
       "      <td>2116-07-17 17:00:00</td>\n",
       "      <td>2116-07-29 07:00:00</td>\n",
       "      <td>278.000000</td>\n",
       "    </tr>\n",
       "    <tr>\n",
       "      <th>25</th>\n",
       "      <td>200059.0</td>\n",
       "      <td>4</td>\n",
       "      <td>2198-02-18 22:35:00</td>\n",
       "      <td>2198-02-19 07:00:00</td>\n",
       "      <td>8.416667</td>\n",
       "    </tr>\n",
       "    <tr>\n",
       "      <th>32</th>\n",
       "      <td>200063.0</td>\n",
       "      <td>4</td>\n",
       "      <td>2141-03-31 11:21:00</td>\n",
       "      <td>2141-03-31 17:58:00</td>\n",
       "      <td>6.616667</td>\n",
       "    </tr>\n",
       "    <tr>\n",
       "      <th>82</th>\n",
       "      <td>200220.0</td>\n",
       "      <td>4</td>\n",
       "      <td>2148-01-25 18:00:00</td>\n",
       "      <td>2148-02-12 13:40:00</td>\n",
       "      <td>427.666667</td>\n",
       "    </tr>\n",
       "    <tr>\n",
       "      <th>127</th>\n",
       "      <td>200343.0</td>\n",
       "      <td>4</td>\n",
       "      <td>2116-09-15 19:10:00</td>\n",
       "      <td>2116-09-16 03:00:00</td>\n",
       "      <td>7.833333</td>\n",
       "    </tr>\n",
       "  </tbody>\n",
       "</table>\n",
       "</div>"
      ],
      "text/plain": [
       "     icustay_id  ventnum           starttime             endtime  \\\n",
       "17     200045.0        4 2116-07-17 17:00:00 2116-07-29 07:00:00   \n",
       "25     200059.0        4 2198-02-18 22:35:00 2198-02-19 07:00:00   \n",
       "32     200063.0        4 2141-03-31 11:21:00 2141-03-31 17:58:00   \n",
       "82     200220.0        4 2148-01-25 18:00:00 2148-02-12 13:40:00   \n",
       "127    200343.0        4 2116-09-15 19:10:00 2116-09-16 03:00:00   \n",
       "\n",
       "     duration_hours  \n",
       "17       278.000000  \n",
       "25         8.416667  \n",
       "32         6.616667  \n",
       "82       427.666667  \n",
       "127        7.833333  "
      ]
     },
     "execution_count": 4,
     "metadata": {},
     "output_type": "execute_result"
    }
   ],
   "source": [
    "# Show some sample mechanical ventilation data\n",
    "mech_vent.head()"
   ]
  },
  {
   "cell_type": "code",
   "execution_count": 5,
   "metadata": {},
   "outputs": [],
   "source": [
    "# Initialise place to store results\n",
    "result = np.zeros((6,))\n",
    "\n",
    "# Loop over every patient\n",
    "for icustay_id in np.unique(mech_vent['icustay_id']):\n",
    "    \n",
    "    # Select data for one individual patient\n",
    "    data = np.array(mech_vent[mech_vent['icustay_id']==icustay_id])\n",
    "    \n",
    "    # Calculate how many times that patient has been intubated\n",
    "    max_ventnum = max(data[:,1])\n",
    "\n",
    "    # Initialise a list to append results to\n",
    "    patient_list = []\n",
    "\n",
    "    # Loop over every instance of ventilation for that patient\n",
    "    for i in range(max_ventnum):\n",
    "    \n",
    "        previous_vent = data[i,(0,1,3)] # icustay_id, and previous ventilation number and end time\n",
    "    \n",
    "        # Account for cases where there is no re-intubation\n",
    "        try:\n",
    "            subsequent_vent = data[i+1,(1,2)] # subsesequent ventilation number and start time\n",
    "            time_diff = (subsequent_vent[-1] - previous_vent[-1]).total_seconds()/(60*60) # calculates time between extubation and re-intubation in hours\n",
    "        except:\n",
    "            subsequent_vent = np.zeros((2,))\n",
    "            time_diff = 0.0\n",
    "    \n",
    "        # Append result to a list for this patient\n",
    "        patient_list.append(np.concatenate([previous_vent, subsequent_vent, [time_diff]]))\n",
    "\n",
    "    # Convert patient list to numpy array and append to other results\n",
    "    patient_list = np.array(patient_list)\n",
    "    result = np.vstack((result, patient_list))\n",
    "\n",
    "# Convert result array to pandas DataFrame\n",
    "ri_times = pd.DataFrame(result[1:], columns=['icustay_id', 'ventprev', 'endtime', 'ventsub', 'starttime', 'timediff'])\n",
    "\n",
    "# Show some sample data\n",
    "ri_times.head()"
   ]
  },
  {
   "cell_type": "code",
   "execution_count": 47,
   "metadata": {},
   "outputs": [
    {
     "data": {
      "image/png": "[encoded data removed]",
      "text/plain": [
       "<Figure size 1080x432 with 2 Axes>"
      ]
     },
     "metadata": {
      "needs_background": "light"
     },
     "output_type": "display_data"
    }
   ],
   "source": [
    "# Calculate statistics on re-intubation\n",
    "n = len(ri_times)\n",
    "re_int = n - sum(ri_times['timediff']==0)\n",
    "ri_patients = ri_times[ri_times['timediff']>0]\n",
    "_24h = len(ri_patients[ri_patients['timediff']<=24])\n",
    "_48h = len(ri_patients[ri_patients['timediff']<=48])\n",
    "_72h = len(ri_patients[ri_patients['timediff']<=72])\n",
    "_7d = len(ri_patients[ri_patients['timediff']<=168])\n",
    "_10d = len(ri_patients[ri_patients['timediff']<=240])\n",
    "\n",
    "# Visualise re-intubation rates and re-intubation times\n",
    "fig, axs = plt.subplots(1, 2, figsize=(15,6))\n",
    "fig.suptitle('Re-Intubation ({} of {} episodes of mechanical ventilation were followed by re-intubation)'.format(re_int, n), weight='semibold', fontsize=14)\n",
    "\n",
    "# Plot the re-intubation rates\n",
    "reintubations = [\n",
    "    100 * _24h / len(ri_patients),\n",
    "    100 * _48h / len(ri_patients),\n",
    "    100 * _72h / len(ri_patients),\n",
    "    100 * _7d / len(ri_patients),\n",
    "    100 * _10d / len(ri_patients)\n",
    "]\n",
    "overalls = [\n",
    "    100 * _24h / len(ri_times),\n",
    "    100 * _48h / len(ri_times),\n",
    "    100 * _72h / len(ri_times),\n",
    "    100 * _7d / len(ri_times),\n",
    "    100 * _10d / len(ri_times)\n",
    "]\n",
    "labels = ['24 hours', '48 hours', '72 hours', '1 week', '10 days']\n",
    "x = np.arange(len(labels))\n",
    "width = 0.35\n",
    "bar1 = axs[0].bar(x - width/2, reintubations, width, label='% of re-intubations', color='firebrick')\n",
    "bar2 = axs[0].bar(x + width/2, overalls, width, label='% of total ventilations', color='royalblue')\n",
    "axs[0].set_title('Re-intubation Rates ({:.2f}% overall re-intubation rate)'.format(100*re_int/n), style='italic', weight='semibold')\n",
    "axs[0].set_xticks(x)\n",
    "axs[0].set_xticklabels(labels)\n",
    "axs[0].set_ylabel('Percentage')\n",
    "axs[0].legend()\n",
    "\n",
    "# Add a text label above bars in bar chart\n",
    "def autolabel(rects):\n",
    "    \"\"\"Attach a text label above each bar in *rects*, displaying its height.\"\"\"\n",
    "    for rect in rects:\n",
    "        height = rect.get_height()\n",
    "        axs[0].annotate('{:.1f}%'.format(height),\n",
    "                    xy=(rect.get_x() + rect.get_width() / 2, height),\n",
    "                    xytext=(2, 3),  # 3 points vertical offset\n",
    "                    textcoords=\"offset points\",\n",
    "                    ha='center', va='bottom')\n",
    "autolabel(bar1)\n",
    "autolabel(bar2)\n",
    "\n",
    "# Plot the re-intubation times\n",
    "axs[1].hist(x=ri_patients['timediff'], bins=200, color='darkgreen')\n",
    "axs[1].set_title('Time Between Extubation and Re-Intubation for Re-intubated Patients', weight='semibold')\n",
    "axs[1].set_xlim([0,240])\n",
    "axs[1].set_xticks(range(0,241,24))\n",
    "axs[1].set_xlabel('Hours since extubation')\n",
    "axs[1].set_ylabel('No. of patients')\n",
    "\n",
    "# Save plot\n",
    "plt.savefig('plots/reintubation.png');"
   ]
  },
  {
   "cell_type": "code",
   "execution_count": null,
   "metadata": {},
   "outputs": [],
   "source": [
    "# Save to re_intubation.npy\n",
    "if not os.path.exists('./data'):\n",
    "    os.makedirs('./data')\n",
    "\n",
    "tosave = {'re_intubation': ri_times}\n",
    "np.save('data/re_intubation.npy',tosave)\n",
    "print(\"Saved!\")"
   ]
  },
  {
   "cell_type": "code",
   "execution_count": null,
   "metadata": {},
   "outputs": [],
   "source": []
  }
 ],
 "metadata": {
  "kernelspec": {
   "display_name": "Python 3",
   "language": "python",
   "name": "python3"
  },
  "language_info": {
   "codemirror_mode": {
    "name": "ipython",
    "version": 3
   },
   "file_extension": ".py",
   "mimetype": "text/x-python",
   "name": "python",
   "nbconvert_exporter": "python",
   "pygments_lexer": "ipython3",
   "version": "3.7.3"
  }
 },
 "nbformat": 4,
 "nbformat_minor": 4
}
