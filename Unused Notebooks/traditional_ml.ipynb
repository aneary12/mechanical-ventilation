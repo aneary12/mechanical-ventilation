{
 "cells": [
  {
   "cell_type": "code",
   "execution_count": 2,
   "metadata": {},
   "outputs": [
    {
     "name": "stderr",
     "output_type": "stream",
     "text": [
      "Using TensorFlow backend.\n"
     ]
    }
   ],
   "source": [
    "# Import libraries\n",
    "import numpy as np\n",
    "import tensorflow as tf\n",
    "import os.path\n",
    "from sklearn import preprocessing\n",
    "from keras.models import Sequential\n",
    "from keras.layers import GRU, Flatten, Dropout, Dense, BatchNormalization, Activation\n",
    "from keras.callbacks import EarlyStopping\n",
    "from keras import optimizers\n",
    "from keras import metrics\n",
    "import itertools\n",
    "import matplotlib.pyplot as plt\n",
    "from sklearn.metrics import confusion_matrix, classification_report\n",
    "%matplotlib inline\n",
    "os.chdir('C:\\\\Users\\\\anear\\\\OneDrive - National University of Ireland, Galway\\\\PhD\\\\Research Projects\\\\Ventilation Project')"
   ]
  },
  {
   "cell_type": "code",
   "execution_count": 19,
   "metadata": {},
   "outputs": [
    {
     "name": "stdout",
     "output_type": "stream",
     "text": [
      "Loaded!\n"
     ]
    }
   ],
   "source": [
    "# Load the data\n",
    "_data = np.load('res/ML_data.npy', allow_pickle=True).tolist()\n",
    "X_train_raw = _data['X_train']\n",
    "y_train = _data['y_train']\n",
    "X_val_raw = _data['X_val']\n",
    "y_val = _data['y_val']\n",
    "X_test_raw = _data['X_test']\n",
    "y_test = _data['y_test']\n",
    "print(\"Loaded!\")"
   ]
  },
  {
   "cell_type": "code",
   "execution_count": 20,
   "metadata": {},
   "outputs": [
    {
     "name": "stdout",
     "output_type": "stream",
     "text": [
      "No. of patients: 9065\n",
      "No. of patients in train, val, test sets: 7252, 906, 907\n",
      "No. of extubation failures in train, val, test sets: 2987, 383, 390\n",
      "Proportion of extubation failures in train, val, test sets: 41.189%, 42.274%, 42.999%\n"
     ]
    }
   ],
   "source": [
    "# Print information about data\n",
    "print(\"No. of patients: {}\".format(len(y_train)+len(y_val)+len(y_test)))\n",
    "print(\"No. of patients in train, val, test sets: {}, {}, {}\".format(len(X_train), len(X_val), len(X_test)))\n",
    "print(\"No. of extubation failures in train, val, test sets: {}, {}, {}\".format(str(sum(y_train)), str(sum(y_val)), str(sum(y_test))))\n",
    "print(\"Proportion of extubation failures in train, val, test sets: {}%, {}%, {}%\".format(round(sum(y_train)/len(y_train)*100,3), round(sum(y_val)/len(y_val)*100,3), round(sum(y_test)/len(y_test)*100,3)))"
   ]
  },
  {
   "cell_type": "code",
   "execution_count": 22,
   "metadata": {},
   "outputs": [
    {
     "name": "stdout",
     "output_type": "stream",
     "text": [
      "X_train_raw: (7252, 33, 24)\n",
      "y_train: (7252,)\n",
      "X_val_raw: (906, 33, 24)\n",
      "y_val: (906,)\n",
      "X_test_raw: (907, 33, 24)\n",
      "y_test: (907,)\n"
     ]
    }
   ],
   "source": [
    "# Check the shapes of the arrays\n",
    "print(\"X_train_raw: {}\".format(np.shape(X_train_raw)))\n",
    "print(\"y_train: {}\".format(np.shape(y_train)))\n",
    "print(\"X_val_raw: {}\".format(np.shape(X_val_raw)))\n",
    "print(\"y_val: {}\".format(np.shape(y_val)))\n",
    "print(\"X_test_raw: {}\".format(np.shape(X_test_raw)))\n",
    "print(\"y_test: {}\".format(np.shape(y_test)))"
   ]
  },
  {
   "cell_type": "code",
   "execution_count": 23,
   "metadata": {},
   "outputs": [
    {
     "name": "stdout",
     "output_type": "stream",
     "text": [
      "X_train_static: (7252, 132)\n",
      "X_test_static: (907, 132)\n"
     ]
    }
   ],
   "source": [
    "# Prepare training data for non-temporal models\n",
    "m, n, T = np.shape(X_train_raw)\n",
    "X_train_static = np.zeros((m,n*4))\n",
    "for i in range(m):\n",
    "    for j in range(n):\n",
    "        feature = X_train_raw[i,j,:]\n",
    "        extracted_features = [np.min(feature), np.max(feature), np.mean(feature), np.std(feature)]\n",
    "        X_train_static[i,(j*4):(j*4+4)] = extracted_features\n",
    "        \n",
    "# Prepare test data for non-temporal models\n",
    "m, n, T = np.shape(X_test_raw)\n",
    "X_test_static = np.zeros((m,n*4))\n",
    "for i in range(m):\n",
    "    for j in range(n):\n",
    "        feature = X_test_raw[i,j,:]\n",
    "        extracted_features = [np.min(feature), np.max(feature), np.mean(feature), np.std(feature)]\n",
    "        X_test_static[i,(j*4):(j*4+4)] = extracted_features\n",
    "        \n",
    "# Check the shapes of the new arrays\n",
    "print(\"X_train_static: {}\".format(np.shape(X_train_static)))\n",
    "print(\"X_test_static: {}\".format(np.shape(X_test_static)))"
   ]
  },
  {
   "cell_type": "code",
   "execution_count": 24,
   "metadata": {},
   "outputs": [
    {
     "name": "stdout",
     "output_type": "stream",
     "text": [
      "(7252, 132)\n"
     ]
    }
   ],
   "source": [
    "# Scale the training data using a z-transform, and apply that scaler to the test data\n",
    "from sklearn.preprocessing import StandardScaler\n",
    "scaler = StandardScaler()\n",
    "X_train_scaled = scaler.fit_transform(X_train_static)\n",
    "X_test_scaled = scaler.transform(X_test_static)\n",
    "print(np.shape(X_train_scaled))"
   ]
  },
  {
   "cell_type": "code",
   "execution_count": 25,
   "metadata": {},
   "outputs": [],
   "source": [
    "# Create logistic regression classifer object\n",
    "from sklearn.linear_model import LogisticRegression\n",
    "logisticRegr = LogisticRegression(solver = \"liblinear\")\n",
    "\n",
    "# Train logistic regression classifer\n",
    "logisticRegr.fit(X_train_scaled, y_train)\n",
    "\n",
    "# Predict the response for test dataset\n",
    "y_pred = logisticRegr.predict_proba(X_test_scaled)[:,1]"
   ]
  },
  {
   "cell_type": "code",
   "execution_count": 26,
   "metadata": {},
   "outputs": [],
   "source": [
    "# Calculate TPR and FPR on the test set for plotting the ROC curve\n",
    "from sklearn.metrics import roc_curve\n",
    "fpr_lr, tpr_lr, thresholds_lr = roc_curve(y_test, y_pred)"
   ]
  },
  {
   "cell_type": "code",
   "execution_count": 29,
   "metadata": {},
   "outputs": [],
   "source": [
    "# Calculate the AUROC for the test set\n",
    "from sklearn.metrics import auc\n",
    "auc_lr = auc(fpr_lr, tpr_lr)"
   ]
  },
  {
   "cell_type": "code",
   "execution_count": 30,
   "metadata": {},
   "outputs": [
    {
     "data": {
      "image/png": "[encoded data removed]",
      "text/plain": [
       "<Figure size 576x576 with 1 Axes>"
      ]
     },
     "metadata": {
      "needs_background": "light"
     },
     "output_type": "display_data"
    }
   ],
   "source": [
    "# Choose the three thresholds\n",
    "thresh_A, thresh_B, thresh_C = 0.6, 0.35, 0.25\n",
    "A = np.where(thresholds==thresholds[thresholds>=thresh_A][-1])\n",
    "B = np.where(thresholds==thresholds[thresholds>=thresh_B][-1])\n",
    "C = np.where(thresholds==thresholds[thresholds>=thresh_C][-1])\n",
    "\n",
    "# Calculate TP, FP, TN and FN for each threshold\n",
    "[[tn_A,fp_A],[fn_A,tp_A]] = confusion_matrix(y_test, y_pred[:]>thresh_A)\n",
    "[[tn_B,fp_B],[fn_B,tp_B]] = confusion_matrix(y_test, y_pred[:]>thresh_B)\n",
    "[[tn_C,fp_C],[fn_C,tp_C]] = confusion_matrix(y_test, y_pred[:]>thresh_C)\n",
    "\n",
    "# Plot the ROC curve\n",
    "plt.figure(figsize=(8,8))\n",
    "plt.plot([0, 1], [0, 1], 'k--')\n",
    "plt.plot(fpr, tpr)\n",
    "plt.plot(fpr[A], tpr[A],'.', markersize=20, label='A - Accuracy = {:.1f}%, Sensitivity = {:.1f}%, Specificity = {:.1f}%'.format(100*(tp_A+tn_A)/(tp_A+tn_A+fp_A+fn_A), 100*tp_A/(tp_A+fn_A), 100*tn_A/(tn_A+fp_A)))\n",
    "plt.annotate('A', (fpr[A]+0.02, tpr[A]))\n",
    "plt.plot(fpr[B], tpr[B],'.', markersize=20, label='B - Accuracy = {:.1f}%, Sensitivity = {:.1f}%, Specificity = {:.1f}%'.format(100*(tp_B+tn_B)/(tp_B+tn_B+fp_B+fn_B), 100*tp_B/(tp_B+fn_B), 100*tn_B/(tn_B+fp_B)))\n",
    "plt.annotate('B', (fpr[B]-0.03, tpr[B]))\n",
    "plt.plot(fpr[C], tpr[C],'.', markersize=20, label='C - Accuracy = {:.1f}%, Sensitivity = {:.1f}%, Specificity = {:.1f}%'.format(100*(tp_C+tn_C)/(tp_C+tn_C+fp_C+fn_C), 100*tp_C/(tp_C+fn_C), 100*tn_C/(tn_C+fp_C)))\n",
    "plt.annotate('C', (fpr[C], tpr[C]-0.04))\n",
    "plt.xlabel('False Positive Rate')\n",
    "plt.ylabel('True Positive Rate')\n",
    "plt.title('Logistic Regression for Predicting Extubation Failure (AUC = {:.3f})'.format(auc))\n",
    "plt.legend(loc='lower right')\n",
    "plt.savefig('lr.png', bbox_inches='tight')\n",
    "plt.show()"
   ]
  },
  {
   "cell_type": "code",
   "execution_count": 31,
   "metadata": {},
   "outputs": [],
   "source": [
    "# Write a function that plots nice confusion matrices\n",
    "def plot_confusion_matrix(cm, classes, normalize=False, title='Confusion Matrix', cmap=plt.cm.Blues):\n",
    "    \n",
    "    \"\"\"\n",
    "    This function prints and plots the confusion matrix.\n",
    "    Normalization can be applied by setting `normalize=True`.\n",
    "    \"\"\"\n",
    "    plt.figure(figsize=(10,5))\n",
    "    plt.imshow(cm, interpolation='nearest', cmap=cmap)\n",
    "    plt.title(title)\n",
    "    plt.colorbar()\n",
    "    tick_marks = np.arange(len(classes))\n",
    "    plt.xticks(tick_marks, classes, rotation=45)\n",
    "    plt.yticks(tick_marks, classes)\n",
    "\n",
    "    if normalize:\n",
    "        cm = cm.astype('float') / cm.sum(axis=1)[:, np.newaxis]\n",
    "        cm[0][0] = round(cm[0][0],2)\n",
    "        cm[0][1] = round(cm[0][1],2)\n",
    "        cm[1][0] = round(cm[1][0],2)\n",
    "        cm[1][1] = round(cm[1][1],2)\n",
    "\n",
    "    thresh = cm.max() / 2.\n",
    "    for i, j in itertools.product(range(cm.shape[0]), range(cm.shape[1])):\n",
    "        plt.text(j, i, cm[i, j],\n",
    "            horizontalalignment=\"center\",\n",
    "            color=\"white\" if cm[i, j] > thresh else \"black\")\n",
    "\n",
    "    plt.tight_layout()\n",
    "    plt.ylabel('True label')\n",
    "    plt.xlabel('Predicted label')"
   ]
  },
  {
   "cell_type": "code",
   "execution_count": 32,
   "metadata": {},
   "outputs": [
    {
     "data": {
      "image/png": "[encoded data removed]",
      "text/plain": [
       "<Figure size 720x360 with 2 Axes>"
      ]
     },
     "metadata": {
      "needs_background": "light"
     },
     "output_type": "display_data"
    }
   ],
   "source": [
    "# Calculate the confusion matrix\n",
    "decision_threshold = thresh_B\n",
    "cm = confusion_matrix(y_test, y_pred[:]>decision_threshold)\n",
    "plot_confusion_matrix(cm, ['Success', 'Failure'], normalize=False, title='Logistic Regression')"
   ]
  },
  {
   "cell_type": "code",
   "execution_count": null,
   "metadata": {},
   "outputs": [],
   "source": []
  }
 ],
 "metadata": {
  "kernelspec": {
   "display_name": "Python 3",
   "language": "python",
   "name": "python3"
  },
  "language_info": {
   "codemirror_mode": {
    "name": "ipython",
    "version": 3
   },
   "file_extension": ".py",
   "mimetype": "text/x-python",
   "name": "python",
   "nbconvert_exporter": "python",
   "pygments_lexer": "ipython3",
   "version": "3.7.3"
  }
 },
 "nbformat": 4,
 "nbformat_minor": 4
}
