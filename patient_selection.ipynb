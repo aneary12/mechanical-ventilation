{
 "cells": [
  {
   "cell_type": "markdown",
   "metadata": {},
   "source": [
    "# Patient Selection\n",
    "\n",
    "The purpose of this notebook is to generate a list of patient ICU stays that meet the following criteria:\n",
    "- patient is at least 16 years old.\n",
    "- ICU stay lasts at least 24 hours.\n",
    "- ICU stay is the first ICU admission for that patient.\n",
    "- patient was mechanically ventilated at least once.\n",
    "\n",
    "Two pandas DataFrames are created and saved in **\"data/patients.npy\"**.\n",
    "\n",
    "The column names in ***patients*** are:\n",
    "- **subject_id** - patient identifier.\n",
    "- **hadm_id** - hospital admission identifier.\n",
    "- **icustay_id** - ICU admission identifier.\n",
    "- **gender, dob, age** - self-explanatory.\n",
    "- **admittime, dischtime** - time of hospital admission and discharge.\n",
    "- **intime, outtime** - time of ICU admission and discharge.\n",
    "- **los** - length of ICU stay in days.\n",
    "- **diagnosis** - free text diagnosis usually assigned by the admitting clinician.\n",
    "- **hospital_expire_flag** - whether the patient died during that hospital stay or not.\n",
    "- **ventnum** - the number of times they were placed on mechanical ventilation.\n",
    "\n",
    "The column names in ***mech_vent*** are:\n",
    "- **icustay_id** - ICU admission identifier.\n",
    "- **ventnum** - a counter for the number of instances of mechanical ventilation for that ICU stay (1 is the patient's first time on a ventilator, 2 is the second, etc.).\n",
    "- **starttime, endtime** - time at which the patient was intubated and extubated.\n",
    "- **duration_hours** - the duration of that instance of mechanical ventilation."
   ]
  },
  {
   "cell_type": "code",
   "execution_count": 1,
   "metadata": {},
   "outputs": [],
   "source": [
    "# Import libraries\n",
    "import numpy as np\n",
    "import pandas as pd\n",
    "import psycopg2\n",
    "import getpass\n",
    "import os.path\n",
    "import matplotlib.pyplot as plt\n",
    "%matplotlib inline"
   ]
  },
  {
   "cell_type": "code",
   "execution_count": 2,
   "metadata": {},
   "outputs": [
    {
     "name": "stdin",
     "output_type": "stream",
     "text": [
      "Password: ··········\n"
     ]
    }
   ],
   "source": [
    "# Load the database connection details\n",
    "_data = np.load('data/db_details.npy', allow_pickle=True).tolist()\n",
    "db_details = _data['db_details']\n",
    "user = db_details['user']\n",
    "host = db_details['host']\n",
    "port = db_details['port']\n",
    "dbname = db_details['dbname']\n",
    "schema = db_details['schema']\n",
    "    \n",
    "# Connect to the database\n",
    "conn = psycopg2.connect(dbname=dbname, user=user, host=host, port=port, password=getpass.getpass(prompt='Password:'.format(user)))\n",
    "cur = conn.cursor()\n",
    "cur.execute('SET search_path TO {}'.format(schema))\n",
    "conn.commit()"
   ]
  },
  {
   "cell_type": "code",
   "execution_count": 3,
   "metadata": {},
   "outputs": [],
   "source": [
    "# Load the appropriate query\n",
    "query = open('queries/icu_patients.sql', 'r')\n",
    "\n",
    "# Store the result of the query as a pandas dataframe\n",
    "icu = pd.read_sql_query(query.read(), conn)\n",
    "query.close()"
   ]
  },
  {
   "cell_type": "code",
   "execution_count": 4,
   "metadata": {},
   "outputs": [
    {
     "data": {
      "text/html": [
       "<div>\n",
       "<style scoped>\n",
       "    .dataframe tbody tr th:only-of-type {\n",
       "        vertical-align: middle;\n",
       "    }\n",
       "\n",
       "    .dataframe tbody tr th {\n",
       "        vertical-align: top;\n",
       "    }\n",
       "\n",
       "    .dataframe thead th {\n",
       "        text-align: right;\n",
       "    }\n",
       "</style>\n",
       "<table border=\"1\" class=\"dataframe\">\n",
       "  <thead>\n",
       "    <tr style=\"text-align: right;\">\n",
       "      <th></th>\n",
       "      <th>subject_id</th>\n",
       "      <th>hadm_id</th>\n",
       "      <th>icustay_id</th>\n",
       "      <th>gender</th>\n",
       "      <th>dob</th>\n",
       "      <th>age</th>\n",
       "      <th>admittime</th>\n",
       "      <th>dischtime</th>\n",
       "      <th>intime</th>\n",
       "      <th>outtime</th>\n",
       "      <th>los</th>\n",
       "      <th>diagnosis</th>\n",
       "      <th>hospital_expire_flag</th>\n",
       "    </tr>\n",
       "  </thead>\n",
       "  <tbody>\n",
       "    <tr>\n",
       "      <th>0</th>\n",
       "      <td>2</td>\n",
       "      <td>163353</td>\n",
       "      <td>243653</td>\n",
       "      <td>M</td>\n",
       "      <td>2138-07-17</td>\n",
       "      <td>0.00</td>\n",
       "      <td>2138-07-17 19:04:00</td>\n",
       "      <td>2138-07-21 15:48:00</td>\n",
       "      <td>2138-07-17 21:20:07</td>\n",
       "      <td>2138-07-17 23:32:21</td>\n",
       "      <td>0.0918</td>\n",
       "      <td>NEWBORN</td>\n",
       "      <td>0</td>\n",
       "    </tr>\n",
       "    <tr>\n",
       "      <th>1</th>\n",
       "      <td>3</td>\n",
       "      <td>145834</td>\n",
       "      <td>211552</td>\n",
       "      <td>M</td>\n",
       "      <td>2025-04-11</td>\n",
       "      <td>76.52</td>\n",
       "      <td>2101-10-20 19:08:00</td>\n",
       "      <td>2101-10-31 13:58:00</td>\n",
       "      <td>2101-10-20 19:10:11</td>\n",
       "      <td>2101-10-26 20:43:09</td>\n",
       "      <td>6.0646</td>\n",
       "      <td>HYPOTENSION</td>\n",
       "      <td>0</td>\n",
       "    </tr>\n",
       "    <tr>\n",
       "      <th>2</th>\n",
       "      <td>4</td>\n",
       "      <td>185777</td>\n",
       "      <td>294638</td>\n",
       "      <td>F</td>\n",
       "      <td>2143-05-12</td>\n",
       "      <td>47.84</td>\n",
       "      <td>2191-03-16 00:28:00</td>\n",
       "      <td>2191-03-23 18:41:00</td>\n",
       "      <td>2191-03-16 00:29:31</td>\n",
       "      <td>2191-03-17 16:46:31</td>\n",
       "      <td>1.6785</td>\n",
       "      <td>FEVER,DEHYDRATION,FAILURE TO THRIVE</td>\n",
       "      <td>0</td>\n",
       "    </tr>\n",
       "    <tr>\n",
       "      <th>3</th>\n",
       "      <td>5</td>\n",
       "      <td>178980</td>\n",
       "      <td>214757</td>\n",
       "      <td>M</td>\n",
       "      <td>2103-02-02</td>\n",
       "      <td>0.00</td>\n",
       "      <td>2103-02-02 04:31:00</td>\n",
       "      <td>2103-02-04 12:15:00</td>\n",
       "      <td>2103-02-02 06:04:24</td>\n",
       "      <td>2103-02-02 08:06:00</td>\n",
       "      <td>0.0844</td>\n",
       "      <td>NEWBORN</td>\n",
       "      <td>0</td>\n",
       "    </tr>\n",
       "    <tr>\n",
       "      <th>4</th>\n",
       "      <td>6</td>\n",
       "      <td>107064</td>\n",
       "      <td>228232</td>\n",
       "      <td>F</td>\n",
       "      <td>2109-06-21</td>\n",
       "      <td>65.94</td>\n",
       "      <td>2175-05-30 07:15:00</td>\n",
       "      <td>2175-06-15 16:00:00</td>\n",
       "      <td>2175-05-30 21:30:54</td>\n",
       "      <td>2175-06-03 13:39:54</td>\n",
       "      <td>3.6729</td>\n",
       "      <td>CHRONIC RENAL FAILURE/SDA</td>\n",
       "      <td>0</td>\n",
       "    </tr>\n",
       "  </tbody>\n",
       "</table>\n",
       "</div>"
      ],
      "text/plain": [
       "   subject_id  hadm_id  icustay_id gender        dob    age  \\\n",
       "0           2   163353      243653      M 2138-07-17   0.00   \n",
       "1           3   145834      211552      M 2025-04-11  76.52   \n",
       "2           4   185777      294638      F 2143-05-12  47.84   \n",
       "3           5   178980      214757      M 2103-02-02   0.00   \n",
       "4           6   107064      228232      F 2109-06-21  65.94   \n",
       "\n",
       "            admittime           dischtime              intime  \\\n",
       "0 2138-07-17 19:04:00 2138-07-21 15:48:00 2138-07-17 21:20:07   \n",
       "1 2101-10-20 19:08:00 2101-10-31 13:58:00 2101-10-20 19:10:11   \n",
       "2 2191-03-16 00:28:00 2191-03-23 18:41:00 2191-03-16 00:29:31   \n",
       "3 2103-02-02 04:31:00 2103-02-04 12:15:00 2103-02-02 06:04:24   \n",
       "4 2175-05-30 07:15:00 2175-06-15 16:00:00 2175-05-30 21:30:54   \n",
       "\n",
       "              outtime     los                            diagnosis  \\\n",
       "0 2138-07-17 23:32:21  0.0918                              NEWBORN   \n",
       "1 2101-10-26 20:43:09  6.0646                          HYPOTENSION   \n",
       "2 2191-03-17 16:46:31  1.6785  FEVER,DEHYDRATION,FAILURE TO THRIVE   \n",
       "3 2103-02-02 08:06:00  0.0844                              NEWBORN   \n",
       "4 2175-06-03 13:39:54  3.6729            CHRONIC RENAL FAILURE/SDA   \n",
       "\n",
       "   hospital_expire_flag  \n",
       "0                     0  \n",
       "1                     0  \n",
       "2                     0  \n",
       "3                     0  \n",
       "4                     0  "
      ]
     },
     "execution_count": 4,
     "metadata": {},
     "output_type": "execute_result"
    }
   ],
   "source": [
    "# Show some sample data\n",
    "icu.head()"
   ]
  },
  {
   "cell_type": "code",
   "execution_count": 5,
   "metadata": {},
   "outputs": [
    {
     "name": "stdout",
     "output_type": "stream",
     "text": [
      "No. of patients: 46476\n",
      "No. of hospital admissions: 57786\n",
      "No. of ICU admissions: 61532\n"
     ]
    }
   ],
   "source": [
    "# Print some statistics about the patient population\n",
    "print('No. of patients: {}'.format(len(np.unique(icu['subject_id']))))\n",
    "print('No. of hospital admissions: {}'.format(len(np.unique(icu['hadm_id']))))\n",
    "print('No. of ICU admissions: {}'.format(len(np.unique(icu['icustay_id']))))"
   ]
  },
  {
   "cell_type": "code",
   "execution_count": 6,
   "metadata": {},
   "outputs": [
    {
     "name": "stdout",
     "output_type": "stream",
     "text": [
      "Removed 7879 patients under 16 years old (corresponding to 8001 hospital admissions and 8109 ICU stays)\n"
     ]
    }
   ],
   "source": [
    "# Remove any patients under 16 years old\n",
    "adult_icu = icu[icu['age']>=16]\n",
    "print('Removed {} patients under 16 years old (corresponding to {} hospital admissions and {} ICU stays)'.format(len(np.unique(icu['subject_id']))-len(np.unique(adult_icu['subject_id'])), len(np.unique(icu['hadm_id']))-len(np.unique(adult_icu['hadm_id'])), len(np.unique(icu['icustay_id']))-len(np.unique(adult_icu['icustay_id']))))"
   ]
  },
  {
   "cell_type": "code",
   "execution_count": 7,
   "metadata": {},
   "outputs": [
    {
     "name": "stdout",
     "output_type": "stream",
     "text": [
      "Removed 4972 patients with ICU stays lasting less than 24 hours (corresponding to 7222 hospital admissions and 8102 ICU stays)\n"
     ]
    }
   ],
   "source": [
    "# Remove any patients with ICU stays under 24 hours\n",
    "adult_24h_icu = adult_icu[adult_icu['los']>=1]\n",
    "print('Removed {} patients with ICU stays lasting less than 24 hours (corresponding to {} hospital admissions and {} ICU stays)'.format(len(np.unique(adult_icu['subject_id']))-len(np.unique(adult_24h_icu['subject_id'])), len(np.unique(adult_icu['hadm_id']))-len(np.unique(adult_24h_icu['hadm_id'])), len(np.unique(adult_icu['icustay_id']))-len(np.unique(adult_24h_icu['icustay_id']))))"
   ]
  },
  {
   "cell_type": "code",
   "execution_count": 8,
   "metadata": {},
   "outputs": [
    {
     "name": "stdout",
     "output_type": "stream",
     "text": [
      "Removed 11696 ICU stays that were not the first ICU admission for that patient\n"
     ]
    }
   ],
   "source": [
    "# Select first ICU admission for each patient\n",
    "icu_sorted = adult_24h_icu.sort_values(by=['subject_id', 'intime']) # sort patients by subject ID and ICU admission time\n",
    "adult_24h_first_icu = icu_sorted.groupby('subject_id', as_index=False).first() # take the first ICU admission for each subject\n",
    "print('Removed {} ICU stays that were not the first ICU admission for that patient'.format(len(np.unique(adult_24h_icu['icustay_id']))-len(np.unique(adult_24h_first_icu['icustay_id']))))"
   ]
  },
  {
   "cell_type": "code",
   "execution_count": 9,
   "metadata": {},
   "outputs": [],
   "source": [
    "# Load the mechanical ventilation query\n",
    "query = open('queries/mechanical_ventilation.sql', 'r')\n",
    "\n",
    "# Store the result of the query as a pandas dataframe\n",
    "mech_vent = pd.read_sql_query(query.read(), conn)\n",
    "query.close()"
   ]
  },
  {
   "cell_type": "code",
   "execution_count": 10,
   "metadata": {},
   "outputs": [
    {
     "data": {
      "text/html": [
       "<div>\n",
       "<style scoped>\n",
       "    .dataframe tbody tr th:only-of-type {\n",
       "        vertical-align: middle;\n",
       "    }\n",
       "\n",
       "    .dataframe tbody tr th {\n",
       "        vertical-align: top;\n",
       "    }\n",
       "\n",
       "    .dataframe thead th {\n",
       "        text-align: right;\n",
       "    }\n",
       "</style>\n",
       "<table border=\"1\" class=\"dataframe\">\n",
       "  <thead>\n",
       "    <tr style=\"text-align: right;\">\n",
       "      <th></th>\n",
       "      <th>icustay_id</th>\n",
       "      <th>ventnum</th>\n",
       "      <th>starttime</th>\n",
       "      <th>endtime</th>\n",
       "      <th>duration_hours</th>\n",
       "    </tr>\n",
       "  </thead>\n",
       "  <tbody>\n",
       "    <tr>\n",
       "      <th>0</th>\n",
       "      <td>200003.0</td>\n",
       "      <td>1</td>\n",
       "      <td>2199-08-03 18:00:00</td>\n",
       "      <td>2199-08-07 13:00:00</td>\n",
       "      <td>91.000000</td>\n",
       "    </tr>\n",
       "    <tr>\n",
       "      <th>1</th>\n",
       "      <td>200006.0</td>\n",
       "      <td>1</td>\n",
       "      <td>2159-09-03 13:00:00</td>\n",
       "      <td>2159-09-04 03:50:00</td>\n",
       "      <td>14.833333</td>\n",
       "    </tr>\n",
       "    <tr>\n",
       "      <th>2</th>\n",
       "      <td>200009.0</td>\n",
       "      <td>1</td>\n",
       "      <td>2189-11-30 18:10:00</td>\n",
       "      <td>2189-12-01 10:00:00</td>\n",
       "      <td>15.833333</td>\n",
       "    </tr>\n",
       "    <tr>\n",
       "      <th>3</th>\n",
       "      <td>200011.0</td>\n",
       "      <td>1</td>\n",
       "      <td>2188-08-06 01:00:00</td>\n",
       "      <td>2188-08-06 04:00:00</td>\n",
       "      <td>3.000000</td>\n",
       "    </tr>\n",
       "    <tr>\n",
       "      <th>4</th>\n",
       "      <td>200014.0</td>\n",
       "      <td>1</td>\n",
       "      <td>2105-02-16 23:15:00</td>\n",
       "      <td>2105-02-17 18:00:00</td>\n",
       "      <td>18.750000</td>\n",
       "    </tr>\n",
       "  </tbody>\n",
       "</table>\n",
       "</div>"
      ],
      "text/plain": [
       "   icustay_id  ventnum           starttime             endtime  duration_hours\n",
       "0    200003.0        1 2199-08-03 18:00:00 2199-08-07 13:00:00       91.000000\n",
       "1    200006.0        1 2159-09-03 13:00:00 2159-09-04 03:50:00       14.833333\n",
       "2    200009.0        1 2189-11-30 18:10:00 2189-12-01 10:00:00       15.833333\n",
       "3    200011.0        1 2188-08-06 01:00:00 2188-08-06 04:00:00        3.000000\n",
       "4    200014.0        1 2105-02-16 23:15:00 2105-02-17 18:00:00       18.750000"
      ]
     },
     "execution_count": 10,
     "metadata": {},
     "output_type": "execute_result"
    }
   ],
   "source": [
    "# Show some sample data\n",
    "mech_vent.head()"
   ]
  },
  {
   "cell_type": "code",
   "execution_count": 11,
   "metadata": {},
   "outputs": [
    {
     "name": "stdout",
     "output_type": "stream",
     "text": [
      "Removed 34 rows with missing ICU stay IDs\n"
     ]
    }
   ],
   "source": [
    "# Remove missing ICU stay IDs\n",
    "num_missing = sum(mech_vent['icustay_id'].isna())\n",
    "mech_vent = mech_vent.dropna(subset=['icustay_id'])\n",
    "print(\"Removed {} rows with missing ICU stay IDs\".format(num_missing))"
   ]
  },
  {
   "cell_type": "code",
   "execution_count": 12,
   "metadata": {},
   "outputs": [
    {
     "name": "stdout",
     "output_type": "stream",
     "text": [
      "Removed 8612 ICU stays that don't meet the criteria above (corresponding to 12872 instances of mechanical ventilation)\n"
     ]
    }
   ],
   "source": [
    "# Select ventilation information only for patients who meet our criteria\n",
    "mech_vent_patients = mech_vent[mech_vent['icustay_id'].isin(adult_24h_first_icu['icustay_id'])]\n",
    "print(\"Removed {} ICU stays that don't meet the criteria above (corresponding to {} instances of mechanical ventilation)\".format(len(np.unique(mech_vent['icustay_id']))-len(np.unique(mech_vent_patients['icustay_id'])), len(mech_vent['icustay_id'])-len(mech_vent_patients['icustay_id'])))"
   ]
  },
  {
   "cell_type": "code",
   "execution_count": 13,
   "metadata": {},
   "outputs": [
    {
     "name": "stdout",
     "output_type": "stream",
     "text": [
      "Removed 15436 ICU stays where mechanical ventilation was not used\n"
     ]
    }
   ],
   "source": [
    "# Remove patients who were not mechanically ventilated\n",
    "adult_24h_first_icu_mv = adult_24h_first_icu[adult_24h_first_icu['icustay_id'].isin(mech_vent_patients['icustay_id'])]\n",
    "print('Removed {} ICU stays where mechanical ventilation was not used'.format(len(np.unique(adult_24h_first_icu['icustay_id']))-len(np.unique(adult_24h_first_icu_mv['icustay_id']))))"
   ]
  },
  {
   "cell_type": "code",
   "execution_count": 14,
   "metadata": {},
   "outputs": [],
   "source": [
    "# Add a column describing the number of times a patient was ventilated\n",
    "adult_24h_first_icu_mv = adult_24h_first_icu_mv.merge(mech_vent_patients.groupby(['icustay_id']).max()['ventnum'], on='icustay_id')"
   ]
  },
  {
   "cell_type": "code",
   "execution_count": 15,
   "metadata": {},
   "outputs": [
    {
     "data": {
      "text/html": [
       "<div>\n",
       "<style scoped>\n",
       "    .dataframe tbody tr th:only-of-type {\n",
       "        vertical-align: middle;\n",
       "    }\n",
       "\n",
       "    .dataframe tbody tr th {\n",
       "        vertical-align: top;\n",
       "    }\n",
       "\n",
       "    .dataframe thead th {\n",
       "        text-align: right;\n",
       "    }\n",
       "</style>\n",
       "<table border=\"1\" class=\"dataframe\">\n",
       "  <thead>\n",
       "    <tr style=\"text-align: right;\">\n",
       "      <th></th>\n",
       "      <th>subject_id</th>\n",
       "      <th>hadm_id</th>\n",
       "      <th>icustay_id</th>\n",
       "      <th>gender</th>\n",
       "      <th>dob</th>\n",
       "      <th>age</th>\n",
       "      <th>admittime</th>\n",
       "      <th>dischtime</th>\n",
       "      <th>intime</th>\n",
       "      <th>outtime</th>\n",
       "      <th>los</th>\n",
       "      <th>diagnosis</th>\n",
       "      <th>hospital_expire_flag</th>\n",
       "      <th>ventnum</th>\n",
       "    </tr>\n",
       "  </thead>\n",
       "  <tbody>\n",
       "    <tr>\n",
       "      <th>0</th>\n",
       "      <td>3</td>\n",
       "      <td>145834</td>\n",
       "      <td>211552</td>\n",
       "      <td>M</td>\n",
       "      <td>2025-04-11</td>\n",
       "      <td>76.52</td>\n",
       "      <td>2101-10-20 19:08:00</td>\n",
       "      <td>2101-10-31 13:58:00</td>\n",
       "      <td>2101-10-20 19:10:11</td>\n",
       "      <td>2101-10-26 20:43:09</td>\n",
       "      <td>6.0646</td>\n",
       "      <td>HYPOTENSION</td>\n",
       "      <td>0</td>\n",
       "      <td>1</td>\n",
       "    </tr>\n",
       "    <tr>\n",
       "      <th>1</th>\n",
       "      <td>9</td>\n",
       "      <td>150750</td>\n",
       "      <td>220597</td>\n",
       "      <td>M</td>\n",
       "      <td>2108-01-26</td>\n",
       "      <td>41.79</td>\n",
       "      <td>2149-11-09 13:06:00</td>\n",
       "      <td>2149-11-14 10:15:00</td>\n",
       "      <td>2149-11-09 13:07:02</td>\n",
       "      <td>2149-11-14 20:52:14</td>\n",
       "      <td>5.3231</td>\n",
       "      <td>HEMORRHAGIC CVA</td>\n",
       "      <td>1</td>\n",
       "      <td>1</td>\n",
       "    </tr>\n",
       "    <tr>\n",
       "      <th>2</th>\n",
       "      <td>12</td>\n",
       "      <td>112213</td>\n",
       "      <td>232669</td>\n",
       "      <td>M</td>\n",
       "      <td>2032-03-24</td>\n",
       "      <td>72.37</td>\n",
       "      <td>2104-08-07 10:15:00</td>\n",
       "      <td>2104-08-20 02:57:00</td>\n",
       "      <td>2104-08-08 02:08:17</td>\n",
       "      <td>2104-08-15 17:22:25</td>\n",
       "      <td>7.6348</td>\n",
       "      <td>PANCREATIC CANCER/SDA</td>\n",
       "      <td>1</td>\n",
       "      <td>1</td>\n",
       "    </tr>\n",
       "    <tr>\n",
       "      <th>3</th>\n",
       "      <td>13</td>\n",
       "      <td>143045</td>\n",
       "      <td>263738</td>\n",
       "      <td>F</td>\n",
       "      <td>2127-02-27</td>\n",
       "      <td>39.86</td>\n",
       "      <td>2167-01-08 18:43:00</td>\n",
       "      <td>2167-01-15 15:15:00</td>\n",
       "      <td>2167-01-08 18:44:25</td>\n",
       "      <td>2167-01-12 10:43:31</td>\n",
       "      <td>3.6660</td>\n",
       "      <td>CORONARY ARTERY DISEASE</td>\n",
       "      <td>0</td>\n",
       "      <td>1</td>\n",
       "    </tr>\n",
       "    <tr>\n",
       "      <th>4</th>\n",
       "      <td>17</td>\n",
       "      <td>194023</td>\n",
       "      <td>277042</td>\n",
       "      <td>F</td>\n",
       "      <td>2087-07-14</td>\n",
       "      <td>47.45</td>\n",
       "      <td>2134-12-27 07:15:00</td>\n",
       "      <td>2134-12-31 16:05:00</td>\n",
       "      <td>2134-12-27 16:21:48</td>\n",
       "      <td>2134-12-29 18:04:03</td>\n",
       "      <td>2.0710</td>\n",
       "      <td>PATIENT FORAMEN OVALE\\ PATENT FORAMEN OVALE MI...</td>\n",
       "      <td>0</td>\n",
       "      <td>1</td>\n",
       "    </tr>\n",
       "  </tbody>\n",
       "</table>\n",
       "</div>"
      ],
      "text/plain": [
       "   subject_id  hadm_id  icustay_id gender        dob    age  \\\n",
       "0           3   145834      211552      M 2025-04-11  76.52   \n",
       "1           9   150750      220597      M 2108-01-26  41.79   \n",
       "2          12   112213      232669      M 2032-03-24  72.37   \n",
       "3          13   143045      263738      F 2127-02-27  39.86   \n",
       "4          17   194023      277042      F 2087-07-14  47.45   \n",
       "\n",
       "            admittime           dischtime              intime  \\\n",
       "0 2101-10-20 19:08:00 2101-10-31 13:58:00 2101-10-20 19:10:11   \n",
       "1 2149-11-09 13:06:00 2149-11-14 10:15:00 2149-11-09 13:07:02   \n",
       "2 2104-08-07 10:15:00 2104-08-20 02:57:00 2104-08-08 02:08:17   \n",
       "3 2167-01-08 18:43:00 2167-01-15 15:15:00 2167-01-08 18:44:25   \n",
       "4 2134-12-27 07:15:00 2134-12-31 16:05:00 2134-12-27 16:21:48   \n",
       "\n",
       "              outtime     los  \\\n",
       "0 2101-10-26 20:43:09  6.0646   \n",
       "1 2149-11-14 20:52:14  5.3231   \n",
       "2 2104-08-15 17:22:25  7.6348   \n",
       "3 2167-01-12 10:43:31  3.6660   \n",
       "4 2134-12-29 18:04:03  2.0710   \n",
       "\n",
       "                                           diagnosis  hospital_expire_flag  \\\n",
       "0                                        HYPOTENSION                     0   \n",
       "1                                    HEMORRHAGIC CVA                     1   \n",
       "2                              PANCREATIC CANCER/SDA                     1   \n",
       "3                            CORONARY ARTERY DISEASE                     0   \n",
       "4  PATIENT FORAMEN OVALE\\ PATENT FORAMEN OVALE MI...                     0   \n",
       "\n",
       "   ventnum  \n",
       "0        1  \n",
       "1        1  \n",
       "2        1  \n",
       "3        1  \n",
       "4        1  "
      ]
     },
     "execution_count": 15,
     "metadata": {},
     "output_type": "execute_result"
    }
   ],
   "source": [
    "# Show some sample data for adult first ICU admission\n",
    "adult_24h_first_icu_mv.head()"
   ]
  },
  {
   "cell_type": "code",
   "execution_count": 16,
   "metadata": {},
   "outputs": [
    {
     "name": "stdout",
     "output_type": "stream",
     "text": [
      "No. of instances of mechanical ventilation: 25602\n",
      "No. of patients: 18189\n",
      "No. of hospital admissions: 18189\n",
      "No. of ICU admissions: 18189\n"
     ]
    }
   ],
   "source": [
    "# Print some statistics about the processed patient population\n",
    "print(\"No. of instances of mechanical ventilation: {}\".format(len(mech_vent_patients['icustay_id'])))\n",
    "print('No. of patients: {}'.format(len(np.unique(adult_24h_first_icu_mv['subject_id']))))\n",
    "print('No. of hospital admissions: {}'.format(len(np.unique(adult_24h_first_icu_mv['hadm_id']))))\n",
    "print('No. of ICU admissions: {}'.format(len(np.unique(adult_24h_first_icu_mv['icustay_id']))))"
   ]
  },
  {
   "cell_type": "code",
   "execution_count": 17,
   "metadata": {},
   "outputs": [
    {
     "data": {
      "image/png": "[encoded data removed]",
      "text/plain": [
       "<Figure size 1080x864 with 4 Axes>"
      ]
     },
     "metadata": {
      "needs_background": "light"
     },
     "output_type": "display_data"
    }
   ],
   "source": [
    "# Visualise re-intubation rate,length of ICU stay, age and gender\n",
    "fig, axs = plt.subplots(2, 2, figsize=(15,12))\n",
    "fig.suptitle('Patients >= 16 Years Old on their First Admission to ICU who Received Mechanical Ventilation({} total patients)'.format(len(adult_24h_first_icu_mv)), weight='semibold', fontsize=14)\n",
    "\n",
    "# Plot the mortality\n",
    "axs[0,0].bar(x=['One intubation only','Re-intubated at least once'], height=[len(adult_24h_first_icu_mv)-sum(adult_24h_first_icu_mv['ventnum']>1),sum(adult_24h_first_icu_mv['ventnum']>1)], color=['g','r'])\n",
    "axs[0,0].set_title('Re-intubation Rate = {:.1f}%'.format(100*sum(adult_24h_first_icu_mv['ventnum']>1)/len(adult_24h_first_icu_mv)), style='italic', weight='semibold')\n",
    "axs[0,0].set_ylabel('No. of patients')\n",
    "\n",
    "# Plot the length of stay\n",
    "axs[0,1].hist(x=adult_24h_first_icu_mv['los'], bins=250, color='maroon')\n",
    "axs[0,1].set_title('Length of ICU Stay (stays >50 days excluded from plot)', style='italic', weight='semibold')\n",
    "axs[0,1].set_xlim([0,50])\n",
    "axs[0,1].set_xticks(range(0,51,5))\n",
    "axs[0,1].set_xlabel('No. of days')\n",
    "axs[0,1].set_ylabel('No. of patients')\n",
    "\n",
    "# Plot the patient ages\n",
    "axs[1,0].hist(x=adult_24h_first_icu_mv['age'].astype('int64'), bins=75, color='gold')\n",
    "axs[1,0].set_title('Patient Ages', style='italic', weight='semibold')\n",
    "axs[1,0].set_xlim([0,100])\n",
    "axs[1,0].set_xlabel('Age in years')\n",
    "axs[1,0].set_ylabel('No. of patients')\n",
    "\n",
    "# Plot the gender breakdown\n",
    "axs[1,1].bar(x=['Male','Female'], height=[sum(adult_24h_first_icu_mv['gender']=='M'),sum(adult_24h_first_icu_mv['gender']=='F')], color=['darkblue','crimson'])\n",
    "axs[1,1].set_title('Gender Breakdown ({:.1f}% male, {:.1f}% female)'.format(100*sum(adult_24h_first_icu_mv['gender']=='M')/len(adult_24h_first_icu_mv), 100*sum(adult_24h_first_icu_mv['gender']=='F')/len(adult_24h_first_icu_mv)), style='italic', weight='semibold')\n",
    "axs[1,1].set_ylabel('No. of patients');"
   ]
  },
  {
   "cell_type": "code",
   "execution_count": 18,
   "metadata": {},
   "outputs": [
    {
     "name": "stdout",
     "output_type": "stream",
     "text": [
      "Saved!\n"
     ]
    }
   ],
   "source": [
    "# Sort patients by subject_id, then hadm_id and icustay_id\n",
    "adult_24h_first_icu_mv.sort_values(by=['subject_id', 'hadm_id', 'icustay_id'])\n",
    "\n",
    "# Save to patients.npy\n",
    "if not os.path.exists('./data'):\n",
    "    os.makedirs('./data')\n",
    "\n",
    "tosave = {'patients': adult_24h_first_icu_mv, 'mech_vent': mech_vent_patients}\n",
    "np.save('data/patients.npy',tosave)\n",
    "print(\"Saved!\")"
   ]
  }
 ],
 "metadata": {
  "kernelspec": {
   "display_name": "Python 3",
   "language": "python",
   "name": "python3"
  },
  "language_info": {
   "codemirror_mode": {
    "name": "ipython",
    "version": 3
   },
   "file_extension": ".py",
   "mimetype": "text/x-python",
   "name": "python",
   "nbconvert_exporter": "python",
   "pygments_lexer": "ipython3",
   "version": "3.7.3"
  }
 },
 "nbformat": 4,
 "nbformat_minor": 4
}
