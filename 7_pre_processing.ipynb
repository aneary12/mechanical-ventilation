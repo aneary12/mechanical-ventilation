{
 "cells": [
  {
   "cell_type": "code",
   "execution_count": 1,
   "metadata": {},
   "outputs": [],
   "source": [
    "# Import libraries\n",
    "import numpy as np\n",
    "import pandas as pd\n",
    "import time\n",
    "import os.path\n",
    "import matplotlib.pyplot as plt\n",
    "from sklearn.model_selection import train_test_split\n",
    "%matplotlib inline\n",
    "os.chdir('C:\\\\Users\\\\anear\\\\OneDrive - National University of Ireland, Galway\\\\PhD\\\\Research Projects\\\\Ventilation Project')"
   ]
  },
  {
   "cell_type": "code",
   "execution_count": 2,
   "metadata": {},
   "outputs": [
    {
     "name": "stdout",
     "output_type": "stream",
     "text": [
      "Loaded the patient data...\n",
      "... and the static features... \n",
      "... and the dynamic features!\n"
     ]
    }
   ],
   "source": [
    "# Load the patient data\n",
    "_data = np.load('data/patients.npy', allow_pickle=True).tolist()\n",
    "patients = _data['patients']\n",
    "print(\"Loaded the patient data...\")\n",
    "\n",
    "# Load the static features\n",
    "_data = np.load('data/static_features.npy', allow_pickle=True).tolist()\n",
    "admission_type = _data['admission_type']\n",
    "aids_haem_mets = _data['aids_haem_mets']\n",
    "age = _data['age']\n",
    "gender = _data['gender']\n",
    "extubation_failure = _data['extubation_failure']\n",
    "print(\"... and the static features... \")\n",
    "\n",
    "# Load the dynamic features\n",
    "_data = np.load('data/processed_features.npy', allow_pickle=True).tolist()\n",
    "bicarb = _data['bicarb']\n",
    "bilirubin = _data['bilirubin']\n",
    "bp = _data['bp']\n",
    "fio2 = _data['fio2']\n",
    "gcs_eyes = _data['gcs_eyes']\n",
    "gcs_motor = _data['gcs_motor']\n",
    "gcs_verbal = _data['gcs_verbal']\n",
    "hr = _data['hr']\n",
    "pao2 = _data['pao2']\n",
    "potassium = _data['potassium']\n",
    "sodium = _data['sodium']\n",
    "spo2 = _data['spo2']\n",
    "temp = _data['temp']\n",
    "urea = _data['urea']\n",
    "urine = _data['urine']\n",
    "wbc = _data['wbc']\n",
    "fentanyl_cv = _data['fentanyl_cv']\n",
    "fentanyl_mv = _data['fentanyl_mv']\n",
    "ie_ratio = _data['ie_ratio']\n",
    "insp_flow = _data['insp_flow']\n",
    "insp_press = _data['insp_press']\n",
    "peep = _data['peep']\n",
    "propofol_cv = _data['propofol_cv']\n",
    "propofol_mv = _data['propofol_mv']\n",
    "psv = _data['psv']\n",
    "resp = _data['resp']\n",
    "tidvol_obs = _data['tidvol_obs']\n",
    "tidvol_set = _data['tidvol_set']\n",
    "tidvol_spon = _data['tidvol_spon']\n",
    "print(\"... and the dynamic features!\")"
   ]
  },
  {
   "cell_type": "code",
   "execution_count": 3,
   "metadata": {},
   "outputs": [
    {
     "name": "stdout",
     "output_type": "stream",
     "text": [
      "admission_type - (9065, 3)\n",
      "aids_haem_mets - (9065, 3)\n",
      "age - (9065,)\n",
      "gender - (9065,)\n",
      "\n",
      "After combination - (9065, 8)\n",
      "\n",
      "Final array for static features - (9065, 24, 8)\n"
     ]
    }
   ],
   "source": [
    "# Print shapes of the static features\n",
    "print('admission_type - {}'.format(np.shape(admission_type)))\n",
    "print('aids_haem_mets - {}'.format(np.shape(aids_haem_mets)))\n",
    "print('age - {}'.format(np.shape(age)))\n",
    "print('gender - {}'.format(np.shape(gender)))\n",
    "\n",
    "# Combine static features\n",
    "static = np.hstack((admission_type, aids_haem_mets, age.reshape(-1,1), gender.reshape(-1,1)))\n",
    "\n",
    "# Check shape of combined static features\n",
    "print('')\n",
    "print('After combination - {}'.format(np.shape(static)))\n",
    "\n",
    "# Broadcast features to have 24 time steps\n",
    "hrs = 24\n",
    "full_static = static\n",
    "for i in range(hrs-1):\n",
    "    full_static = np.dstack((full_static, static))\n",
    "full_static = np.transpose(full_static, (0,2,1)) # transporse to shape (m,T,n)\n",
    "\n",
    "# Check shape of combined static features\n",
    "print('')\n",
    "print('Final array for static features - {}'.format(np.shape(full_static)))"
   ]
  },
  {
   "cell_type": "code",
   "execution_count": 4,
   "metadata": {},
   "outputs": [
    {
     "name": "stdout",
     "output_type": "stream",
     "text": [
      "bicarb - (9065, 24)\n",
      "bilirubin - (9065, 24)\n",
      "bp - (9065, 24)\n",
      "fio2 - (9065, 24)\n",
      "gcs_eyes - (9065, 24)\n",
      "gcs_verbal - (9065, 24)\n",
      "gcs_motor - (9065, 24)\n",
      "hr - (9065, 24)\n",
      "pao2 - (9065, 24)\n",
      "potassium - (9065, 24)\n",
      "sodium - (9065, 24)\n",
      "spo2 - (9065, 24)\n",
      "temp - (9065, 24)\n",
      "urea - (9065, 24)\n",
      "urine - (9065, 24)\n",
      "wbc - (9065, 24)\n",
      "fentanyl_cv - (9065, 24)\n",
      "fentanyl_mv - (9065, 24)\n",
      "ie_ratio - (9065, 24)\n",
      "insp_flow - (9065, 24)\n",
      "insp_press - (9065, 24)\n",
      "peep - (9065, 24)\n",
      "propofol_cv - (9065, 24)\n",
      "propofol_mv - (9065, 24)\n",
      "psv - (9065, 24)\n",
      "resp - (9065, 24)\n",
      "tidvol_obs - (9065, 24)\n",
      "tidvol_set - (9065, 24)\n",
      "tidvol_spon - (9065, 24)\n",
      "\n",
      "Final array for dynamic features - (9065, 24, 29)\n"
     ]
    }
   ],
   "source": [
    "dynamic = [bicarb, bilirubin, bp, fio2, gcs_eyes, gcs_verbal, gcs_motor, hr, pao2, potassium, sodium, spo2, temp, urea, urine, wbc, \\\n",
    "          fentanyl_cv, fentanyl_mv, ie_ratio, insp_flow, insp_press, peep, propofol_cv, propofol_mv, psv, resp, tidvol_obs, tidvol_set, tidvol_spon]\n",
    "\n",
    "# Print shapes of the dynamic features\n",
    "print('bicarb - {}'.format(np.shape(bicarb)))\n",
    "print('bilirubin - {}'.format(np.shape(bilirubin)))\n",
    "print('bp - {}'.format(np.shape(bp)))\n",
    "print('fio2 - {}'.format(np.shape(fio2)))\n",
    "print('gcs_eyes - {}'.format(np.shape(gcs_eyes)))\n",
    "print('gcs_verbal - {}'.format(np.shape(gcs_verbal)))\n",
    "print('gcs_motor - {}'.format(np.shape(gcs_motor)))\n",
    "print('hr - {}'.format(np.shape(hr)))\n",
    "print('pao2 - {}'.format(np.shape(pao2)))\n",
    "print('potassium - {}'.format(np.shape(potassium)))\n",
    "print('sodium - {}'.format(np.shape(sodium)))\n",
    "print('spo2 - {}'.format(np.shape(spo2)))\n",
    "print('temp - {}'.format(np.shape(temp)))\n",
    "print('urea - {}'.format(np.shape(urea)))\n",
    "print('urine - {}'.format(np.shape(urine)))\n",
    "print('wbc - {}'.format(np.shape(wbc)))\n",
    "print('fentanyl_cv - {}'.format(np.shape(fentanyl_cv)))\n",
    "print('fentanyl_mv - {}'.format(np.shape(fentanyl_mv)))\n",
    "print('ie_ratio - {}'.format(np.shape(ie_ratio)))\n",
    "print('insp_flow - {}'.format(np.shape(insp_flow)))\n",
    "print('insp_press - {}'.format(np.shape(insp_press)))\n",
    "print('peep - {}'.format(np.shape(peep)))\n",
    "print('propofol_cv - {}'.format(np.shape(propofol_cv)))\n",
    "print('propofol_mv - {}'.format(np.shape(propofol_mv)))\n",
    "print('psv - {}'.format(np.shape(psv)))\n",
    "print('resp - {}'.format(np.shape(resp)))\n",
    "print('tidvol_obs - {}'.format(np.shape(tidvol_obs)))\n",
    "print('tidvol_set - {}'.format(np.shape(tidvol_set)))\n",
    "print('tidvol_spon - {}'.format(np.shape(tidvol_spon)))\n",
    "\n",
    "# Combine dynamic features\n",
    "full_dynamic = bicarb\n",
    "for i in range(len(dynamic)-1):\n",
    "    full_dynamic = np.dstack((full_dynamic, dynamic[i+1]))\n",
    "    \n",
    "# Check shape of combined dynamic features\n",
    "print('')\n",
    "print('Final array for dynamic features - {}'.format(np.shape(full_dynamic)))"
   ]
  },
  {
   "cell_type": "code",
   "execution_count": 5,
   "metadata": {},
   "outputs": [
    {
     "name": "stdout",
     "output_type": "stream",
     "text": [
      "X - (9065, 37, 24)\n",
      "y - (9065,)\n"
     ]
    }
   ],
   "source": [
    "# Create final arrays of all data\n",
    "X = np.transpose(np.dstack((full_dynamic, full_static)), (0,2,1))\n",
    "y = extubation_failure\n",
    "print('X - {}'.format(np.shape(X)))\n",
    "print('y - {}'.format(np.shape(y)))"
   ]
  },
  {
   "cell_type": "code",
   "execution_count": 6,
   "metadata": {},
   "outputs": [
    {
     "name": "stdout",
     "output_type": "stream",
     "text": [
      "X_train: (7252, 37, 24)\n",
      "y_train: (7252,)\n",
      "X_val: (906, 37, 24)\n",
      "y_val: (906,)\n",
      "X_test: (907, 37, 24)\n",
      "y_test: (907,)\n"
     ]
    }
   ],
   "source": [
    "# Split the data into training and test sets\n",
    "X_train, X_test, y_train, y_test = train_test_split(X, y, train_size=0.8, random_state=42)\n",
    "\n",
    "# Split the test data into validation and test sets\n",
    "X_val, X_test, y_val, y_test = train_test_split(X_test, y_test, train_size=0.5, random_state=42)\n",
    "\n",
    "# Check the shapes of the outputs\n",
    "print(\"X_train: {}\".format(np.shape(X_train)))\n",
    "print(\"y_train: {}\".format(np.shape(y_train)))\n",
    "print(\"X_val: {}\".format(np.shape(X_val)))\n",
    "print(\"y_val: {}\".format(np.shape(y_val)))\n",
    "print(\"X_test: {}\".format(np.shape(X_test)))\n",
    "print(\"y_test: {}\".format(np.shape(y_test)))"
   ]
  },
  {
   "cell_type": "code",
   "execution_count": 7,
   "metadata": {},
   "outputs": [
    {
     "name": "stdout",
     "output_type": "stream",
     "text": [
      "No. of patients: 9065\n",
      "No. of patients in train, val, test sets: 7252, 906, 907\n",
      "No. of extubation failures in train, val, test sets: 2987, 383, 390\n",
      "Proportion of extubation failures in train, val, test sets: 41.189%, 42.274%, 42.999%\n"
     ]
    }
   ],
   "source": [
    "# Print information about the created arrays\n",
    "print(\"No. of patients: {}\".format(len(y)))\n",
    "print(\"No. of patients in train, val, test sets: {}, {}, {}\".format(len(X_train), len(X_val), len(X_test)))\n",
    "print(\"No. of extubation failures in train, val, test sets: {}, {}, {}\".format(str(sum(y_train)), str(sum(y_val)), str(sum(y_test))))\n",
    "print(\"Proportion of extubation failures in train, val, test sets: {}%, {}%, {}%\".format(round(sum(y_train)/len(y_train)*100,3), round(sum(y_val)/len(y_val)*100,3), round(sum(y_test)/len(y_test)*100,3)))"
   ]
  },
  {
   "cell_type": "code",
   "execution_count": 8,
   "metadata": {},
   "outputs": [],
   "source": [
    "# Write a function to normalises the data using the z-score, treating each feature separately\n",
    "def ZScoreScaler_3D(array, mean=None, std=None):\n",
    "    \n",
    "    '''\n",
    "    INPUTS:\n",
    "    array - a 3D array of shape (m, n, T), where m = number of examples, n = number of features, and T = number of time steps.\n",
    "    mean (optional) - the mean you want to apply for the scaling. If not specified, the mean will be calculated from the array.\n",
    "    std (optional) - the standard deviation you want to apply for the scaling. If not specified, the standard deviation will be calculated from the array.\n",
    "    -> note that minimum and maximum, if specified, need to be n-length vectors, where each entry represents the min/max for each feature in the array.\n",
    "    \n",
    "    OUTPUTS:\n",
    "    scaled_array - a 3D array where each entry in array has been scaled using the equation y = (x - mean) / std, and the mean/standard deviation has been calculated individually for each feature.\n",
    "    mean_vector (optional) - an n-length vector where each entry is the mean for each feature. Only returned if mean is not specified.\n",
    "    std_vector (optional) - an n-length vector where each entry is the standard deviation for each feature. Only returned if std is not specified.\n",
    "    '''\n",
    "    \n",
    "    # First, get the dimensions of the input array\n",
    "    m, n, T = np.shape(array)\n",
    "    \n",
    "    # Calculate the mean of each feature\n",
    "    if mean == None:\n",
    "        mean_vector = []\n",
    "        for i in range(n):\n",
    "            mean_vector.append(np.mean(array[:,i,:]))\n",
    "        no_mean_std = True # used for deciding whether to output the min_vector at the end\n",
    "    else:\n",
    "        mean_vector = mean\n",
    "        no_mean_std = False\n",
    "    \n",
    "    # Calculate the standard deviation of each feature\n",
    "    if std == None:\n",
    "        std_vector = []\n",
    "        for i in range(n):\n",
    "            std_vector.append(np.std(array[:,i,:]))\n",
    "    else:\n",
    "        std_vector = std\n",
    "        \n",
    "    # Scale each feature using the formula: y = (x - mean) / std\n",
    "    scaled_array = np.zeros((m,n,T))\n",
    "    for i in range(n):\n",
    "        scaled_array[:,i,:] = (array[:,i,:] - mean_vector[i]) / std_vector[i]\n",
    "    \n",
    "    # Return the outputs\n",
    "    if no_mean_std == True:\n",
    "        return scaled_array, mean_vector, std_vector\n",
    "    else:\n",
    "        return scaled_array"
   ]
  },
  {
   "cell_type": "code",
   "execution_count": 9,
   "metadata": {},
   "outputs": [
    {
     "name": "stdout",
     "output_type": "stream",
     "text": [
      "X_train_norm: (7252, 37, 24)\n",
      "X_val_norm: (906, 37, 24)\n",
      "X_test_norm: (907, 37, 24)\n"
     ]
    }
   ],
   "source": [
    "# Scale the training data, and save the scaler\n",
    "X_train_norm, mean_vector, std_vector = ZScoreScaler_3D(X_train)\n",
    "\n",
    "# Use the same scaler to scale the validation and test data\n",
    "X_val_norm = ZScoreScaler_3D(X_val, mean_vector, std_vector)\n",
    "X_test_norm = ZScoreScaler_3D(X_test, mean_vector, std_vector)\n",
    "\n",
    "# Check the shapes of the outputs\n",
    "print(\"X_train_norm: {}\".format(np.shape(X_train_norm)))\n",
    "print(\"X_val_norm: {}\".format(np.shape(X_val_norm)))\n",
    "print(\"X_test_norm: {}\".format(np.shape(X_test_norm)))"
   ]
  },
  {
   "cell_type": "code",
   "execution_count": 12,
   "metadata": {},
   "outputs": [
    {
     "name": "stdout",
     "output_type": "stream",
     "text": [
      "Saved!\n"
     ]
    }
   ],
   "source": [
    "# Save to ML_data.npy\n",
    "if not os.path.exists('./res'):\n",
    "    os.makedirs('./res')\n",
    "\n",
    "tosave = {'X_train': X_train, 'X_val': X_val, 'X_test': X_test, \\\n",
    "          'X_train_norm': X_train_norm, 'X_val_norm': X_val_norm, 'X_test_norm': X_test_norm, \\\n",
    "          'y_train': y_train, 'y_val': y_val, 'y_test': y_test}\n",
    "np.save('data/ML_data.npy',tosave)\n",
    "print(\"Saved!\")"
   ]
  },
  {
   "cell_type": "code",
   "execution_count": 13,
   "metadata": {},
   "outputs": [
    {
     "name": "stdout",
     "output_type": "stream",
     "text": [
      "Loaded the patient data...\n"
     ]
    }
   ],
   "source": [
    "# Load the patient data\n",
    "_data = np.load('data/ML_data.npy', allow_pickle=True).tolist()\n",
    "X_train = _data['X_train']\n",
    "print(\"Loaded the patient data...\")"
   ]
  },
  {
   "cell_type": "code",
   "execution_count": 14,
   "metadata": {},
   "outputs": [],
   "source": [
    "# Extract data for some individual\n",
    "id = 2\n",
    "time = np.arange(24)\n",
    "patient_data = X_train[id,:,:]\n",
    "hr = patient_data[7,:]\n",
    "bp = patient_data[2,:]\n",
    "rr = patient_data[25,:]"
   ]
  },
  {
   "cell_type": "code",
   "execution_count": 15,
   "metadata": {},
   "outputs": [
    {
     "data": {
      "image/png": "[encoded data removed]",
      "text/plain": [
       "<Figure size 576x360 with 1 Axes>"
      ]
     },
     "metadata": {
      "needs_background": "light"
     },
     "output_type": "display_data"
    }
   ],
   "source": [
    "# Plot the processed HR data for hospital admission ID 145834\n",
    "plt.figure(figsize=(8,5))\n",
    "plt.plot((time+1)-24, bp, marker=\"o\", label = 'Systolic Blood Pressure')\n",
    "plt.plot((time+1)-24, hr, marker=\"o\", label = 'Heart Rate')\n",
    "plt.plot((time+1)-24, rr, marker=\"o\", label = 'Respiratory Rate')\n",
    "plt.xlabel('Time (Hours Until Extubation)')\n",
    "plt.xticks(ticks=np.arange(-24, 0.1, step=4), labels=np.arange(0, 25, step=4)[::-1])\n",
    "plt.ylabel('Measurement Value')\n",
    "plt.title('Data for an Individual Patient')\n",
    "plt.legend(loc='upper center', bbox_to_anchor=(0.5, 0.42))\n",
    "plt.savefig('plots/patient.png', bbox_inches='tight')\n",
    "plt.show()"
   ]
  }
 ],
 "metadata": {
  "kernelspec": {
   "display_name": "Python 3",
   "language": "python",
   "name": "python3"
  },
  "language_info": {
   "codemirror_mode": {
    "name": "ipython",
    "version": 3
   },
   "file_extension": ".py",
   "mimetype": "text/x-python",
   "name": "python",
   "nbconvert_exporter": "python",
   "pygments_lexer": "ipython3",
   "version": "3.7.3"
  }
 },
 "nbformat": 4,
 "nbformat_minor": 4
}
