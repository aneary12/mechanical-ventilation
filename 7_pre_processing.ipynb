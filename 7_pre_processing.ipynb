{
 "cells": [
  {
   "cell_type": "code",
   "execution_count": 1,
   "metadata": {},
   "outputs": [],
   "source": [
    "# Import libraries\n",
    "import numpy as np\n",
    "import pandas as pd\n",
    "import time\n",
    "import os.path\n",
    "import matplotlib.pyplot as plt\n",
    "from sklearn.model_selection import train_test_split\n",
    "%matplotlib inline\n",
    "os.chdir('C:\\\\Users\\\\anear\\\\OneDrive - National University of Ireland, Galway\\\\PhD\\\\Research Projects\\\\Ventilation Project')"
   ]
  },
  {
   "cell_type": "code",
   "execution_count": 2,
   "metadata": {},
   "outputs": [
    {
     "name": "stdout",
     "output_type": "stream",
     "text": [
      "Loaded the patient data...\n",
      "... and the static features... \n",
      "... and the 6-hour features...\n",
      "... and the 12-hour features...\n",
      "... and the 24-hour features!\n"
     ]
    }
   ],
   "source": [
    "# Load the patient data\n",
    "_data = np.load('data/patients.npy', allow_pickle=True).tolist()\n",
    "patients = _data['patients']\n",
    "print(\"Loaded the patient data...\")\n",
    "\n",
    "# Load the static features\n",
    "_data = np.load('data/static_features.npy', allow_pickle=True).tolist()\n",
    "reint_5d = _data['reint_5d']\n",
    "admission_type = _data['admission_type']\n",
    "aids_haem_mets = _data['aids_haem_mets']\n",
    "age = _data['age']\n",
    "gender = _data['gender']\n",
    "extubation_failure = _data['extubation_failure']\n",
    "print(\"... and the static features... \")\n",
    "\n",
    "# Load the 6-hour features\n",
    "_data = np.load('data/processed_features.npy', allow_pickle=True).tolist()\n",
    "h6_bicarb = _data['h6_bicarb']\n",
    "h6_bilirubin = _data['h6_bilirubin']\n",
    "h6_bp = _data['h6_bp']\n",
    "h6_fio2 = _data['h6_fio2']\n",
    "h6_gcs_eyes = _data['h6_gcs_eyes']\n",
    "h6_gcs_motor = _data['h6_gcs_motor']\n",
    "h6_gcs_verbal = _data['h6_gcs_verbal']\n",
    "h6_hr = _data['h6_hr']\n",
    "h6_pao2 = _data['h6_pao2']\n",
    "h6_potassium = _data['h6_potassium']\n",
    "h6_sodium = _data['h6_sodium']\n",
    "h6_spo2 = _data['h6_spo2']\n",
    "h6_temp = _data['h6_temp']\n",
    "h6_urea = _data['h6_urea']\n",
    "h6_urine = _data['h6_urine']\n",
    "h6_wbc = _data['h6_wbc']\n",
    "h6_fentanyl_cv = _data['h6_fentanyl_cv']\n",
    "h6_fentanyl_mv = _data['h6_fentanyl_mv']\n",
    "h6_ie_ratio = _data['h6_ie_ratio']\n",
    "h6_insp_flow = _data['h6_insp_flow']\n",
    "h6_insp_press = _data['h6_insp_press']\n",
    "h6_peep = _data['h6_peep']\n",
    "h6_propofol_cv = _data['h6_propofol_cv']\n",
    "h6_propofol_mv = _data['h6_propofol_mv']\n",
    "h6_psv = _data['h6_psv']\n",
    "h6_resp = _data['h6_resp']\n",
    "h6_tidvol_obs = _data['h6_tidvol_obs']\n",
    "h6_tidvol_set = _data['h6_tidvol_set']\n",
    "h6_tidvol_spon = _data['h6_tidvol_spon']\n",
    "print(\"... and the 6-hour features...\")\n",
    "\n",
    "# Load the 12-hour features\n",
    "_data = np.load('data/processed_features.npy', allow_pickle=True).tolist()\n",
    "h12_bicarb = _data['h12_bicarb']\n",
    "h12_bilirubin = _data['h12_bilirubin']\n",
    "h12_bp = _data['h12_bp']\n",
    "h12_fio2 = _data['h12_fio2']\n",
    "h12_gcs_eyes = _data['h12_gcs_eyes']\n",
    "h12_gcs_motor = _data['h12_gcs_motor']\n",
    "h12_gcs_verbal = _data['h12_gcs_verbal']\n",
    "h12_hr = _data['h12_hr']\n",
    "h12_pao2 = _data['h12_pao2']\n",
    "h12_potassium = _data['h12_potassium']\n",
    "h12_sodium = _data['h12_sodium']\n",
    "h12_spo2 = _data['h12_spo2']\n",
    "h12_temp = _data['h12_temp']\n",
    "h12_urea = _data['h12_urea']\n",
    "h12_urine = _data['h12_urine']\n",
    "h12_wbc = _data['h12_wbc']\n",
    "h12_fentanyl_cv = _data['h12_fentanyl_cv']\n",
    "h12_fentanyl_mv = _data['h12_fentanyl_mv']\n",
    "h12_ie_ratio = _data['h12_ie_ratio']\n",
    "h12_insp_flow = _data['h12_insp_flow']\n",
    "h12_insp_press = _data['h12_insp_press']\n",
    "h12_peep = _data['h12_peep']\n",
    "h12_propofol_cv = _data['h12_propofol_cv']\n",
    "h12_propofol_mv = _data['h12_propofol_mv']\n",
    "h12_psv = _data['h12_psv']\n",
    "h12_resp = _data['h12_resp']\n",
    "h12_tidvol_obs = _data['h12_tidvol_obs']\n",
    "h12_tidvol_set = _data['h12_tidvol_set']\n",
    "h12_tidvol_spon = _data['h12_tidvol_spon']\n",
    "print(\"... and the 12-hour features...\")\n",
    "\n",
    "# Load the 24-hour features\n",
    "_data = np.load('data/processed_features.npy', allow_pickle=True).tolist()\n",
    "h24_bicarb = _data['h24_bicarb']\n",
    "h24_bilirubin = _data['h24_bilirubin']\n",
    "h24_bp = _data['h24_bp']\n",
    "h24_fio2 = _data['h24_fio2']\n",
    "h24_gcs_eyes = _data['h24_gcs_eyes']\n",
    "h24_gcs_motor = _data['h24_gcs_motor']\n",
    "h24_gcs_verbal = _data['h24_gcs_verbal']\n",
    "h24_hr = _data['h24_hr']\n",
    "h24_pao2 = _data['h24_pao2']\n",
    "h24_potassium = _data['h24_potassium']\n",
    "h24_sodium = _data['h24_sodium']\n",
    "h24_spo2 = _data['h24_spo2']\n",
    "h24_temp = _data['h24_temp']\n",
    "h24_urea = _data['h24_urea']\n",
    "h24_urine = _data['h24_urine']\n",
    "h24_wbc = _data['h24_wbc']\n",
    "h24_fentanyl_cv = _data['h24_fentanyl_cv']\n",
    "h24_fentanyl_mv = _data['h24_fentanyl_mv']\n",
    "h24_ie_ratio = _data['h24_ie_ratio']\n",
    "h24_insp_flow = _data['h24_insp_flow']\n",
    "h24_insp_press = _data['h24_insp_press']\n",
    "h24_peep = _data['h24_peep']\n",
    "h24_propofol_cv = _data['h24_propofol_cv']\n",
    "h24_propofol_mv = _data['h24_propofol_mv']\n",
    "h24_psv = _data['h24_psv']\n",
    "h24_resp = _data['h24_resp']\n",
    "h24_tidvol_obs = _data['h24_tidvol_obs']\n",
    "h24_tidvol_set = _data['h24_tidvol_set']\n",
    "h24_tidvol_spon = _data['h24_tidvol_spon']\n",
    "print(\"... and the 24-hour features!\")"
   ]
  },
  {
   "cell_type": "code",
   "execution_count": 3,
   "metadata": {},
   "outputs": [
    {
     "name": "stdout",
     "output_type": "stream",
     "text": [
      "reint_5d - (8966,)\n",
      "admission_type - (8966, 3)\n",
      "aids_haem_mets - (8966, 3)\n",
      "age - (8966,)\n",
      "gender - (8966,)\n",
      "\n",
      "After combination - (8966, 9)\n",
      "\n",
      "Final array for static features - (8966, 24, 9)\n"
     ]
    }
   ],
   "source": [
    "# Print shapes of the static features\n",
    "print('reint_5d - {}'.format(np.shape(reint_5d)))\n",
    "print('admission_type - {}'.format(np.shape(admission_type)))\n",
    "print('aids_haem_mets - {}'.format(np.shape(aids_haem_mets)))\n",
    "print('age - {}'.format(np.shape(age)))\n",
    "print('gender - {}'.format(np.shape(gender)))\n",
    "\n",
    "# Combine static features\n",
    "static = np.hstack((reint_5d.reshape(-1,1), admission_type, aids_haem_mets, age.reshape(-1,1), gender.reshape(-1,1)))\n",
    "\n",
    "# Check shape of combined static features\n",
    "print('')\n",
    "print('After combination - {}'.format(np.shape(static)))\n",
    "\n",
    "# Broadcast features to have 24 time steps\n",
    "hrs = 24\n",
    "full_static = static\n",
    "for i in range(hrs-1):\n",
    "    full_static = np.dstack((full_static, static))\n",
    "full_static = np.transpose(full_static, (0,2,1)) # transporse to shape (m,T,n)\n",
    "\n",
    "# Check shape of combined static features\n",
    "print('')\n",
    "print('Final array for static features - {}'.format(np.shape(full_static)))"
   ]
  },
  {
   "cell_type": "code",
   "execution_count": 10,
   "metadata": {},
   "outputs": [
    {
     "name": "stdout",
     "output_type": "stream",
     "text": [
      "Final array for 6-hour dynamic features - (8966, 24, 29)\n",
      "Final array for 12-hour dynamic features - (8966, 24, 29)\n",
      "Final array for 24-hour dynamic features - (8966, 24, 29)\n"
     ]
    }
   ],
   "source": [
    "h6_dynamic = [h6_bicarb, h6_bilirubin, h6_bp, h6_fio2, h6_gcs_eyes, h6_gcs_verbal, h6_gcs_motor, h6_hr, h6_pao2, h6_potassium, h6_sodium, h6_spo2, h6_temp, h6_urea, h6_urine, h6_wbc, \\\n",
    "          h6_fentanyl_cv, h6_fentanyl_mv, h6_ie_ratio, h6_insp_flow, h6_insp_press, h6_peep, h6_propofol_cv, h6_propofol_mv, h6_psv, h6_resp, h6_tidvol_obs, h6_tidvol_set, h6_tidvol_spon]\n",
    "\n",
    "h12_dynamic = [h12_bicarb, h12_bilirubin, h12_bp, h12_fio2, h12_gcs_eyes, h12_gcs_verbal, h12_gcs_motor, h12_hr, h12_pao2, h12_potassium, h12_sodium, h12_spo2, h12_temp, h12_urea, h12_urine, h12_wbc, \\\n",
    "          h12_fentanyl_cv, h12_fentanyl_mv, h12_ie_ratio, h12_insp_flow, h12_insp_press, h12_peep, h12_propofol_cv, h12_propofol_mv, h12_psv, h12_resp, h12_tidvol_obs, h12_tidvol_set, h12_tidvol_spon]\n",
    "\n",
    "h24_dynamic = [h24_bicarb, h24_bilirubin, h24_bp, h24_fio2, h24_gcs_eyes, h24_gcs_verbal, h24_gcs_motor, h24_hr, h24_pao2, h24_potassium, h24_sodium, h24_spo2, h24_temp, h24_urea, h24_urine, h24_wbc, \\\n",
    "          h24_fentanyl_cv, h24_fentanyl_mv, h24_ie_ratio, h24_insp_flow, h24_insp_press, h24_peep, h24_propofol_cv, h24_propofol_mv, h24_psv, h6_resp, h24_tidvol_obs, h24_tidvol_set, h24_tidvol_spon]\n",
    "\n",
    "# Print shapes of the dynamic features\n",
    "#print('bicarb - {}'.format(np.shape(bicarb)))\n",
    "#print('bilirubin - {}'.format(np.shape(bilirubin)))\n",
    "#print('bp - {}'.format(np.shape(bp)))\n",
    "#print('fio2 - {}'.format(np.shape(fio2)))\n",
    "#print('gcs_eyes - {}'.format(np.shape(gcs_eyes)))\n",
    "#print('gcs_verbal - {}'.format(np.shape(gcs_verbal)))\n",
    "#print('gcs_motor - {}'.format(np.shape(gcs_motor)))\n",
    "#print('hr - {}'.format(np.shape(hr)))\n",
    "#print('pao2 - {}'.format(np.shape(pao2)))\n",
    "#print('potassium - {}'.format(np.shape(potassium)))\n",
    "#print('sodium - {}'.format(np.shape(sodium)))\n",
    "#print('spo2 - {}'.format(np.shape(spo2)))\n",
    "#print('temp - {}'.format(np.shape(temp)))\n",
    "#print('urea - {}'.format(np.shape(urea)))\n",
    "#print('urine - {}'.format(np.shape(urine)))\n",
    "#print('wbc - {}'.format(np.shape(wbc)))\n",
    "#print('fentanyl_cv - {}'.format(np.shape(fentanyl_cv)))\n",
    "#print('fentanyl_mv - {}'.format(np.shape(fentanyl_mv)))\n",
    "#print('ie_ratio - {}'.format(np.shape(ie_ratio)))\n",
    "#print('insp_flow - {}'.format(np.shape(insp_flow)))\n",
    "#print('insp_press - {}'.format(np.shape(insp_press)))\n",
    "#print('peep - {}'.format(np.shape(peep)))\n",
    "#print('propofol_cv - {}'.format(np.shape(propofol_cv)))\n",
    "#print('propofol_mv - {}'.format(np.shape(propofol_mv)))\n",
    "#print('psv - {}'.format(np.shape(psv)))\n",
    "#print('resp - {}'.format(np.shape(resp)))\n",
    "#print('tidvol_obs - {}'.format(np.shape(tidvol_obs)))\n",
    "#print('tidvol_set - {}'.format(np.shape(tidvol_set)))\n",
    "#print('tidvol_spon - {}'.format(np.shape(tidvol_spon)))\n",
    "\n",
    "# Combine 6-hour dynamic features\n",
    "full_h6_dynamic = h6_bicarb\n",
    "for i in range(len(h6_dynamic)-1):\n",
    "    full_h6_dynamic = np.dstack((full_h6_dynamic, h6_dynamic[i+1]))\n",
    "    \n",
    "# Combine 12-hour dynamic features\n",
    "full_h12_dynamic = h12_bicarb\n",
    "for i in range(len(h12_dynamic)-1):\n",
    "    full_h12_dynamic = np.dstack((full_h12_dynamic, h12_dynamic[i+1]))\n",
    "    \n",
    "# Combine 24-hour dynamic features\n",
    "full_h24_dynamic = h24_bicarb\n",
    "for i in range(len(h24_dynamic)-1):\n",
    "    full_h24_dynamic = np.dstack((full_h24_dynamic, h24_dynamic[i+1]))\n",
    "    \n",
    "# Check shape of combined dynamic features\n",
    "print('Final array for 6-hour dynamic features - {}'.format(np.shape(full_h6_dynamic)))\n",
    "print('Final array for 12-hour dynamic features - {}'.format(np.shape(full_h12_dynamic)))\n",
    "print('Final array for 24-hour dynamic features - {}'.format(np.shape(full_h24_dynamic)))"
   ]
  },
  {
   "cell_type": "code",
   "execution_count": 22,
   "metadata": {},
   "outputs": [
    {
     "name": "stdout",
     "output_type": "stream",
     "text": [
      "X_6h - (8966, 38, 24)\n",
      "X_12h - (8966, 38, 24)\n",
      "X_24h - (8966, 38, 24)\n",
      "y - (8966,)\n"
     ]
    }
   ],
   "source": [
    "# Create final arrays of all data\n",
    "X_6h = np.transpose(np.dstack((full_static[:,:,0], full_h6_dynamic, full_static[:,:,1:])), (0,2,1))\n",
    "X_12h = np.transpose(np.dstack((full_static[:,:,0], full_h12_dynamic, full_static[:,:,1:])), (0,2,1))\n",
    "X_24h = np.transpose(np.dstack((full_static[:,:,0], full_h24_dynamic, full_static[:,:,1:])), (0,2,1))\n",
    "y = extubation_failure\n",
    "print('X_6h - {}'.format(np.shape(X_6h)))\n",
    "print('X_12h - {}'.format(np.shape(X_12h)))\n",
    "print('X_24h - {}'.format(np.shape(X_24h)))\n",
    "print('y - {}'.format(np.shape(y)))"
   ]
  },
  {
   "cell_type": "code",
   "execution_count": 23,
   "metadata": {},
   "outputs": [],
   "source": [
    "# Split the 6-hour data into training, validation and test sets\n",
    "X_6h_train, X_6h_test, y_6h_train, y_6h_test = train_test_split(X_6h, y, train_size=0.8, random_state=0)\n",
    "X_6h_val, X_6h_test, y_6h_val, y_6h_test = train_test_split(X_6h_test, y_6h_test, train_size=0.5, random_state=0)\n",
    "\n",
    "# Split the 12-hour data into training, validation and test sets\n",
    "X_12h_train, X_12h_test, y_12h_train, y_12h_test = train_test_split(X_12h, y, train_size=0.8, random_state=0)\n",
    "X_12h_val, X_12h_test, y_12h_val, y_12h_test = train_test_split(X_12h_test, y_12h_test, train_size=0.5, random_state=0)\n",
    "\n",
    "# Split the 24-hour data into training, validation and test sets\n",
    "X_24h_train, X_24h_test, y_24h_train, y_24h_test = train_test_split(X_24h, y, train_size=0.8, random_state=0)\n",
    "X_24h_val, X_24h_test, y_24h_val, y_24h_test = train_test_split(X_24h_test, y_24h_test, train_size=0.5, random_state=0)\n",
    "\n",
    "# Check the shapes of the outputs\n",
    "#print(\"X_train: {}\".format(np.shape(X_train)))\n",
    "#print(\"y_train: {}\".format(np.shape(y_train)))\n",
    "#print(\"X_val: {}\".format(np.shape(X_val)))\n",
    "#print(\"y_val: {}\".format(np.shape(y_val)))\n",
    "#print(\"X_test: {}\".format(np.shape(X_test)))\n",
    "#print(\"y_test: {}\".format(np.shape(y_test)))"
   ]
  },
  {
   "cell_type": "code",
   "execution_count": 24,
   "metadata": {},
   "outputs": [
    {
     "name": "stdout",
     "output_type": "stream",
     "text": [
      "No. of patients: 8966\n",
      "No. of patients in train, val, test sets: 7172, 897, 897\n",
      "No. of extubation failures in train, val, test sets: 2636.0, 325.0, 320.0\n",
      "Proportion of extubation failures in train, val, test sets: 36.754%, 36.232%, 35.674%\n"
     ]
    }
   ],
   "source": [
    "# Print information about the created arrays\n",
    "print(\"No. of patients: {}\".format(len(y)))\n",
    "print(\"No. of patients in train, val, test sets: {}, {}, {}\".format(len(X_24h_train), len(X_24h_val), len(X_24h_test)))\n",
    "print(\"No. of extubation failures in train, val, test sets: {}, {}, {}\".format(str(sum(y_24h_train)), str(sum(y_24h_val)), str(sum(y_24h_test))))\n",
    "print(\"Proportion of extubation failures in train, val, test sets: {}%, {}%, {}%\".format(round(sum(y_24h_train)/len(y_24h_train)*100,3), round(sum(y_24h_val)/len(y_24h_val)*100,3), round(sum(y_24h_test)/len(y_24h_test)*100,3)))"
   ]
  },
  {
   "cell_type": "code",
   "execution_count": 34,
   "metadata": {},
   "outputs": [],
   "source": [
    "# Define vector for filtering patients re-intubated after 5 days\n",
    "reint_6h_train = X_6h_train[:,0,0].astype(int)\n",
    "reint_6h_val = X_6h_val[:,0,0].astype(int)\n",
    "reint_6h_test = X_6h_test[:,0,0].astype(int)\n",
    "reint_12h_train = X_12h_train[:,0,0].astype(int)\n",
    "reint_12h_val = X_12h_val[:,0,0].astype(int)\n",
    "reint_12h_test = X_12h_test[:,0,0].astype(int)\n",
    "reint_24h_train = X_24h_train[:,0,0].astype(int)\n",
    "reint_24h_val = X_24h_val[:,0,0].astype(int)\n",
    "reint_24h_test = X_24h_test[:,0,0].astype(int)"
   ]
  },
  {
   "cell_type": "code",
   "execution_count": 38,
   "metadata": {},
   "outputs": [
    {
     "data": {
      "text/plain": [
       "(7090, 38, 24)"
      ]
     },
     "execution_count": 38,
     "metadata": {},
     "output_type": "execute_result"
    }
   ],
   "source": [
    "np.shape(X_6h_train[reint_6h_train==0,:,:])"
   ]
  },
  {
   "cell_type": "code",
   "execution_count": 39,
   "metadata": {},
   "outputs": [],
   "source": [
    "# Write a function to normalises the data using the z-score, treating each feature separately\n",
    "def ZScoreScaler_3D(array, mean=None, std=None):\n",
    "    \n",
    "    '''\n",
    "    INPUTS:\n",
    "    array - a 3D array of shape (m, n, T), where m = number of examples, n = number of features, and T = number of time steps.\n",
    "    mean (optional) - the mean you want to apply for the scaling. If not specified, the mean will be calculated from the array.\n",
    "    std (optional) - the standard deviation you want to apply for the scaling. If not specified, the standard deviation will be calculated from the array.\n",
    "    -> note that minimum and maximum, if specified, need to be n-length vectors, where each entry represents the min/max for each feature in the array.\n",
    "    \n",
    "    OUTPUTS:\n",
    "    scaled_array - a 3D array where each entry in array has been scaled using the equation y = (x - mean) / std, and the mean/standard deviation has been calculated individually for each feature.\n",
    "    mean_vector (optional) - an n-length vector where each entry is the mean for each feature. Only returned if mean is not specified.\n",
    "    std_vector (optional) - an n-length vector where each entry is the standard deviation for each feature. Only returned if std is not specified.\n",
    "    '''\n",
    "    \n",
    "    # First, get the dimensions of the input array\n",
    "    m, n, T = np.shape(array)\n",
    "    \n",
    "    # Calculate the mean of each feature\n",
    "    if mean == None:\n",
    "        mean_vector = []\n",
    "        for i in range(n):\n",
    "            mean_vector.append(np.mean(array[:,i,:]))\n",
    "        no_mean_std = True # used for deciding whether to output the min_vector at the end\n",
    "    else:\n",
    "        mean_vector = mean\n",
    "        no_mean_std = False\n",
    "    \n",
    "    # Calculate the standard deviation of each feature\n",
    "    if std == None:\n",
    "        std_vector = []\n",
    "        for i in range(n):\n",
    "            std_vector.append(np.std(array[:,i,:]))\n",
    "    else:\n",
    "        std_vector = std\n",
    "        \n",
    "    # Scale each feature using the formula: y = (x - mean) / std\n",
    "    scaled_array = np.zeros((m,n,T))\n",
    "    for i in range(n):\n",
    "        scaled_array[:,i,:] = (array[:,i,:] - mean_vector[i]) / std_vector[i]\n",
    "    \n",
    "    # Return the outputs\n",
    "    if no_mean_std == True:\n",
    "        return scaled_array, mean_vector, std_vector\n",
    "    else:\n",
    "        return scaled_array"
   ]
  },
  {
   "cell_type": "code",
   "execution_count": 40,
   "metadata": {},
   "outputs": [
    {
     "data": {
      "text/plain": [
       "(7172, 37, 24)"
      ]
     },
     "execution_count": 40,
     "metadata": {},
     "output_type": "execute_result"
    }
   ],
   "source": [
    "np.shape(X_6h_train[:,1:,:])"
   ]
  },
  {
   "cell_type": "code",
   "execution_count": 41,
   "metadata": {},
   "outputs": [],
   "source": [
    "# Scale the training data, and save the scaler\n",
    "X_6h_train_norm, mean_6h_vector, std_6h_vector = ZScoreScaler_3D(X_6h_train[:,1:,:])\n",
    "X_12h_train_norm, mean_12h_vector, std_12h_vector = ZScoreScaler_3D(X_12h_train[:,1:,:])\n",
    "X_24h_train_norm, mean_24h_vector, std_24h_vector = ZScoreScaler_3D(X_24h_train[:,1:,:])\n",
    "\n",
    "# Use the same scaler to scale the validation and test data\n",
    "X_6h_val_norm = ZScoreScaler_3D(X_6h_val[:,1:,:], mean_6h_vector, std_6h_vector)\n",
    "X_6h_test_norm = ZScoreScaler_3D(X_6h_test[:,1:,:], mean_6h_vector, std_6h_vector)\n",
    "X_12h_val_norm = ZScoreScaler_3D(X_12h_val[:,1:,:], mean_12h_vector, std_12h_vector)\n",
    "X_12h_test_norm = ZScoreScaler_3D(X_12h_test[:,1:,:], mean_12h_vector, std_12h_vector)\n",
    "X_24h_val_norm = ZScoreScaler_3D(X_24h_val[:,1:,:], mean_24h_vector, std_24h_vector)\n",
    "X_24h_test_norm = ZScoreScaler_3D(X_24h_test[:,1:,:], mean_24h_vector, std_24h_vector)\n",
    "\n",
    "# Check the shapes of the outputs\n",
    "#print(\"X_train_norm: {}\".format(np.shape(X_train_norm)))\n",
    "#print(\"X_val_norm: {}\".format(np.shape(X_val_norm)))\n",
    "#print(\"X_test_norm: {}\".format(np.shape(X_test_norm)))"
   ]
  },
  {
   "cell_type": "code",
   "execution_count": 42,
   "metadata": {},
   "outputs": [
    {
     "name": "stdout",
     "output_type": "stream",
     "text": [
      "Saved!\n"
     ]
    }
   ],
   "source": [
    "# Save to ML_data.npy\n",
    "if not os.path.exists('./res'):\n",
    "    os.makedirs('./res')\n",
    "\n",
    "tosave = {\n",
    "    'X_6h_train': X_6h_train, 'X_6h_val': X_6h_val, 'X_6h_test': X_6h_test,\n",
    "    'X_6h_train_norm': X_6h_train_norm, 'X_6h_val_norm': X_6h_val_norm, 'X_6h_test_norm': X_6h_test_norm,\n",
    "    'y_6h_train': y_6h_train, 'y_6h_val': y_6h_val, 'y_6h_test': y_6h_test,\n",
    "    'reint_6h_train': reint_6h_train, 'reint_6h_val': reint_6h_val, 'reint_6h_test': reint_6h_test,\n",
    "    'X_12h_train': X_12h_train, 'X_12h_val': X_12h_val, 'X_12h_test': X_12h_test,\n",
    "    'X_12h_train_norm': X_12h_train_norm, 'X_12h_val_norm': X_12h_val_norm, 'X_12h_test_norm': X_12h_test_norm,\n",
    "    'y_12h_train': y_12h_train, 'y_12h_val': y_12h_val, 'y_12h_test': y_12h_test,\n",
    "    'reint_12h_train': reint_12h_train, 'reint_12h_val': reint_12h_val, 'reint_12h_test': reint_12h_test,\n",
    "    'X_24h_train': X_24h_train, 'X_24h_val': X_24h_val, 'X_24h_test': X_24h_test,\n",
    "    'X_24h_train_norm': X_24h_train_norm, 'X_24h_val_norm': X_24h_val_norm, 'X_24h_test_norm': X_24h_test_norm,\n",
    "    'y_24h_train': y_24h_train, 'y_24h_val': y_24h_val, 'y_24h_test': y_24h_test, \n",
    "    'reint_24h_train': reint_24h_train, 'reint_24h_val': reint_24h_val, 'reint_24h_test': reint_24h_test\n",
    "}\n",
    "np.save('data/ML_data.npy',tosave)\n",
    "print(\"Saved!\")"
   ]
  },
  {
   "cell_type": "code",
   "execution_count": null,
   "metadata": {},
   "outputs": [],
   "source": [
    "# Load the patient data\n",
    "_data = np.load('data/ML_data.npy', allow_pickle=True).tolist()\n",
    "X_6h_train = _data['X_6h_train']\n",
    "X_12h_train = _data['X_12h_train']\n",
    "X_24h_train = _data['X_24h_train']\n",
    "print(\"Loaded the patient data...\")"
   ]
  },
  {
   "cell_type": "code",
   "execution_count": null,
   "metadata": {},
   "outputs": [],
   "source": [
    "# Extract data for some individual\n",
    "id = 56\n",
    "time = np.arange(24)\n",
    "patient_6h_data = X_6h_train[id,:,:]\n",
    "patient_12h_data = X_12h_train[id,:,:]\n",
    "patient_24h_data = X_24h_train[id,:,:]\n",
    "hr_6h = patient_6h_data[7,:]\n",
    "bp_6h = patient_6h_data[2,:]\n",
    "rr_6h = patient_6h_data[25,:]\n",
    "hr_12h = patient_12h_data[7,:]\n",
    "bp_12h = patient_12h_data[2,:]\n",
    "rr_12h = patient_12h_data[25,:]\n",
    "hr_24h = patient_24h_data[7,:]\n",
    "bp_24h = patient_24h_data[2,:]\n",
    "rr_24h = patient_24h_data[25,:]"
   ]
  },
  {
   "cell_type": "code",
   "execution_count": null,
   "metadata": {},
   "outputs": [],
   "source": [
    "# Plot the processed HR data for hospital admission ID 145834\n",
    "plt.figure(figsize=(8,5))\n",
    "# Plot 6-hour time series\n",
    "plt.plot((time+1)/4-6, bp_6h, marker=\"o\", label = 'Systolic Blood Pressure (6 hours)')\n",
    "plt.plot((time+1)/4-6, hr_6h, marker=\"*\", label = 'Heart Rate (6 hours)')\n",
    "plt.plot((time+1)/4-6, rr_6h, marker=\".\", label = 'Respiratory Rate (6 hours)')\n",
    "# Plot 12-hour time series\n",
    "plt.plot((time+0.5)/2-12, bp_12h, marker=\"o\", label = 'Systolic Blood Pressure (12 hours)')\n",
    "plt.plot((time+0.5)/2-12, hr_12h, marker=\"*\", label = 'Heart Rate (12 hours)')\n",
    "plt.plot((time+0.5)/2-12, rr_12h, marker=\".\", label = 'Respiratory Rate (12 hours)')\n",
    "# Plot 24-hour time series\n",
    "plt.plot((time+0.25)-24, bp_24h, marker=\"o\", label = 'Systolic Blood Pressure (24 hours)')\n",
    "plt.plot((time+0.25)-24, hr_24h, marker=\"*\", label = 'Heart Rate (24 hours)')\n",
    "plt.plot((time+0.25)-24, rr_24h, marker=\".\", label = 'Respiratory Rate (24 hours)')\n",
    "plt.xlabel('Time (Hours Until Extubation)')\n",
    "plt.xticks(ticks=np.arange(-24, 0.1, step=4), labels=np.arange(0, 25, step=4)[::-1])\n",
    "plt.ylabel('Measurement Value')\n",
    "plt.title('Data for an Individual Patient')\n",
    "plt.legend()#loc='upper center', bbox_to_anchor=(0.5, 0.42))\n",
    "plt.savefig('plots/patient.png', bbox_inches='tight')\n",
    "plt.show()"
   ]
  },
  {
   "cell_type": "code",
   "execution_count": null,
   "metadata": {},
   "outputs": [],
   "source": [
    "full_static"
   ]
  },
  {
   "cell_type": "code",
   "execution_count": null,
   "metadata": {},
   "outputs": [],
   "source": []
  }
 ],
 "metadata": {
  "kernelspec": {
   "display_name": "Python 3",
   "language": "python",
   "name": "python3"
  },
  "language_info": {
   "codemirror_mode": {
    "name": "ipython",
    "version": 3
   },
   "file_extension": ".py",
   "mimetype": "text/x-python",
   "name": "python",
   "nbconvert_exporter": "python",
   "pygments_lexer": "ipython3",
   "version": "3.7.3"
  }
 },
 "nbformat": 4,
 "nbformat_minor": 4
}
